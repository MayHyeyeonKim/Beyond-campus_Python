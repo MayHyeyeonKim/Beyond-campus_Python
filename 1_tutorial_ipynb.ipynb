{
  "nbformat": 4,
  "nbformat_minor": 0,
  "metadata": {
    "colab": {
      "name": "1_tutorial.ipynb의 사본",
      "provenance": [],
      "collapsed_sections": [],
      "include_colab_link": true
    },
    "kernelspec": {
      "name": "python3",
      "display_name": "Python 3"
    },
    "language_info": {
      "name": "python"
    }
  },
  "cells": [
    {
      "cell_type": "markdown",
      "metadata": {
        "id": "view-in-github",
        "colab_type": "text"
      },
      "source": [
        "<a href=\"https://colab.research.google.com/github/MayHyeyeonKim/Beyond-campus_Python/blob/main/1_tutorial_ipynb.ipynb\" target=\"_parent\"><img src=\"https://colab.research.google.com/assets/colab-badge.svg\" alt=\"Open In Colab\"/></a>"
      ]
    },
    {
      "cell_type": "markdown",
      "source": [
        "## Python & Google Colab 과 친해지기\n",
        "\n",
        "Google Colab에서는 누구나 파이썬 코드를 작성하고, 실행해볼 수 있습니다.\n",
        "\n",
        "개발 환경을 설정하느라 끙끙대본 경험이 있으신가요?\n",
        "구글 계정만 있으면 그럴 필요가 없지요!"
      ],
      "metadata": {
        "id": "mNEuIWkflLQ-"
      }
    },
    {
      "cell_type": "markdown",
      "source": [
        "### 친해지길 바라 STEP 1. 파이썬 코드 실행해보기\n",
        "\n",
        "다음 코드는 What time is it now? 라는 문장을 화면에 보여줍니다.\n",
        "\n",
        "코드를 실행하는 방법은 다음과 같습니다.\n",
        "\n",
        "1. 코드 영역에 마우스 갖다 대기\n",
        "2. 왼쪽에 나타나는 play 버튼(화살표 버튼) 누르기\n",
        "\n",
        "✳︎ 처음 실행할 때는 몇 초 정도 시간이 걸릴 수 있어요. 잠깐 기다려주세요!"
      ],
      "metadata": {
        "id": "eDhPpG37mOb9"
      }
    },
    {
      "cell_type": "code",
      "source": [
        "print(\"What time is it now?\")"
      ],
      "metadata": {
        "id": "eqZu24dhlg7K",
        "colab": {
          "base_uri": "https://localhost:8080/"
        },
        "outputId": "e6d254ea-0840-4acb-f2a8-ee4c6db44de6"
      },
      "execution_count": null,
      "outputs": [
        {
          "output_type": "stream",
          "name": "stdout",
          "text": [
            "What time is it now?\n"
          ]
        }
      ]
    },
    {
      "cell_type": "markdown",
      "source": [
        "### 친해지길 바라 STEP 2. 파이썬 코드 작성해보기\n",
        "\n",
        "`print()`는 괄호 안에 어떤 값을 넣으면 이를 화면에 출력해줍니다.\n",
        "지금이 몇 시인지 출력하는 코드를 작성해보세요."
      ],
      "metadata": {
        "id": "yBe-yl53m3Nk"
      }
    },
    {
      "cell_type": "code",
      "source": [
        "# TODO: 지금이 몇 시 몇 분인지 출력하는 코드를 작성해보세요. 예를 들어 14:30처럼 작성하면 됩니다.\n",
        "print(\"12:01\")"
      ],
      "metadata": {
        "id": "f8YvSoAMnM90",
        "colab": {
          "base_uri": "https://localhost:8080/"
        },
        "outputId": "f7dc3c95-e6f7-4d70-a797-1e90fe784f65"
      },
      "execution_count": null,
      "outputs": [
        {
          "output_type": "stream",
          "name": "stdout",
          "text": [
            "12:01\n"
          ]
        }
      ]
    },
    {
      "cell_type": "markdown",
      "source": [
        "🚨 코드를 작성하고 실행했더니, 에러가 나왔다면?\n",
        "\n",
        "* `NameError: name '어쩌고' is not defined`가 나온 경우\n",
        "  * 문장의 맨 앞과 맨 뒤에 따옴표를 넣어주세요. \n",
        "  * single quote를 써도 되고, double quotes를 써도 됩니다. 다만 둘 중 한 가지만 사용해주세요. 단, `'어쩌고\"`처럼 둘을 혼용하면 안 됩니다.\n",
        "* `SyntaxError: EOL while scanning string literal`이 나온 경우\n",
        "  * 따옴표를 안 닫거나, 괄호를 안 닫은 경우 이런 에러가 발생합니다. \n",
        "  * 따옴표를 제대로 여닫았는지, 괄호를 제대로 여닫았는지 확인해보세요.\n",
        "  * `'어쩌고\"`처럼 여는 괄호와 닫는 괄호가 다른 건 아닌지도 확인해보세요."
      ],
      "metadata": {
        "id": "zNsjK1uFzxG_"
      }
    },
    {
      "cell_type": "markdown",
      "source": [
        "### 친해지길 바라 STEP 3. 변수 써보기\n",
        "\n",
        "\n",
        "**변수란?**\n",
        "\n",
        "변수는 하나의 값을 저장할 수 있는 저장공간으로, 나중에 다시 사용하기 위해 기억해야 할 정보를 저장하기 위해 사용합니다.\n",
        "\n",
        "변수를 만들 때는 `=`를 기준으로 왼쪽에 변수 이름을, 오른쪽에 대입할 값을 입력합니다.\n",
        "\n",
        "예시: `x = 3 + 5`, `y = x + 5`\n",
        "\n",
        "---\n",
        "\n",
        "이러면 너무 비인간적인 설명이지요.\n",
        "\n",
        "수학 시간을 기억하나요? 우린 이때 변수를 배웠습니다. \n",
        "\n",
        "> `x = 10`이다. `y = 2x + 3`일 때 y의 값을 구하시오.\n",
        "\n",
        "변수는 모든 걸 받아들일 수 있는 마법의 공간이지요. 자연수 3부터 \b소수 10.7, 실수 √2, 심지어는 세상에 존재하지 않는 (2i + 3) 같은 허수까지!\n",
        "\n",
        "파이썬에서도 마찬가지입니다. 변수는 마법의 공간입니다."
      ],
      "metadata": {
        "id": "VmtJZJQMvpBD"
      }
    },
    {
      "cell_type": "code",
      "source": [
        "# TODO: 지금이 몇 시 몇 분인지를 current_time이라는 변수에 저장해보세요.\n",
        "\n",
        "current_time = \"12:16\""
      ],
      "metadata": {
        "id": "7vE61qx1vpVI"
      },
      "execution_count": null,
      "outputs": []
    },
    {
      "cell_type": "code",
      "source": [
        "# 변수는 이렇게 재사용이 가능하답니다!\n",
        "print(\"상대: 지금 몇 시죠?\")\n",
        "\n",
        "print(f\"당신: {current_time}이네요.\")\n",
        "\n",
        "print(f\"상대: {current_time}시요? 어쩐지 피곤하더라니.\")"
      ],
      "metadata": {
        "id": "cDDZveuCvpsU",
        "colab": {
          "base_uri": "https://localhost:8080/"
        },
        "outputId": "95805df5-050e-4981-d812-a93686046094"
      },
      "execution_count": null,
      "outputs": [
        {
          "output_type": "stream",
          "name": "stdout",
          "text": [
            "상대: 지금 몇 시죠?\n",
            "당신: 12:16이네요.\n",
            "상대: 12:16시요? 어쩐지 피곤하더라니.\n"
          ]
        }
      ]
    },
    {
      "cell_type": "markdown",
      "source": [
        "## 궁금한 것 해결하고 가기"
      ],
      "metadata": {
        "id": "-K0JWd07pItX"
      }
    },
    {
      "cell_type": "markdown",
      "source": [
        "### Q. 왜 print를 하려면 따옴표를 써야 하는 걸까?\n",
        "\n",
        "> A. 엄밀히 말하면 무조건 따옴표를 써야 하는 건 아니에요. \n",
        "\n",
        "이건 괄호 안에 어떤 `타입`의 값이 들어오냐에 따라 다릅니다."
      ],
      "metadata": {
        "id": "-UQMLIrxqEYR"
      }
    },
    {
      "cell_type": "code",
      "source": [
        "# 예를 들어 이런 숫자 **타입**은 괄호를 쓰지 않고도 출력할 수 있지요.\n",
        "\n",
        "print(3)"
      ],
      "metadata": {
        "id": "5IURef0lpi5C",
        "colab": {
          "base_uri": "https://localhost:8080/"
        },
        "outputId": "8aef3ea3-3bdb-4095-e80e-43c14a43c5dd"
      },
      "execution_count": null,
      "outputs": [
        {
          "output_type": "stream",
          "name": "stdout",
          "text": [
            "3\n"
          ]
        }
      ]
    },
    {
      "cell_type": "code",
      "source": [
        "# 물론 3 앞뒤로 괄호를 넣어도 출력할 수 있어요.\n",
        "\n",
        "print(\"3\")"
      ],
      "metadata": {
        "id": "eBjIru2JqtVX",
        "colab": {
          "base_uri": "https://localhost:8080/"
        },
        "outputId": "bd073781-415b-437b-8354-582c03a9fcd4"
      },
      "execution_count": null,
      "outputs": [
        {
          "output_type": "stream",
          "name": "stdout",
          "text": [
            "3\n"
          ]
        }
      ]
    },
    {
      "cell_type": "markdown",
      "source": [
        "### Q. `타입`이 뭐예요?\n",
        "\n",
        "> A. 데이터 타입이란 데이터의 형태를 의미합니다. 파이썬에는 많은 타입이 있으며, 이 중 대표적인 것은 숫자, 문자열 타입을 꼽을 수 있습니다. 타입에 따라 같은 행위도 다른 결과를 낼 수 있습니다.\n",
        "\n",
        "이러면 너무 불친절하고, 비인간적인 설명이지요? \n",
        "하지만 인간도 무의식적으로 타입을 나눠서 반응한답니다.\n",
        "\n",
        "---\n",
        "\n",
        "> \"`쿠키`랑 `몬스터`랑 합치면 뭐가 돼?\"\n",
        "\n",
        "라는 질문에는 `쿠키 몬스터`라고 답을 하시겠지요. \n",
        "\n",
        "하지만 누군가,\n",
        "\n",
        "> 야, 3이랑 5를 합치면 뭐냐?\n",
        "\n",
        "라고 물을 때 사람들은 8이라고 말하지, 35라고 말하지는 않습니다.\n",
        "\n",
        "전자는 문자열이고 후자는 숫자입니다. 사람들은 의식하지 않고도 은연중에 둘을 구분해서 쓰는 것이지요."
      ],
      "metadata": {
        "id": "COlHImRQsEHx"
      }
    },
    {
      "cell_type": "code",
      "source": [
        "# 숫자 3과 숫자 5를 합치면 8이 되지요\n",
        "\n",
        "print(3 + 5)"
      ],
      "metadata": {
        "id": "nRrF4O3AsHQu",
        "colab": {
          "base_uri": "https://localhost:8080/"
        },
        "outputId": "99463630-fc82-476b-b321-f5fa0bb22bf3"
      },
      "execution_count": null,
      "outputs": [
        {
          "output_type": "stream",
          "name": "stdout",
          "text": [
            "8\n"
          ]
        }
      ]
    },
    {
      "cell_type": "code",
      "source": [
        "# 그렇다면 문자열 \"3\"과 문자열 \"5\"를 합치면 어떻게 될까요?\n",
        "\n",
        "print(\"3\" + \"5\")"
      ],
      "metadata": {
        "id": "dIBQUHP5sHKu",
        "colab": {
          "base_uri": "https://localhost:8080/"
        },
        "outputId": "c0438a92-fd39-47d7-d223-ce7b9a1366fa"
      },
      "execution_count": null,
      "outputs": [
        {
          "output_type": "stream",
          "name": "stdout",
          "text": [
            "35\n"
          ]
        }
      ]
    },
    {
      "cell_type": "code",
      "source": [
        "# 그렇다면 숫자 3과 문자열 \"5\"를 합치면 어떻게 될까요?\n",
        "\n",
        "print(3 + \"5\")"
      ],
      "metadata": {
        "id": "YRrD1iHbveaG",
        "colab": {
          "base_uri": "https://localhost:8080/",
          "height": 205
        },
        "outputId": "b99241d6-eda2-4f8a-a551-aec9dc609bf9"
      },
      "execution_count": null,
      "outputs": [
        {
          "output_type": "error",
          "ename": "TypeError",
          "evalue": "ignored",
          "traceback": [
            "\u001b[0;31m---------------------------------------------------------------------------\u001b[0m",
            "\u001b[0;31mTypeError\u001b[0m                                 Traceback (most recent call last)",
            "\u001b[0;32m<ipython-input-15-9999a1076b54>\u001b[0m in \u001b[0;36m<module>\u001b[0;34m()\u001b[0m\n\u001b[1;32m      1\u001b[0m \u001b[0;31m# 그렇다면 숫자 3과 문자열 \"5\"를 합치면 어떻게 될까요?\u001b[0m\u001b[0;34m\u001b[0m\u001b[0;34m\u001b[0m\u001b[0;34m\u001b[0m\u001b[0m\n\u001b[1;32m      2\u001b[0m \u001b[0;34m\u001b[0m\u001b[0m\n\u001b[0;32m----> 3\u001b[0;31m \u001b[0mprint\u001b[0m\u001b[0;34m(\u001b[0m\u001b[0;36m3\u001b[0m \u001b[0;34m+\u001b[0m \u001b[0;34m\"5\"\u001b[0m\u001b[0;34m)\u001b[0m\u001b[0;34m\u001b[0m\u001b[0;34m\u001b[0m\u001b[0m\n\u001b[0m",
            "\u001b[0;31mTypeError\u001b[0m: unsupported operand type(s) for +: 'int' and 'str'"
          ]
        }
      ]
    },
    {
      "cell_type": "code",
      "source": [
        ""
      ],
      "metadata": {
        "id": "bpl5JhfVRg46"
      },
      "execution_count": null,
      "outputs": []
    }
  ]
}