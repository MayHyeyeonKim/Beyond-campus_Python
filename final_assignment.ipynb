{
  "cells": [
    {
      "cell_type": "markdown",
      "metadata": {
        "id": "view-in-github",
        "colab_type": "text"
      },
      "source": [
        "<a href=\"https://colab.research.google.com/github/MayHyeyeonKim/Beyond-campus_Python/blob/main/final_assignment.ipynb\" target=\"_parent\"><img src=\"https://colab.research.google.com/assets/colab-badge.svg\" alt=\"Open In Colab\"/></a>"
      ]
    },
    {
      "cell_type": "markdown",
      "metadata": {
        "id": "2E0yK3klJwWP"
      },
      "source": [
        "# 입사 D+3: 오후"
      ]
    },
    {
      "cell_type": "markdown",
      "metadata": {
        "id": "LRlmjUvxXWmm"
      },
      "source": [
        "# 과제: 운송장에 들어갈 정보를 주소별로 정렬하자\n",
        "\n",
        "아래와 같은 파일이 주어졌을 때\n",
        "\n",
        "```\n",
        "양준성,빨간색,대전광역시\n",
        "박운비,빨간색,대구광역시\n",
        "김나숙,빨간색,광주광역시\n",
        "박아은,빨간색,인천광역시\n",
        "지성원,빨간색,인천광역시\n",
        "권지비,빨간색,대전광역시\n",
        "김세비,빨간색,부산광역시\n",
        "이하라,빨간색,부산광역시\n",
        "배주연,빨간색,광주광역시\n",
        "이재하,빨간색,광주광역시\n",
        "백동하,빨간색,서울특별시\n",
        "김효수,빨간색,서울특별시\n",
        "최면하,빨간색,인천광역시\n",
        "우은다,빨간색,광주광역시\n",
        "이수비,빨간색,대전광역시\n",
        "김승지,빨간색,부산광역시\n",
        "노지성,빨간색,서울특별시\n",
        "이당하,빨간색,울산광역시\n",
        "조견하,빨간색,대구광역시\n",
        "```\n",
        "\n",
        "다음과 같이 파일 내용물이 주소 순으로 나오게 만들자\n",
        "\n",
        "```\n",
        "김나숙,빨간색,광주광역시\n",
        "배주연,빨간색,광주광역시\n",
        "이재하,빨간색,광주광역시\n",
        "우은다,빨간색,광주광역시\n",
        "박운비,빨간색,대구광역시\n",
        "조견하,빨간색,대구광역시\n",
        "양준성,빨간색,대전광역시\n",
        "권지비,빨간색,대전광역시\n",
        "이수비,빨간색,대전광역시\n",
        "김세비,빨간색,부산광역시\n",
        "이하라,빨간색,부산광역시\n",
        "김승지,빨간색,부산광역시\n",
        "백동하,빨간색,서울특별시\n",
        "김효수,빨간색,서울특별시\n",
        "노지성,빨간색,서울특별시\n",
        "이당하,빨간색,울산광역시\n",
        "박아은,빨간색,인천광역시\n",
        "지성원,빨간색,인천광역시\n",
        "최면하,빨간색,인천광역시\n",
        "```"
      ]
    },
    {
      "cell_type": "markdown",
      "metadata": {
        "id": "0uq2zt3RrpzO"
      },
      "source": [
        "## 1. 빨간색 파일 읽기\n",
        "\n",
        "어제 나눈 파일은 week4/originals 디렉토리 안에 있습니다.\n",
        "이 중 빨간색.txt 파일의 내용물을 읽어 주세요."
      ]
    },
    {
      "cell_type": "code",
      "execution_count": null,
      "metadata": {
        "id": "sAQj-6ZlPUmU"
      },
      "outputs": [],
      "source": [
        "from google.colab import drive"
      ]
    },
    {
      "cell_type": "code",
      "execution_count": null,
      "metadata": {
        "colab": {
          "base_uri": "https://localhost:8080/"
        },
        "id": "za9xgjJVPXK0",
        "outputId": "c7b72f15-4250-4b72-9db4-fd639226d26d"
      },
      "outputs": [
        {
          "name": "stdout",
          "output_type": "stream",
          "text": [
            "Drive already mounted at /content/drive; to attempt to forcibly remount, call drive.mount(\"/content/drive\", force_remount=True).\n"
          ]
        }
      ],
      "source": [
        "drive.mount('/content/drive')"
      ]
    },
    {
      "cell_type": "code",
      "execution_count": null,
      "metadata": {
        "colab": {
          "base_uri": "https://localhost:8080/"
        },
        "id": "ceVNp7h4zSkH",
        "outputId": "89ca371e-a7aa-45e3-cf6f-ad8b3e51f322"
      },
      "outputs": [
        {
          "name": "stdout",
          "output_type": "stream",
          "text": [
            "/content/drive/My Drive\n"
          ]
        }
      ],
      "source": [
        "absolute_path = '/content/drive/My Drive'\n",
        "%cd $absolute_path"
      ]
    },
    {
      "cell_type": "code",
      "execution_count": null,
      "metadata": {
        "id": "jcWjfOYAnC74"
      },
      "outputs": [],
      "source": [
        "# 코드를 작성해주세요\n",
        "with open('PythonCourse/week4/originals/빨간색.txt', 'r') as f:\n",
        "    content = f.read()"
      ]
    },
    {
      "cell_type": "code",
      "execution_count": null,
      "metadata": {
        "id": "CJrQGxnMSSzF"
      },
      "outputs": [],
      "source": [
        "# 코드를 작성해주세요\n",
        "with open('PythonLecture/Week4/original/빨간색.txt', 'r') as f:\n",
        "    content = f.read()"
      ]
    },
    {
      "cell_type": "markdown",
      "metadata": {
        "id": "1xUtDsRPwbEF"
      },
      "source": [
        "## 2. 리스트의 내용물을 주소 순으로 정렬하기"
      ]
    },
    {
      "cell_type": "markdown",
      "metadata": {
        "id": "2DcTZ-DbTGDD"
      },
      "source": [
        "### 2-1. 줄 단위로 문자열 쪼개기"
      ]
    },
    {
      "cell_type": "code",
      "execution_count": null,
      "metadata": {
        "id": "qaq71-jnwqXA"
      },
      "outputs": [],
      "source": [
        "# 코드를 작성해주세요\n",
        "lines = content.splitlines()"
      ]
    },
    {
      "cell_type": "markdown",
      "metadata": {
        "id": "LdrrCFYeTJMQ"
      },
      "source": [
        "### 2-2. 앞서 결과로 나온 리스트를 주소 순으로 정렬하기"
      ]
    },
    {
      "cell_type": "code",
      "execution_count": null,
      "metadata": {
        "colab": {
          "base_uri": "https://localhost:8080/"
        },
        "id": "v48r-qlaTPD1",
        "outputId": "e16b9e6f-826d-4765-cce3-55de1ac3c18d"
      },
      "outputs": [
        {
          "data": {
            "text/plain": [
              "['김나숙,빨간색,광주광역시',\n",
              " '배주연,빨간색,광주광역시',\n",
              " '이재하,빨간색,광주광역시',\n",
              " '우은다,빨간색,광주광역시',\n",
              " '임성엉,빨간색,광주광역시',\n",
              " '송지미,빨간색,광주광역시',\n",
              " '김서하,빨간색,광주광역시',\n",
              " '최미유,빨간색,광주광역시',\n",
              " '홍수원,빨간색,광주광역시',\n",
              " '박하은,빨간색,광주광역시',\n",
              " '김동수,빨간색,광주광역시',\n",
              " '최예련,빨간색,광주광역시',\n",
              " '하나비,빨간색,광주광역시',\n",
              " '이지하,빨간색,광주광역시',\n",
              " '정예영,빨간색,광주광역시',\n",
              " '최근연,빨간색,광주광역시',\n",
              " '조상하,빨간색,광주광역시',\n",
              " '오보나,빨간색,광주광역시',\n",
              " '박하서,빨간색,광주광역시',\n",
              " '전전준,빨간색,광주광역시',\n",
              " '김영수,빨간색,광주광역시',\n",
              " '김보연,빨간색,광주광역시',\n",
              " '박서채,빨간색,광주광역시',\n",
              " '조혀하,빨간색,광주광역시',\n",
              " '양서연,빨간색,광주광역시',\n",
              " '이의하,빨간색,광주광역시',\n",
              " '한동견,빨간색,광주광역시',\n",
              " '조하원,빨간색,광주광역시',\n",
              " '오전운,빨간색,광주광역시',\n",
              " '김지서,빨간색,광주광역시']"
            ]
          },
          "execution_count": 163,
          "metadata": {},
          "output_type": "execute_result"
        }
      ],
      "source": [
        "# 코드를 작성해주세요\n",
        "lines.sort(key = lambda element: element.split(\",\")[-1])\n",
        "lines[:30]"
      ]
    },
    {
      "cell_type": "markdown",
      "metadata": {
        "id": "aSQugS2gw0rc"
      },
      "source": [
        "## 3. 정렬한 리스트를 다시 문자열로 합치기\n",
        "\n",
        "\"\\n\".join 을 이용하여 리스트를 다시 문자열로 합쳐주세요"
      ]
    },
    {
      "cell_type": "code",
      "execution_count": 171,
      "metadata": {
        "id": "JTYj_9KQTbQr"
      },
      "outputs": [],
      "source": [
        "# 코드를 작성해주세요\n",
        "a = \"\\n\".join(lines)"
      ]
    },
    {
      "cell_type": "markdown",
      "metadata": {
        "id": "YSs-Z9EgTa3Y"
      },
      "source": [
        "## 4. 파일로 저장하기\n",
        "\n",
        "우리는 앞서 파일을 week4/originals 디렉토리에서 읽어왔습니다. 정렬한 결과물은 \b본인의 구글드라이브에 modified라는 디렉토리를 만들어, 원본과 같은 이름으로 저장해주세요."
      ]
    },
    {
      "cell_type": "code",
      "execution_count": 172,
      "metadata": {
        "colab": {
          "base_uri": "https://localhost:8080/"
        },
        "id": "R9IwhM6tT4Ug",
        "outputId": "e41e22f0-4b15-46b7-972d-965bc2238359"
      },
      "outputs": [
        {
          "output_type": "stream",
          "name": "stdout",
          "text": [
            "김나숙,빨간색,광주광역시\n",
            "배주연,빨간색,광주광역시\n",
            "이재하,빨간색,광주광역시\n",
            "우은다,빨간색,광주광역시\n",
            "임성엉,빨간색,광주광역시\n",
            "송지미,빨간색,광주광역시\n",
            "김서하,빨간색,광주광역시\n",
            "최미유,빨간색,광주광역시\n",
            "홍수원,빨간색,광주광역시\n",
            "박하은,빨간색,광주광역시\n",
            "김동수,빨간색,광주광역시\n",
            "\n"
          ]
        }
      ],
      "source": [
        "with open('PythonLecture/Week4/modified/빨간색.txt', 'w') as f:\n",
        "    f.write(a)\n",
        "with open('PythonLecture/Week4/modified/빨간색.txt', 'r') as f:\n",
        "    content = f.read()\n",
        "print(a[:154])"
      ]
    },
    {
      "cell_type": "markdown",
      "metadata": {
        "id": "hbeWchr3T9lg"
      },
      "source": [
        "## Last. 나머지 색상으로도\b 파일 만들기\n",
        "\n",
        "wee4/origianls 디렉토리에는 7개 색상 파일 있습니다.\n",
        "\n",
        "* 빨간색\n",
        "* 파란색\n",
        "* 초록색\n",
        "* 노란색\n",
        "* 검은색\n",
        "* 흰색\n",
        "* 오렌지\n",
        "\n",
        "빨간색은 이미 진행했으니, 나머지 색상으로도 같은 작업을 진행해주세요."
      ]
    },
    {
      "cell_type": "code",
      "execution_count": null,
      "metadata": {
        "id": "hraRhm93g8ij"
      },
      "outputs": [],
      "source": [
        "#Python Course에 있는 색깔별 파일들 내 디렉토리에 따로 저장 후, '의 사본'으로 끝나는 파일명의 '의 사본'없애기\n",
        "\n",
        "def replace_in_file(file_path, old_str, new_str):\n",
        "    # 파일 읽어들이기\n",
        "    file_path = 'PythonLecture/Week4/original'\n",
        "    fr = open(file_path, 'r')\n",
        "    lines = fr.readlines()\n",
        "    fr.close()\n",
        "    \n",
        "    # old_str -> new_str 치환\n",
        "    fw = open(file_path, 'w')\n",
        "    for line in lines:\n",
        "        fw.write(line.replace('의 사본',''))\n",
        "    fw.close()"
      ]
    },
    {
      "cell_type": "code",
      "execution_count": 174,
      "metadata": {
        "colab": {
          "base_uri": "https://localhost:8080/"
        },
        "id": "2Vm4LJcDUGdN",
        "outputId": "75cd12c3-5a79-4d22-a9e7-6cebfb42fa2e"
      },
      "outputs": [
        {
          "output_type": "stream",
          "name": "stdout",
          "text": [
            "\"파란색.txt\"가 저장완료.\n",
            "\"초록색.txt\"가 저장완료.\n",
            "\"노란색.txt\"가 저장완료.\n",
            "\"검은색.txt\"가 저장완료.\n",
            "\"흰색.txt\"가 저장완료.\n",
            "\"오렌지.txt\"가 저장완료.\n"
          ]
        }
      ],
      "source": [
        "# 코드를 작성해주세요\n",
        "colors = [\"파란색\", \"초록색\", \"노란색\", \"검은색\", \"흰색\", \"오렌지\"]\n",
        "for color in colors:\n",
        "    with open(f'PythonLecture/Week4/original/{color}.txt', 'r') as f:\n",
        "        content = f.read()\n",
        "    content_splited = content.splitlines()\n",
        "    content_splited.sort(key = lambda element: [element.split(\",\")[-1], element.split(\",\")[0]])\n",
        "    sorted_content = '\\n'.join(content_splited)\n",
        "\n",
        "    with open(f'PythonLecture/Week4/modified/{color}.txt', 'w+') as f:\n",
        "        f.write(sorted_content)\n",
        "        print(f'\"{color}.txt\"가 저장완료.')"
      ]
    }
  ],
  "metadata": {
    "colab": {
      "collapsed_sections": [],
      "name": "final assignment",
      "provenance": [],
      "include_colab_link": true
    },
    "kernelspec": {
      "display_name": "Python 3",
      "name": "python3"
    },
    "language_info": {
      "name": "python"
    }
  },
  "nbformat": 4,
  "nbformat_minor": 0
}