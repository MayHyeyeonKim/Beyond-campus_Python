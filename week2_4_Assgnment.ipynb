{
  "nbformat": 4,
  "nbformat_minor": 0,
  "metadata": {
    "colab": {
      "name": "4_Assgnment.ipynb",
      "provenance": [],
      "collapsed_sections": [],
      "include_colab_link": true
    },
    "kernelspec": {
      "name": "python3",
      "display_name": "Python 3"
    },
    "language_info": {
      "name": "python"
    }
  },
  "cells": [
    {
      "cell_type": "markdown",
      "metadata": {
        "id": "view-in-github",
        "colab_type": "text"
      },
      "source": [
        "<a href=\"https://colab.research.google.com/github/MayHyeyeonKim/Beyond-campus_Python/blob/main/week2_4_Assgnment.ipynb\" target=\"_parent\"><img src=\"https://colab.research.google.com/assets/colab-badge.svg\" alt=\"Open In Colab\"/></a>"
      ]
    },
    {
      "cell_type": "code",
      "source": [
        "from google.colab import drive"
      ],
      "metadata": {
        "id": "2Q3a4SGIv2TT"
      },
      "execution_count": 14,
      "outputs": []
    },
    {
      "cell_type": "code",
      "source": [
        "drive.mount('/content/drive')"
      ],
      "metadata": {
        "id": "N7qvRJAfv2JI",
        "colab": {
          "base_uri": "https://localhost:8080/"
        },
        "outputId": "8cdd0e23-43c2-4b4a-d9e5-7a736874a254"
      },
      "execution_count": 15,
      "outputs": [
        {
          "output_type": "stream",
          "name": "stdout",
          "text": [
            "Drive already mounted at /content/drive; to attempt to forcibly remount, call drive.mount(\"/content/drive\", force_remount=True).\n"
          ]
        }
      ]
    },
    {
      "cell_type": "code",
      "source": [
        "absolute_path = '/content/drive/My Drive'\n",
        "%cd $absolute_path"
      ],
      "metadata": {
        "id": "eRcyexq_v2Fw",
        "colab": {
          "base_uri": "https://localhost:8080/"
        },
        "outputId": "64a8e429-347c-4df3-99b5-2fca2762dac9"
      },
      "execution_count": 16,
      "outputs": [
        {
          "output_type": "stream",
          "name": "stdout",
          "text": [
            "/content/drive/My Drive\n"
          ]
        }
      ]
    },
    {
      "cell_type": "markdown",
      "source": [
        "# 입사 D+1: 퇴근 시간\n",
        "\n",
        "> 👀: 결국 오늘도 야근이로군..."
      ],
      "metadata": {
        "id": "2E0yK3klJwWP"
      }
    },
    {
      "cell_type": "markdown",
      "source": [
        "# 과제: 코드를 리팩토링 하면서 설문 결과도 같이 집계하자.\n",
        "\n",
        "파일은 week2/files 디렉토리 안에 있습니다. 파일은 총 30개입니다."
      ],
      "metadata": {
        "id": "LRlmjUvxXWmm"
      }
    },
    {
      "cell_type": "markdown",
      "source": [
        "### 1. 파일 읽기(리팩토링)\n",
        "\n",
        "for-loop를 사용하여 파일 30개를 모두 읽어오세요."
      ],
      "metadata": {
        "id": "LysLVaHvnUGq"
      }
    },
    {
      "cell_type": "code",
      "source": [
        "content = \"\"\n",
        "for 몇번째 in range(1,31):\n",
        "  with open(f'PythonCourse/week2/files/file{몇번째}.txt', 'r') as f:\n",
        "    # print(f\"file{i} is imported.\")\n",
        "    if 몇번째 == 1:\n",
        "        content += f.read()\n",
        "    else:\n",
        "        content += \"\\n\" + f.read()\n"
      ],
      "metadata": {
        "id": "dFQZ1tENnaD_"
      },
      "execution_count": 19,
      "outputs": []
    },
    {
      "cell_type": "markdown",
      "source": [
        "### 2. \b중복 line break 제거(리팩토링)\n",
        "\n",
        "while 문을 사용하여 line break가 두 번 연속되지 않게 만들어주세요."
      ],
      "metadata": {
        "id": "s9GaIG7_nUED"
      }
    },
    {
      "cell_type": "code",
      "source": [
        "while(\"\\n\\n\" in content): \n",
        "  content=content.replace(\"\\n\\n\",\"\\n\") "
      ],
      "metadata": {
        "id": "hH2gMSjjnY_9"
      },
      "execution_count": 21,
      "outputs": []
    },
    {
      "cell_type": "markdown",
      "source": [
        "### 3. 빨강색을 빨간색으로 바꾸기\n",
        "\n",
        "지금까지의 결과물을 저장하는 변수는 result라고 이름 지어 주세요.\n",
        "\n"
      ],
      "metadata": {
        "id": "LdgFQezPnUBv"
      }
    },
    {
      "cell_type": "code",
      "source": [
        "result = content.replace(\"빨강색\",\"빨간색\")"
      ],
      "metadata": {
        "id": "sREv8KU8nu3x"
      },
      "execution_count": 35,
      "outputs": []
    },
    {
      "cell_type": "markdown",
      "source": [
        "### 4. 리팩토링을 잘 했는지 확인하기\n",
        "\n",
        "다음 코드를 실행했을 때 다음과 같이 나오면 성공한 것입니다.\n",
        "\n",
        "```\n",
        "발견된 중복 line break 수: 0\n",
        "발견된 빨강색: 0\n",
        "발견된 빨간색: 큰 수치\n",
        "```\n"
      ],
      "metadata": {
        "id": "AbGISSgnnT9C"
      }
    },
    {
      "cell_type": "code",
      "source": [
        "print(\"발견된 중복 line break 수:\", result.count(\"\\n\\n\"))\n",
        "print(\"발견된 빨강색:\", result.count(\"빨강색\"))\n",
        "print(\"발견된 빨간색:\", result.count(\"빨간색\"))"
      ],
      "metadata": {
        "id": "CL-jXIfXn71X",
        "colab": {
          "base_uri": "https://localhost:8080/"
        },
        "outputId": "49655fda-b8ee-4c2c-9de2-241b1276b8d9"
      },
      "execution_count": 24,
      "outputs": [
        {
          "output_type": "stream",
          "name": "stdout",
          "text": [
            "발견된 중복 line break 수: 0\n",
            "발견된 빨강색: 0\n",
            "발견된 빨간색: 5297244\n"
          ]
        }
      ]
    },
    {
      "cell_type": "markdown",
      "source": [
        "### 5. 설문에 어떤 선택지가 있는지 확인하기\n"
      ],
      "metadata": {
        "id": "rh4VwGYfiJhH"
      }
    },
    {
      "cell_type": "code",
      "source": [
        "result_seperated= result.split(\"\\n\") \n",
        "result_unique = set(result_seperated) \n",
        "print(result_unique)"
      ],
      "metadata": {
        "id": "whNrPH4OoQVX",
        "colab": {
          "base_uri": "https://localhost:8080/"
        },
        "outputId": "807d2701-0516-4a6a-ace9-3e3b2528503d"
      },
      "execution_count": 32,
      "outputs": [
        {
          "output_type": "stream",
          "name": "stdout",
          "text": [
            "{'빨간색', '검은색', '초록색', '흰색', '파란색', '노란색', '오렌지'}\n"
          ]
        }
      ]
    },
    {
      "cell_type": "markdown",
      "source": [
        "다음 색이 모두 나왔다면 성공입니다.\n",
        "\n",
        "* 빨간색\n",
        "* 파란색\n",
        "* 초록색\n",
        "* 노란색\n",
        "* 검은색\n",
        "* 흰색\n",
        "* 오렌지"
      ],
      "metadata": {
        "id": "iQHZmURvqHal"
      }
    },
    {
      "cell_type": "markdown",
      "source": [
        "### 6. 각 항목이 몇 번 등장했는지 세기\n",
        "\n",
        "다음과 같은 형식으로, 색이 몇 개나 나왔는지 세어 주세요\n",
        "\n",
        "```\n",
        "빨간색: (숫자)개\n",
        "파란색: (숫자)개\n",
        "...\n",
        "```"
      ],
      "metadata": {
        "id": "feGKGk5yqS5S"
      }
    },
    {
      "cell_type": "code",
      "source": [
        "for 몇색 in result_unique: \n",
        "    print(f\"{몇색}: {result.count(몇색)}개\")\n"
      ],
      "metadata": {
        "id": "jjS-F2uuqQOZ",
        "colab": {
          "base_uri": "https://localhost:8080/"
        },
        "outputId": "cdebe367-d88a-4c33-931d-fc001985a138"
      },
      "execution_count": 36,
      "outputs": [
        {
          "output_type": "stream",
          "name": "stdout",
          "text": [
            "빨간색: 5297244개\n",
            "검은색: 3237095개\n",
            "초록색: 4917160개\n",
            "흰색: 3485737개\n",
            "파란색: 3563808개\n",
            "노란색: 3322345개\n",
            "오렌지: 2763648개\n"
          ]
        }
      ]
    }
  ]
}