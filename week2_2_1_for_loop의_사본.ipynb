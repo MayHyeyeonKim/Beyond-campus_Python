{
  "nbformat": 4,
  "nbformat_minor": 0,
  "metadata": {
    "colab": {
      "name": "2_1_for loop의 사본",
      "provenance": [],
      "collapsed_sections": [],
      "include_colab_link": true
    },
    "kernelspec": {
      "name": "python3",
      "display_name": "Python 3"
    },
    "language_info": {
      "name": "python"
    }
  },
  "cells": [
    {
      "cell_type": "markdown",
      "metadata": {
        "id": "view-in-github",
        "colab_type": "text"
      },
      "source": [
        "<a href=\"https://colab.research.google.com/github/MayHyeyeonKim/Beyond-campus_Python/blob/main/week2_2_1_for_loop%EC%9D%98_%EC%82%AC%EB%B3%B8.ipynb\" target=\"_parent\"><img src=\"https://colab.research.google.com/assets/colab-badge.svg\" alt=\"Open In Colab\"/></a>"
      ]
    },
    {
      "cell_type": "markdown",
      "source": [
        "# 입사 D+1:오전\n",
        "\n",
        "> 멍팀장🐶: 그럼 어제 짠 코드를 개선하는 방법을 알려줄게요"
      ],
      "metadata": {
        "id": "2E0yK3klJwWP"
      }
    },
    {
      "cell_type": "markdown",
      "source": [
        "# 할 일: 반복되는 코드를 줄이기 위한 for-loop 배우기"
      ],
      "metadata": {
        "id": "LRlmjUvxXWmm"
      }
    },
    {
      "cell_type": "markdown",
      "source": [
        "## 📌 잠깐! SW 토막 상식\n",
        "\n",
        "리팩토링이란? 코드의 output을 유지하면서, 코드를 효율적으로 또는 읽기 쉽게  바꾸는 것."
      ],
      "metadata": {
        "id": "jxssnBmAXr-F"
      }
    },
    {
      "cell_type": "markdown",
      "source": [
        "# STEP 1. for-loop with range\n",
        "\n",
        "아래 코드는 파일 5개를 열어, 그 내용물을 읽고 있습니다.\n",
        "\n",
        "```python\n",
        "file1 = open('PythonCourse/week1/assignment_files/file1.txt', 'r')\n",
        "file2 = open('PythonCourse/week1/assignment_files/file2.txt', 'r')\n",
        "file3 = open('PythonCourse/week1/assignment_files/file3.txt', 'r')\n",
        "file4 = open('PythonCourse/week1/assignment_files/file4.txt', 'r')\n",
        "file5 = open('PythonCourse/week1/assignment_files/file5.txt', 'r')\n",
        "\n",
        "file1_content = file2.read()\n",
        "file2_content = file2.read()\n",
        "file3_content = file3.read()\n",
        "file4_content = file4.read()\n",
        "file5_content = file5.read()\n",
        "```\n",
        "\n",
        "**이 코드의 문제점**\n",
        "\n",
        "위\u001d 코드에서는 같은 코드가 5번씩 사용되고 있습니다.\n",
        "\n",
        "만약 열어야하는 파일이 10개가 되면? 100개가 되면? 1억개가 되면 어떨까요? 1억번 같은 코드를 쓰는 건 너무 힘들겠지요.\n",
        "\n",
        "for-loop를 배워, 반복되는 코드를 줄여봅시다."
      ],
      "metadata": {
        "id": "dlzaLHUWvwkA"
      }
    },
    {
      "cell_type": "markdown",
      "source": [
        "## 알려줄게요!: N 번 반복하기\n",
        "\n",
        "컴퓨터에게 같은 일을 반복해 시키려면 반복문(loop)을 사용하면 편합니다. \n",
        "\n",
        "`횟수`만큼 어떤 일을 반복하는 for-loop은 다음과 같이 작성합니다.\n",
        "\n",
        "```python\n",
        "for 어쩌고 in range(반복할횟수):\n",
        "    반복할코드\n",
        "```\n",
        "\n",
        "* `어쩌고`에는 현재 반복이 몇 번이나 실행됐는지 알려주는 숫자가 들어갑니다.\n",
        "  * `어쩌고`는 0부터 시작합니다."
      ],
      "metadata": {
        "id": "vnsFaQw3YWtw"
      }
    },
    {
      "cell_type": "markdown",
      "source": [
        "## 예시"
      ],
      "metadata": {
        "id": "4bfekbImbSi6"
      }
    },
    {
      "cell_type": "markdown",
      "source": [
        "### 예시 1: 숫자 세기\n",
        "\n",
        "다음은 0부터 9까지의 숫자를 \b더한 값을 출력하는 코드입니다.\n",
        "\n",
        "왼쪽에 위치한 화살표 버튼을 클릭하여 코드를 실행해보세요."
      ],
      "metadata": {
        "id": "npvehYEDbqx7"
      }
    },
    {
      "cell_type": "code",
      "source": [
        "for number in range(5):\n",
        "    print(number+1)\n"
      ],
      "metadata": {
        "colab": {
          "base_uri": "https://localhost:8080/"
        },
        "id": "P_GrIonvS1ga",
        "outputId": "8778b74f-0db0-4ad7-e4a8-e6d42197fa86"
      },
      "execution_count": null,
      "outputs": [
        {
          "output_type": "stream",
          "name": "stdout",
          "text": [
            "1\n",
            "2\n",
            "3\n",
            "4\n",
            "5\n"
          ]
        }
      ]
    },
    {
      "cell_type": "code",
      "source": [
        "from time import sleep\n",
        "\n",
        "added = 0\n",
        "for number in range(10):\n",
        "    print(f\"{added} + {number} = {added + number}\")\n",
        "    added += number\n",
        "    sleep(1) # 1초간 기다리는 코드"
      ],
      "metadata": {
        "id": "uSdxaUddbrLc",
        "colab": {
          "base_uri": "https://localhost:8080/"
        },
        "outputId": "4c7c093c-bf0d-479d-d4eb-403889c3c1c6"
      },
      "execution_count": null,
      "outputs": [
        {
          "output_type": "stream",
          "name": "stdout",
          "text": [
            "0 + 0 = 0\n",
            "0 + 1 = 1\n",
            "1 + 2 = 3\n",
            "3 + 3 = 6\n",
            "6 + 4 = 10\n",
            "10 + 5 = 15\n",
            "15 + 6 = 21\n",
            "21 + 7 = 28\n",
            "28 + 8 = 36\n",
            "36 + 9 = 45\n"
          ]
        }
      ]
    },
    {
      "cell_type": "markdown",
      "source": [
        "### 예시 2: nested loop\n",
        "\n",
        "반복문 안에서 반복문을 사용할 수도 있습니다.\n",
        "\n",
        "다음은 숫자로 삼각형 모양을 출력하는 코드입니다.\n",
        "\n",
        "왼쪽에 위치한 화살표 버튼을 클릭하여 코드를 실행해보세요."
      ],
      "metadata": {
        "id": "fu7dGF-Ae1Z8"
      }
    },
    {
      "cell_type": "code",
      "source": [
        "for height in range(5):\n",
        "  for number in range(height+1):\n",
        "    print(number+1, end=\"\")\n",
        "  print(\"\")"
      ],
      "metadata": {
        "id": "CYEIKa6Je2cp",
        "colab": {
          "base_uri": "https://localhost:8080/"
        },
        "outputId": "b49102ce-65d8-453d-9d1c-a170634d3b69"
      },
      "execution_count": null,
      "outputs": [
        {
          "output_type": "stream",
          "name": "stdout",
          "text": [
            "1\n",
            "12\n",
            "123\n",
            "1234\n",
            "12345\n"
          ]
        }
      ]
    },
    {
      "cell_type": "code",
      "source": [
        "print(\"banana\",end=\"\")\n",
        "print(\"apple\")"
      ],
      "metadata": {
        "colab": {
          "base_uri": "https://localhost:8080/"
        },
        "id": "Dp9xPXI3TXCO",
        "outputId": "a86a3b87-2a12-4059-d65f-298c2380a287"
      },
      "execution_count": null,
      "outputs": [
        {
          "output_type": "stream",
          "name": "stdout",
          "text": [
            "bananaapple\n"
          ]
        }
      ]
    },
    {
      "cell_type": "markdown",
      "source": [
        "## 실습 1"
      ],
      "metadata": {
        "id": "UVo7OQhrcyh_"
      }
    },
    {
      "cell_type": "markdown",
      "source": [
        "### TODO: 같은 문구 20번 출력하기\n",
        "\n",
        "for-loop를 이용해 \"왹팀장 가만 안 둬\"라는 문장을 20번 출력하는 코드를 작성해주세요.\n"
      ],
      "metadata": {
        "id": "MgC8aOxMg4oN"
      }
    },
    {
      "cell_type": "code",
      "source": [
        "_"
      ],
      "metadata": {
        "colab": {
          "base_uri": "https://localhost:8080/"
        },
        "id": "IFuN4ZC8UUGU",
        "outputId": "dc9ca25d-c053-425b-ec1e-c73de712d31c"
      },
      "execution_count": null,
      "outputs": [
        {
          "output_type": "execute_result",
          "data": {
            "text/plain": [
              "9"
            ]
          },
          "metadata": {},
          "execution_count": 15
        }
      ]
    },
    {
      "cell_type": "code",
      "source": [
        "for _ in range(10):\n",
        "    print(\"왹팀장 가만 안 둬\")\n",
        "\n"
      ],
      "metadata": {
        "id": "v3EbVFcf711k",
        "colab": {
          "base_uri": "https://localhost:8080/"
        },
        "outputId": "bcd73833-1331-4ff2-aed2-38c78b3abc78"
      },
      "execution_count": null,
      "outputs": [
        {
          "output_type": "stream",
          "name": "stdout",
          "text": [
            "왹팀장 가만 안 둬\n",
            "왹팀장 가만 안 둬\n",
            "왹팀장 가만 안 둬\n",
            "왹팀장 가만 안 둬\n",
            "왹팀장 가만 안 둬\n",
            "왹팀장 가만 안 둬\n",
            "왹팀장 가만 안 둬\n",
            "왹팀장 가만 안 둬\n",
            "왹팀장 가만 안 둬\n",
            "왹팀장 가만 안 둬\n"
          ]
        }
      ]
    },
    {
      "cell_type": "markdown",
      "source": [
        "### TODO: 구구단 출력하기\n",
        "\n",
        "nested loop을 이용해서 구구단을 1단부터 3단까지 출력하는 코드를 작성해주세요.\n",
        "\n",
        "결과는 다음과 같이 나와야합니다\n",
        "\n",
        "```\n",
        "1단\n",
        "1 x 1 = 1\n",
        "1 x 2 = 2\n",
        "1 x 3 = 3\n",
        "1 x 4 = 4\n",
        "1 x 5 = 5\n",
        "1 x 6 = 6\n",
        "1 x 7 = 7\n",
        "1 x 8 = 8\n",
        "1 x 9 = 9\n",
        "2단\n",
        "2 x 1 = 2\n",
        "2 x 2 = 4\n",
        "2 x 3 = 6\n",
        "2 x 4 = 8\n",
        "2 x 5 = 10\n",
        "2 x 6 = 12\n",
        "2 x 7 = 14\n",
        "2 x 8 = 16\n",
        "2 x 9 = 18\n",
        "3단\n",
        "3 x 1 = 3\n",
        "3 x 2 = 6\n",
        "3 x 3 = 9\n",
        "3 x 4 = 12\n",
        "3 x 5 = 15\n",
        "3 x 6 = 18\n",
        "3 x 7 = 21\n",
        "3 x 8 = 24\n",
        "3 x 9 = 27\n",
        "```"
      ],
      "metadata": {
        "id": "zp7OZ_8VsDMC"
      }
    },
    {
      "cell_type": "code",
      "source": [
        "for number1 in range(9):\n",
        "  print(f\"{number1+1}단\")\n",
        "  for number2 in range(9):\n",
        "    print(f\"{number1+1} x {number2+1} = {number1+1*number2+1}\")\n",
        "\n"
      ],
      "metadata": {
        "id": "aJd20AmDsF-j",
        "colab": {
          "base_uri": "https://localhost:8080/"
        },
        "outputId": "9a5532ab-4741-4aae-843a-e0c6e3c4bcd5"
      },
      "execution_count": null,
      "outputs": [
        {
          "output_type": "stream",
          "name": "stdout",
          "text": [
            "1단\n",
            "1 x 1 = 1\n",
            "1 x 2 = 2\n",
            "1 x 3 = 3\n",
            "1 x 4 = 4\n",
            "1 x 5 = 5\n",
            "1 x 6 = 6\n",
            "1 x 7 = 7\n",
            "1 x 8 = 8\n",
            "1 x 9 = 9\n",
            "2단\n",
            "2 x 1 = 2\n",
            "2 x 2 = 3\n",
            "2 x 3 = 4\n",
            "2 x 4 = 5\n",
            "2 x 5 = 6\n",
            "2 x 6 = 7\n",
            "2 x 7 = 8\n",
            "2 x 8 = 9\n",
            "2 x 9 = 10\n",
            "3단\n",
            "3 x 1 = 3\n",
            "3 x 2 = 4\n",
            "3 x 3 = 5\n",
            "3 x 4 = 6\n",
            "3 x 5 = 7\n",
            "3 x 6 = 8\n",
            "3 x 7 = 9\n",
            "3 x 8 = 10\n",
            "3 x 9 = 11\n",
            "4단\n",
            "4 x 1 = 4\n",
            "4 x 2 = 5\n",
            "4 x 3 = 6\n",
            "4 x 4 = 7\n",
            "4 x 5 = 8\n",
            "4 x 6 = 9\n",
            "4 x 7 = 10\n",
            "4 x 8 = 11\n",
            "4 x 9 = 12\n",
            "5단\n",
            "5 x 1 = 5\n",
            "5 x 2 = 6\n",
            "5 x 3 = 7\n",
            "5 x 4 = 8\n",
            "5 x 5 = 9\n",
            "5 x 6 = 10\n",
            "5 x 7 = 11\n",
            "5 x 8 = 12\n",
            "5 x 9 = 13\n",
            "6단\n",
            "6 x 1 = 6\n",
            "6 x 2 = 7\n",
            "6 x 3 = 8\n",
            "6 x 4 = 9\n",
            "6 x 5 = 10\n",
            "6 x 6 = 11\n",
            "6 x 7 = 12\n",
            "6 x 8 = 13\n",
            "6 x 9 = 14\n",
            "7단\n",
            "7 x 1 = 7\n",
            "7 x 2 = 8\n",
            "7 x 3 = 9\n",
            "7 x 4 = 10\n",
            "7 x 5 = 11\n",
            "7 x 6 = 12\n",
            "7 x 7 = 13\n",
            "7 x 8 = 14\n",
            "7 x 9 = 15\n",
            "8단\n",
            "8 x 1 = 8\n",
            "8 x 2 = 9\n",
            "8 x 3 = 10\n",
            "8 x 4 = 11\n",
            "8 x 5 = 12\n",
            "8 x 6 = 13\n",
            "8 x 7 = 14\n",
            "8 x 8 = 15\n",
            "8 x 9 = 16\n",
            "9단\n",
            "9 x 1 = 9\n",
            "9 x 2 = 10\n",
            "9 x 3 = 11\n",
            "9 x 4 = 12\n",
            "9 x 5 = 13\n",
            "9 x 6 = 14\n",
            "9 x 7 = 15\n",
            "9 x 8 = 16\n",
            "9 x 9 = 17\n"
          ]
        }
      ]
    },
    {
      "cell_type": "markdown",
      "source": [
        "## 알려줄게요!: range 문 더 잘 쓰는 방법\n",
        "\n",
        "range에 들어가는 값을 조정하면 반복문을 더 잘 쓸 수 있습니다.\n",
        "\n",
        "```\n",
        "for 어쩌고 in range(start, stop[, step]):\n",
        "```\n",
        "\n",
        "위 코드를 이용하면\n",
        "\n",
        "* `어쩌고`에는 첫 값이 `start`로 들어오고\n",
        "* 반복을 거듭하며 `step` 만큼의 값이 추가되고\n",
        "* `어쩌고`가 `stop`과 같거나 이를 넘어서는 순간 반복문이 종료됩니다.\n",
        "\n",
        "📌step은 지정하지 않으면 자동으로 1로 설정됩니다."
      ],
      "metadata": {
        "id": "4mxI_ne5hf2D"
      }
    },
    {
      "cell_type": "markdown",
      "source": [
        "## 예시"
      ],
      "metadata": {
        "id": "-0boocnn5Riy"
      }
    },
    {
      "cell_type": "markdown",
      "source": [
        "### 예시 1: 2의 배수 출력하기\n",
        "\n",
        "다음은 1부터 10까지의 숫자 중 2의 배수를 출력하는 코드입니다.\n",
        "\n",
        "왼쪽에 위치한 화살표 버튼을 클릭하여 코드를 실행해보세요."
      ],
      "metadata": {
        "id": "OCtLvj_v4wmD"
      }
    },
    {
      "cell_type": "code",
      "source": [
        "from time import sleep\n",
        "\n",
        "for number in range(2, 10+1, 2):\n",
        "  print(number)\n",
        "  sleep(1) # 1초간 기다리는 코드"
      ],
      "metadata": {
        "id": "W_b0ooaThKW_",
        "colab": {
          "base_uri": "https://localhost:8080/"
        },
        "outputId": "ebd4f487-de7f-42ba-d275-40f7c3b919e1"
      },
      "execution_count": null,
      "outputs": [
        {
          "output_type": "stream",
          "name": "stdout",
          "text": [
            "2\n",
            "4\n",
            "6\n",
            "8\n",
            "10\n"
          ]
        }
      ]
    },
    {
      "cell_type": "markdown",
      "source": [
        "### 예시 2: 뒤에서부터 숫자 세기\n",
        "\n",
        "다음은 10부터 1까지의 숫자\b를 거꾸로 세는 코드입니다.\n",
        "\n",
        "왼쪽에 위치한 화살표 버튼을 클릭하여 코드를 실행해보세요."
      ],
      "metadata": {
        "id": "GkuKuKKMqgGr"
      }
    },
    {
      "cell_type": "code",
      "source": [
        "from time import sleep\n",
        "\n",
        "for number in range(10, 0, -2):\n",
        "  print(number)\n",
        "  sleep(1) # 1초간 기다리는 코드"
      ],
      "metadata": {
        "id": "ysMozEm2qsE5",
        "colab": {
          "base_uri": "https://localhost:8080/"
        },
        "outputId": "0f34d7ab-eef3-4e50-f63f-fe699c140995"
      },
      "execution_count": null,
      "outputs": [
        {
          "output_type": "stream",
          "name": "stdout",
          "text": [
            "10\n",
            "8\n",
            "6\n",
            "4\n",
            "2\n"
          ]
        }
      ]
    },
    {
      "cell_type": "markdown",
      "source": [
        "## 실습 2"
      ],
      "metadata": {
        "id": "k4CbWA_shfzt"
      }
    },
    {
      "cell_type": "markdown",
      "source": [
        "### TODO: 2의 배수 거꾸로 출력하기\n",
        "\n",
        "1부터 10까지의 숫자 중 2의 배수를 큰 순서대로 출력하는 코드를 작성해주세요. \n",
        "결과는 다음과 같이 나와야합니다.\n",
        "\n",
        "```\n",
        "10\n",
        "8\n",
        "6\n",
        "4\n",
        "2\n",
        "```"
      ],
      "metadata": {
        "id": "UYsP01eTqzPI"
      }
    },
    {
      "cell_type": "code",
      "source": [
        "for number in range(20,0,-2):\n",
        "  print(number)\n",
        "  sleep(1)\n"
      ],
      "metadata": {
        "id": "Qero8JO8rb2m",
        "colab": {
          "base_uri": "https://localhost:8080/"
        },
        "outputId": "9e3aed3c-72aa-43bf-c09e-5c368136bed8"
      },
      "execution_count": null,
      "outputs": [
        {
          "output_type": "stream",
          "name": "stdout",
          "text": [
            "20\n",
            "18\n",
            "16\n",
            "14\n",
            "12\n",
            "10\n",
            "8\n",
            "6\n",
            "4\n",
            "2\n"
          ]
        }
      ]
    },
    {
      "cell_type": "markdown",
      "source": [
        "### TODO: range를 1부터 시작하기\n",
        "\n",
        "다음은 앞서 작성했던던 코드로, 이 코드는 구구단을 1단부터 3단까지 출력합니다.\n",
        "\n",
        "`range(숫자)` 대신 `range(start, stop[, step])을 이용해서\n",
        "\n",
        "* number1과 number2가 0이 아닌 1부터 시작하도록,\n",
        "* 코드를 실행했을 때의 출력물은 이전과 같게 만들어주세요.\n",
        "\n",
        "```python\n",
        "for number1 in range(3):\n",
        "  print(f\"{number1 + 1}단\")\n",
        "  for number2 in range(9):\n",
        "    print(f\"{number1 + 1} x {number2 + 1} = {(number1 + 1) * (number2 + 1)}\")\n",
        "```"
      ],
      "metadata": {
        "id": "tE5RcwA1c0R1"
      }
    },
    {
      "cell_type": "code",
      "source": [
        "# TODO: 주어진 지시에 맞게 다음 코드를 수정해보세요\n",
        "\n",
        "for number1 in range(1,3+1):\n",
        "  print(f\"{number1}단\")\n",
        "  for number2 in range(1,9+1):\n",
        "    print(f\"{number1} x {number2} = {(number1) * (number2)}\")"
      ],
      "metadata": {
        "id": "NsJkvgghcyxv",
        "colab": {
          "base_uri": "https://localhost:8080/"
        },
        "outputId": "1de2eb2d-4c83-4cb2-ddf4-c2ed07a6fed4"
      },
      "execution_count": null,
      "outputs": [
        {
          "output_type": "stream",
          "name": "stdout",
          "text": [
            "1단\n",
            "1 x 1 = 1\n",
            "1 x 2 = 2\n",
            "1 x 3 = 3\n",
            "1 x 4 = 4\n",
            "1 x 5 = 5\n",
            "1 x 6 = 6\n",
            "1 x 7 = 7\n",
            "1 x 8 = 8\n",
            "1 x 9 = 9\n",
            "2단\n",
            "2 x 1 = 2\n",
            "2 x 2 = 4\n",
            "2 x 3 = 6\n",
            "2 x 4 = 8\n",
            "2 x 5 = 10\n",
            "2 x 6 = 12\n",
            "2 x 7 = 14\n",
            "2 x 8 = 16\n",
            "2 x 9 = 18\n",
            "3단\n",
            "3 x 1 = 3\n",
            "3 x 2 = 6\n",
            "3 x 3 = 9\n",
            "3 x 4 = 12\n",
            "3 x 5 = 15\n",
            "3 x 6 = 18\n",
            "3 x 7 = 21\n",
            "3 x 8 = 24\n",
            "3 x 9 = 27\n"
          ]
        }
      ]
    }
  ]
}