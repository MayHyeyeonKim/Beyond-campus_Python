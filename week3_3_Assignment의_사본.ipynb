{
  "nbformat": 4,
  "nbformat_minor": 0,
  "metadata": {
    "colab": {
      "name": "3_Assignment의 사본",
      "provenance": [],
      "collapsed_sections": [],
      "include_colab_link": true
    },
    "kernelspec": {
      "name": "python3",
      "display_name": "Python 3"
    },
    "language_info": {
      "name": "python"
    }
  },
  "cells": [
    {
      "cell_type": "markdown",
      "metadata": {
        "id": "view-in-github",
        "colab_type": "text"
      },
      "source": [
        "<a href=\"https://colab.research.google.com/github/MayHyeyeonKim/Beyond-campus_Python/blob/main/3_Assignment%EC%9D%98_%EC%82%AC%EB%B3%B8.ipynb\" target=\"_parent\"><img src=\"https://colab.research.google.com/assets/colab-badge.svg\" alt=\"Open In Colab\"/></a>"
      ]
    },
    {
      "cell_type": "code",
      "source": [
        "from google.colab import drive"
      ],
      "metadata": {
        "id": "YXjcevDKtBL8"
      },
      "execution_count": null,
      "outputs": []
    },
    {
      "cell_type": "code",
      "source": [
        "drive.mount('/content/drive')"
      ],
      "metadata": {
        "id": "GDjLV8UmtA-q",
        "colab": {
          "base_uri": "https://localhost:8080/"
        },
        "outputId": "e46ea853-1444-450d-b6b6-ada6937e9de8"
      },
      "execution_count": null,
      "outputs": [
        {
          "output_type": "stream",
          "name": "stdout",
          "text": [
            "Drive already mounted at /content/drive; to attempt to forcibly remount, call drive.mount(\"/content/drive\", force_remount=True).\n"
          ]
        }
      ]
    },
    {
      "cell_type": "code",
      "source": [
        "absolute_path = '/content/drive/My Drive'\n",
        "%cd $absolute_path"
      ],
      "metadata": {
        "id": "UpzwXfiRtA8D",
        "colab": {
          "base_uri": "https://localhost:8080/"
        },
        "outputId": "d506744b-4a0a-4b3e-ac0b-012525bbe748"
      },
      "execution_count": null,
      "outputs": [
        {
          "output_type": "stream",
          "name": "stdout",
          "text": [
            "/content/drive/My Drive\n"
          ]
        }
      ]
    },
    {
      "cell_type": "markdown",
      "source": [
        "# 입사 D+2: 오후\n",
        "\n"
      ],
      "metadata": {
        "id": "2E0yK3klJwWP"
      }
    },
    {
      "cell_type": "markdown",
      "source": [
        "# 과제: 운송장에 들어갈 정보를 색깔별로 모으자"
      ],
      "metadata": {
        "id": "LRlmjUvxXWmm"
      }
    },
    {
      "cell_type": "markdown",
      "source": [
        "## 1. 파일 읽기\n",
        "\n",
        "곰대리🐻‍❄️가 준 파일은 week3/surveys.txt 입니다."
      ],
      "metadata": {
        "id": "Rw3NDDHBoxED"
      }
    },
    {
      "cell_type": "code",
      "source": [
        "# 코드를 작성해주세요\n",
        "gomdaeri_file = open('PythonCourse/week3/surveys.txt', 'r')\n",
        "gomdaeri = gomdaeri_file.read()"
      ],
      "metadata": {
        "id": "byBLFKefp-DX"
      },
      "execution_count": null,
      "outputs": []
    },
    {
      "cell_type": "markdown",
      "source": [
        ""
      ],
      "metadata": {
        "id": "EFsZEWYrtMVQ"
      }
    },
    {
      "cell_type": "markdown",
      "source": [
        "## 2. 줄 단위로 문자열 쪼개기"
      ],
      "metadata": {
        "id": "8hult_dJoxBM"
      }
    },
    {
      "cell_type": "code",
      "source": [
        "# 코드를 작성해주세요\n",
        "gomdaeri_splitted = gomdaeri.splitlines()\n",
        "gomdaeri_splitted[:50]"
      ],
      "metadata": {
        "id": "xXKTmrAwqC6i",
        "colab": {
          "base_uri": "https://localhost:8080/"
        },
        "outputId": "c32e62f6-109b-4e7a-c9b2-b82f4fc8bf2e"
      },
      "execution_count": null,
      "outputs": [
        {
          "output_type": "execute_result",
          "data": {
            "text/plain": [
              "['구하은,초록색,세종특별자치시',\n",
              " '양지우,파란색,울산광역시',\n",
              " '양준성,빨간색,대전광역시',\n",
              " '박운비,빨간색,대구광역시',\n",
              " '김나숙,빨간색,광주광역시',\n",
              " '박아은,빨간색,인천광역시',\n",
              " '황조미,파란색,세종특별자치시',\n",
              " '김유하,초록색,인천광역시',\n",
              " '손성근,파란색,대전광역시',\n",
              " '박하균,파란색,대구광역시',\n",
              " '박수윤,파란색,울산광역시',\n",
              " '이성하,파란색,대전광역시',\n",
              " '박세우,초록색,광주광역시',\n",
              " '김주겅,파란색,대구광역시',\n",
              " '지성원,빨간색,인천광역시',\n",
              " '박지연,초록색,서울특별시',\n",
              " '김용미,파란색,광주광역시',\n",
              " '유정찬,파란색,부산광역시',\n",
              " '권지비,빨간색,대전광역시',\n",
              " '전전수,오렌지,대전광역시',\n",
              " '김창성,파란색,인천광역시',\n",
              " '김세비,빨간색,부산광역시',\n",
              " '양승지,초록색,서울특별시',\n",
              " '이하라,빨간색,부산광역시',\n",
              " '박호미,파란색,대전광역시',\n",
              " '신연경,초록색,울산광역시',\n",
              " '이근연,초록색,대구광역시',\n",
              " '이성하,파란색,인천광역시',\n",
              " '최슨하,파란색,부산광역시',\n",
              " '이세하,파란색,서울특별시',\n",
              " '배주연,빨간색,광주광역시',\n",
              " '이재하,빨간색,광주광역시',\n",
              " '고지피,파란색,광주광역시',\n",
              " '윤재시,파란색,대구광역시',\n",
              " '백동하,빨간색,서울특별시',\n",
              " '도동하,파란색,대구광역시',\n",
              " '김효수,빨간색,서울특별시',\n",
              " '백당주,파란색,세종특별자치시',\n",
              " '최면하,빨간색,인천광역시',\n",
              " '이태우,파란색,대구광역시',\n",
              " '공준섭,파란색,대구광역시',\n",
              " '이혀미,파란색,광주광역시',\n",
              " '박지아,파란색,울산광역시',\n",
              " '우은다,빨간색,광주광역시',\n",
              " '이수비,빨간색,대전광역시',\n",
              " '이유원,파란색,인천광역시',\n",
              " '신성는,파란색,대구광역시',\n",
              " '양유연,파란색,광주광역시',\n",
              " '한주면,파란색,광주광역시',\n",
              " '이서비,파란색,부산광역시']"
            ]
          },
          "metadata": {},
          "execution_count": 12
        }
      ]
    },
    {
      "cell_type": "markdown",
      "source": [
        "### 3. 빨간색을 선택한 사람의 정보만 모아서 새 파일 만들기"
      ],
      "metadata": {
        "id": "euk3cs_Oq_DT"
      }
    },
    {
      "cell_type": "markdown",
      "source": [
        "### 3-1. 빨간색을 선택한 사람의 정보만 들어있는 문자열 만들기"
      ],
      "metadata": {
        "id": "rOzjTT3crJgG"
      }
    },
    {
      "cell_type": "code",
      "source": [
        "# 코드를 작성해주세요\n",
        "빨간문자열 = \"\"\n",
        "for 빨간색선택자 in gomdaeri_splitted:\n",
        "  if \"빨간색\" in 빨간색선택자:\n",
        "        빨간문자열 += 빨간색선택자 + \"\\n\"\n",
        "print(빨간문자열[:55])"
      ],
      "metadata": {
        "id": "6bFfOh3dq-8T",
        "colab": {
          "base_uri": "https://localhost:8080/"
        },
        "outputId": "285a60ea-eec1-4cb7-f5d9-304edadb5098"
      },
      "execution_count": null,
      "outputs": [
        {
          "output_type": "stream",
          "name": "stdout",
          "text": [
            "양준성,빨간색,대전광역시\n",
            "박운비,빨간색,대구광역시\n",
            "김나숙,빨간색,광주광역시\n",
            "박아은,빨간색,인천광역시\n"
          ]
        }
      ]
    },
    {
      "cell_type": "code",
      "source": [
        "빨간문자열 = []\n",
        "for 빨간색선택자 in gomdaeri_splitted:\n",
        "  if \"빨간색\" in 빨간색선택자:\n",
        "        빨간문자열.apoend(빨간색선택자)\n",
        "print(빨간문자열[:55])\n",
        "빨간문자열 = \"\\n\".join(빨간문자열)\n",
        "print(빨간문자열[:50])"
      ],
      "metadata": {
        "colab": {
          "base_uri": "https://localhost:8080/",
          "height": 232
        },
        "id": "BY23WqUaXl2I",
        "outputId": "3b64ab13-592d-4cfd-b93e-95b99f19514c"
      },
      "execution_count": null,
      "outputs": [
        {
          "output_type": "error",
          "ename": "AttributeError",
          "evalue": "ignored",
          "traceback": [
            "\u001b[0;31m---------------------------------------------------------------------------\u001b[0m",
            "\u001b[0;31mAttributeError\u001b[0m                            Traceback (most recent call last)",
            "\u001b[0;32m<ipython-input-16-6db08346b7d3>\u001b[0m in \u001b[0;36m<module>\u001b[0;34m\u001b[0m\n\u001b[1;32m      2\u001b[0m \u001b[0;32mfor\u001b[0m \u001b[0m빨간색선택자\u001b[0m \u001b[0;32min\u001b[0m \u001b[0mgomdaeri_splitted\u001b[0m\u001b[0;34m:\u001b[0m\u001b[0;34m\u001b[0m\u001b[0;34m\u001b[0m\u001b[0m\n\u001b[1;32m      3\u001b[0m   \u001b[0;32mif\u001b[0m \u001b[0;34m\"빨간색\"\u001b[0m \u001b[0;32min\u001b[0m \u001b[0m빨간색선택자\u001b[0m\u001b[0;34m:\u001b[0m\u001b[0;34m\u001b[0m\u001b[0;34m\u001b[0m\u001b[0m\n\u001b[0;32m----> 4\u001b[0;31m         \u001b[0m빨간문자열\u001b[0m\u001b[0;34m.\u001b[0m\u001b[0mapoend\u001b[0m\u001b[0;34m(\u001b[0m\u001b[0m빨간색선택자\u001b[0m\u001b[0;34m)\u001b[0m\u001b[0;34m\u001b[0m\u001b[0;34m\u001b[0m\u001b[0m\n\u001b[0m\u001b[1;32m      5\u001b[0m \u001b[0mprint\u001b[0m\u001b[0;34m(\u001b[0m\u001b[0m빨간문자열\u001b[0m\u001b[0;34m[\u001b[0m\u001b[0;34m:\u001b[0m\u001b[0;36m55\u001b[0m\u001b[0;34m]\u001b[0m\u001b[0;34m)\u001b[0m\u001b[0;34m\u001b[0m\u001b[0;34m\u001b[0m\u001b[0m\n\u001b[1;32m      6\u001b[0m \u001b[0m빨간문자열\u001b[0m \u001b[0;34m=\u001b[0m \u001b[0;34m\"\\n\"\u001b[0m\u001b[0;34m.\u001b[0m\u001b[0mjoin\u001b[0m\u001b[0;34m(\u001b[0m\u001b[0m빨간문자열\u001b[0m\u001b[0;34m)\u001b[0m\u001b[0;34m\u001b[0m\u001b[0;34m\u001b[0m\u001b[0m\n",
            "\u001b[0;31mAttributeError\u001b[0m: 'list' object has no attribute 'apoend'"
          ]
        }
      ]
    },
    {
      "cell_type": "markdown",
      "source": [
        "### 3-2. 문자열을 빨간색.txt 라는 이름으로 저장하기"
      ],
      "metadata": {
        "id": "8g0CJabZrQwi"
      }
    },
    {
      "cell_type": "code",
      "source": [
        "# 빨간색파일 저장하기\n",
        "빨간색파일 = open('빨간색.txt', 'w+')\n",
        "for 한줄씩읽어봐 in 빨간문자열: \n",
        "    빨간색파일.write(f\"{한줄씩읽어봐}\")"
      ],
      "metadata": {
        "id": "iU9ugm9NrVux"
      },
      "execution_count": null,
      "outputs": []
    },
    {
      "cell_type": "code",
      "source": [
        "# 빨간색파일 읽기 되나안되나 검사해보기\n",
        "빨간색파일 = open('빨간색.txt', 'r')\n",
        "빨간색파일 = 빨간색파일.read()\n",
        "print(빨간색파일[:84])"
      ],
      "metadata": {
        "colab": {
          "base_uri": "https://localhost:8080/"
        },
        "id": "tLBjCik2RZ_a",
        "outputId": "650cbef9-a3eb-4b4d-a6a6-082f7ada885d"
      },
      "execution_count": null,
      "outputs": [
        {
          "output_type": "stream",
          "name": "stdout",
          "text": [
            "\n"
          ]
        }
      ]
    },
    {
      "cell_type": "markdown",
      "source": [
        "## Last. 나머지 색상으로도\b 파일 만들기\n",
        "\n",
        "파일에 있는 색상은 7개입니다.\n",
        "\n",
        "* 빨간색\n",
        "* 파란색\n",
        "* 초록색\n",
        "* 노란색\n",
        "* 검은색\n",
        "* 흰색\n",
        "* 오렌지\n",
        "\n",
        "빨간색은 이미 진행했으니, 나머지 색상으로도 같은 작업을 진행해주세요."
      ],
      "metadata": {
        "id": "eTFgGTDIow-1"
      }
    },
    {
      "cell_type": "code",
      "source": [
        "# 코드를 작성해주세요\n",
        "파일안색상목록 = ['검은색', '노란색', '빨간색', '오렌지', '초록색', '파란색', '흰색']\n",
        "gomdaeri_splitted = gomdaeri.splitlines()\n",
        "for 색상 in 파일안색상목록:\n",
        "    컬러라인스 = []\n",
        "    count = 0\n",
        "    for 한줄 in gomdaeri_splitted:\n",
        "        if 색상 in 한줄:\n",
        "            컬러라인스.append(한줄)\n",
        "            count +=1\n",
        "    with open(f'{색상}.txt', 'w+') as f:\n",
        "        for 한줄 in 컬러라인스:\n",
        "            f.write(f'{한줄}\\n')\n",
        "        print(f'\"{색상}.txt\" 파일저장완료. {색상}개수: {len(컬러라인스)}')"
      ],
      "metadata": {
        "id": "jHJtibqCqDJZ",
        "colab": {
          "base_uri": "https://localhost:8080/"
        },
        "outputId": "74aa4d61-eaba-432c-94be-359c8cbcaee6"
      },
      "execution_count": null,
      "outputs": [
        {
          "output_type": "stream",
          "name": "stdout",
          "text": [
            "\"검은색.txt\" 파일저장완료. 검은색개수: 1446\n",
            "\"노란색.txt\" 파일저장완료. 노란색개수: 2520\n",
            "\"빨간색.txt\" 파일저장완료. 빨간색개수: 92329\n",
            "\"오렌지.txt\" 파일저장완료. 오렌지개수: 2911\n",
            "\"초록색.txt\" 파일저장완료. 초록색개수: 116085\n",
            "\"파란색.txt\" 파일저장완료. 파란색개수: 232621\n",
            "\"흰색.txt\" 파일저장완료. 흰색개수: 1955\n"
          ]
        }
      ]
    },
    {
      "cell_type": "code",
      "source": [
        "읽어오기 = \"\"\n",
        "for 색상 in 파일안색상목록:\n",
        "    with open(f'{색상}.txt','r')as f:\n",
        "        읽어오기 = f.read()\n",
        "print(읽어오기[:103])"
      ],
      "metadata": {
        "colab": {
          "base_uri": "https://localhost:8080/"
        },
        "id": "aAKOQFzwEjnp",
        "outputId": "c7b40391-c845-4d66-ec07-c891bb9898b4"
      },
      "execution_count": null,
      "outputs": [
        {
          "output_type": "stream",
          "name": "stdout",
          "text": [
            "김태세,흰색,인천광역시\n",
            "한희하,흰색,인천광역시\n",
            "이서서,흰색,서울특별시\n",
            "김혜재,흰색,서울특별시\n",
            "이서연,흰색,부산광역시\n",
            "조태주,흰색,울산광역시\n",
            "이이하,흰색,인천광역시\n",
            "박보저,흰색,대전광역시\n"
          ]
        }
      ]
    },
    {
      "cell_type": "markdown",
      "source": [
        "> 👀: 곰대리님🐻‍❄️ 말씀하신 일 다 했습니다! 어? 곰대리님 어디 있지?\n",
        "\n",
        "> 곰대리🐼: 오.. 감사합니다.\n",
        "\n",
        "(곰대리는 누적된 스트레스로 인해 다크서클이 심해졌고, 결국 판다가 되어버린 것 같다)"
      ],
      "metadata": {
        "id": "EDFIJBNsrfCU"
      }
    }
  ]
}
