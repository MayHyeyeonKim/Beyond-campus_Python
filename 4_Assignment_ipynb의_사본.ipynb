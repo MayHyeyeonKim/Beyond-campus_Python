{
  "nbformat": 4,
  "nbformat_minor": 0,
  "metadata": {
    "colab": {
      "name": "4_Assignment.ipynb의 사본",
      "provenance": [],
      "collapsed_sections": [],
      "include_colab_link": true
    },
    "kernelspec": {
      "name": "python3",
      "display_name": "Python 3"
    },
    "language_info": {
      "name": "python"
    }
  },
  "cells": [
    {
      "cell_type": "markdown",
      "metadata": {
        "id": "view-in-github",
        "colab_type": "text"
      },
      "source": [
        "<a href=\"https://colab.research.google.com/github/MayHyeyeonKim/Beyond-campus_Python/blob/main/4_Assignment_ipynb%EC%9D%98_%EC%82%AC%EB%B3%B8.ipynb\" target=\"_parent\"><img src=\"https://colab.research.google.com/assets/colab-badge.svg\" alt=\"Open In Colab\"/></a>"
      ]
    },
    {
      "cell_type": "code",
      "execution_count": 1,
      "metadata": {
        "id": "8pErh08IJUlb"
      },
      "outputs": [],
      "source": [
        "from google.colab import drive"
      ]
    },
    {
      "cell_type": "code",
      "source": [
        "drive.mount('/content/drive')"
      ],
      "metadata": {
        "id": "nKqugw10JU84",
        "outputId": "489c32f4-667a-4105-a4ef-b30a4fbd1405",
        "colab": {
          "base_uri": "https://localhost:8080/"
        }
      },
      "execution_count": 2,
      "outputs": [
        {
          "output_type": "stream",
          "name": "stdout",
          "text": [
            "Mounted at /content/drive\n"
          ]
        }
      ]
    },
    {
      "cell_type": "code",
      "source": [
        "absolute_path = '/content/drive/My Drive'\n",
        "%cd $absolute_path"
      ],
      "metadata": {
        "id": "4KiOHgBTJXhG",
        "colab": {
          "base_uri": "https://localhost:8080/"
        },
        "outputId": "11429914-e8e4-4b59-97b0-a9df9c0c8a7b"
      },
      "execution_count": 3,
      "outputs": [
        {
          "output_type": "stream",
          "name": "stdout",
          "text": [
            "/content/drive/My Drive\n"
          ]
        }
      ]
    },
    {
      "cell_type": "markdown",
      "source": [
        "# 입사 D+0: \u001d밤, 퇴근 시간\n",
        "\n",
        "> 왹팀장👽: (눈치를 보며) 이봐 신입 씨. 미안한데! 오늘 전달해준 파일이 잘못된 거라고 하네. \b담당자가 실수로 옛날 파일을 전달했다지 뭐야. 새 파일은 구글 드라이브에 올려놨네. 그리고 중간에 설문이 잘못돼서, 빨**강**색이랑 빨**간**색이 혼용됐다고 하더라고. 담당자가 일을 어떻게 하는 건지. 아무튼 이거는 빨**간**색으로 통일해주게! 마음 같아서는 내가 하고 싶지만, 오늘은 아주 중요한 선약이 있어서 나는 이만 퇴근해야 하네. 신입 씨가 해주게. 대신 내일은 한 시간 일찍 퇴근해도 좋아.\n",
        "\n",
        "> 👀: 아니... 지금까지 했던게 전부 헛수로라고요? 첫날부터 야근이라니. 이래도 되는 건가요? 저기요! 팀장님? 잠깐만요!<br/> 아.. 가버리셨네!"
      ],
      "metadata": {
        "id": "2E0yK3klJwWP"
      }
    },
    {
      "cell_type": "markdown",
      "source": [
        "# 과제: 여러 파일을 합치고, 중복 line break를 없애고, 빨**강**색을 빨**간**색으로 통일하자.\n",
        "\n",
        "파일은 assignment_files 디렉토리 안에 있습니다. 파일은 5개입니다."
      ],
      "metadata": {
        "id": "dlzaLHUWvwkA"
      }
    },
    {
      "cell_type": "markdown",
      "source": [
        "### 1. 파일 읽기\n",
        "\n",
        "파일 5개를 읽어보세요."
      ],
      "metadata": {
        "id": "DnlWlHcHGvC4"
      }
    },
    {
      "cell_type": "code",
      "source": [
        "# 코드를 작성하세요\n",
        "f1 = open('PythonCourse/week1/assignment_files/file1.txt')\n",
        "f2 = open('PythonCourse/week1/assignment_files/file2.txt')\n",
        "f3 = open('PythonCourse/week1/assignment_files/file3.txt')\n",
        "f4 = open('PythonCourse/week1/assignment_files/file4.txt')\n",
        "f5 = open('PythonCourse/week1/assignment_files/file5.txt')\n",
        "\n",
        "f1_content = f1.read()\n",
        "f2_content = f2.read()\n",
        "f3_content = f3.read()\n",
        "f4_content = f4.read()\n",
        "f5_content = f5.read()"
      ],
      "metadata": {
        "id": "2iGz_TGQjSeN"
      },
      "execution_count": 4,
      "outputs": []
    },
    {
      "cell_type": "markdown",
      "source": [
        "### 2. 내용물 합치기\n",
        "\n",
        "파일 5개의 내용물을 합쳐보세요."
      ],
      "metadata": {
        "id": "hHwNLCVykm1O"
      }
    },
    {
      "cell_type": "code",
      "source": [
        "# 코드를 작성하세요\n",
        "ffmerged = f1_content + f2_content + f3_content + f4_content + f5_content "
      ],
      "metadata": {
        "id": "sBeFNs0EgTey"
      },
      "execution_count": null,
      "outputs": []
    },
    {
      "cell_type": "markdown",
      "source": [
        "### 3. 중복 line break 제거\n",
        "\n",
        "line break가 두 번 연속되지 않게 만들어주세요."
      ],
      "metadata": {
        "id": "PlqqmXZngYdq"
      }
    },
    {
      "cell_type": "code",
      "source": [
        "# 코드를 작성하세요\n",
        "content_cleansed = ffmerged.replace(\"\\n\\n\", \"\\n\")\n",
        "content_cleansed = content_cleansed.replace(\"\\n\\n\", \"\\n\")\n",
        "content_cleansed = content_cleansed.replace(\"\\n\\n\", \"\\n\")\n"
      ],
      "metadata": {
        "id": "_jvex5R2gbTG"
      },
      "execution_count": null,
      "outputs": []
    },
    {
      "cell_type": "markdown",
      "source": [
        "### 4. 빨강색을 빨간색으로 바꾸기\n",
        "\n",
        "힌트: 앞서 배운 replace(어쩌고, 저쩌고)를 이용하면 됩니다.\n",
        "최종 결과물을 저장하는 변수는 result 라고 이름 지어 주세요."
      ],
      "metadata": {
        "id": "dlKOLnZbgdDH"
      }
    },
    {
      "cell_type": "code",
      "source": [
        "# 코드를 작성하세요\n",
        "content_cleansed = content_cleansed.replace(\"빨강색\",\"빨간색\")\n",
        "\n",
        "\n",
        "\n",
        "\n",
        "# 최종 결과물을 저장하는 변수는 result 라고 이름 지어 주세요.\n",
        "# 아래에서 이 변수로 코드를 잘 짜셨는지 확인할겁니다.\n",
        "result = content_cleansed"
      ],
      "metadata": {
        "id": "OZmOXHnggfNR"
      },
      "execution_count": null,
      "outputs": []
    },
    {
      "cell_type": "markdown",
      "source": [
        "### 5. 파일 저장하기 -> 스킵합니다"
      ],
      "metadata": {
        "id": "OOLouXqSgnG2"
      }
    },
    {
      "cell_type": "markdown",
      "source": [
        "### 6. 잘했는지 확인하기\n",
        "\n",
        "다음 코드를 실행했을 때 다음과 같이 나오면 성공한 것입니다.\n",
        "\n",
        "```\n",
        "발견된 중복 line break 수: 0\n",
        "발견된 빨강색: 0\n",
        "발견된 빨간색: 큰 수치(20,000,000 보다 크면 OK)\n",
        "```"
      ],
      "metadata": {
        "id": "GZnZA30whAp_"
      }
    },
    {
      "cell_type": "code",
      "source": [
        "print(\"발견된 중복 line break 수:\", result.count(\"\\n\\n\"))\n",
        "print(\"발견된 빨강색:\", result.count(\"빨강색\"))\n",
        "print(\"발견된 빨간색:\", result.count(\"빨간색\"))"
      ],
      "metadata": {
        "id": "9mqmV_9DhAFx",
        "colab": {
          "base_uri": "https://localhost:8080/"
        },
        "outputId": "e138da7f-d45f-43c1-bd6f-963d88f54552"
      },
      "execution_count": null,
      "outputs": [
        {
          "output_type": "stream",
          "name": "stdout",
          "text": [
            "발견된 중복 line break 수: 0\n",
            "발견된 빨강색: 0\n",
            "발견된 빨간색: 27761940\n"
          ]
        }
      ]
    }
  ]
}