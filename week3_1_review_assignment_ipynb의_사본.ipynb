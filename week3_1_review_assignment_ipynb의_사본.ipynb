{
  "nbformat": 4,
  "nbformat_minor": 0,
  "metadata": {
    "colab": {
      "name": "1_review_assignment.ipynb의 사본",
      "provenance": [],
      "collapsed_sections": [],
      "include_colab_link": true
    },
    "kernelspec": {
      "name": "python3",
      "display_name": "Python 3"
    },
    "language_info": {
      "name": "python"
    }
  },
  "cells": [
    {
      "cell_type": "markdown",
      "metadata": {
        "id": "view-in-github",
        "colab_type": "text"
      },
      "source": [
        "<a href=\"https://colab.research.google.com/github/MayHyeyeonKim/Beyond-campus_Python/blob/main/1_review_assignment_ipynb%EC%9D%98_%EC%82%AC%EB%B3%B8.ipynb\" target=\"_parent\"><img src=\"https://colab.research.google.com/assets/colab-badge.svg\" alt=\"Open In Colab\"/></a>"
      ]
    },
    {
      "cell_type": "code",
      "source": [
        "from google.colab import drive"
      ],
      "metadata": {
        "id": "2Q3a4SGIv2TT"
      },
      "execution_count": null,
      "outputs": []
    },
    {
      "cell_type": "code",
      "source": [
        "drive.mount('/content/drive')"
      ],
      "metadata": {
        "id": "N7qvRJAfv2JI",
        "outputId": "aceaebcc-f2c7-408b-8452-c454663b474c",
        "colab": {
          "base_uri": "https://localhost:8080/"
        }
      },
      "execution_count": null,
      "outputs": [
        {
          "output_type": "stream",
          "name": "stdout",
          "text": [
            "Mounted at /content/drive\n"
          ]
        }
      ]
    },
    {
      "cell_type": "code",
      "source": [
        "absolute_path = '/content/drive/My Drive'\n",
        "%cd $absolute_path"
      ],
      "metadata": {
        "id": "eRcyexq_v2Fw",
        "outputId": "3b1d1896-57af-4dcc-8dec-f7baa6626af3",
        "colab": {
          "base_uri": "https://localhost:8080/"
        }
      },
      "execution_count": null,
      "outputs": [
        {
          "output_type": "stream",
          "name": "stdout",
          "text": [
            "/content/drive/My Drive\n"
          ]
        }
      ]
    },
    {
      "cell_type": "markdown",
      "source": [
        "# 입사 D+1: 퇴근 시간\n",
        "\n",
        "> 👀: 결국 오늘도 야근이로군..."
      ],
      "metadata": {
        "id": "2E0yK3klJwWP"
      }
    },
    {
      "cell_type": "markdown",
      "source": [
        "# 과제: 코드를 리팩토링 하면서 설문 결과도 같이 집계하자.\n",
        "\n",
        "파일은 week2/files 디렉토리 안에 있습니다. 파일은 총 30개입니다."
      ],
      "metadata": {
        "id": "LRlmjUvxXWmm"
      }
    },
    {
      "cell_type": "markdown",
      "source": [
        "### 1. 파일 읽기(리팩토링)\n",
        "\n",
        "for-loop를 사용하여 파일 30개를 모두 읽어오세요."
      ],
      "metadata": {
        "id": "LysLVaHvnUGq"
      }
    },
    {
      "cell_type": "code",
      "source": [
        "# 코드를 작성하세요\n",
        "content = \"\"\n",
        "for index in range(1, 30+1):\n",
        "  with open(f\"PythonCourse/week2/files/file{index}.txt\") as f:\n",
        "    content += f.read() + \"\\n\"\n",
        "\n",
        "print(content[:40])"
      ],
      "metadata": {
        "id": "dFQZ1tENnaD_",
        "colab": {
          "base_uri": "https://localhost:8080/",
          "height": 232
        },
        "outputId": "8acd05bd-8662-45ea-a51b-de3e1ace7d79"
      },
      "execution_count": null,
      "outputs": [
        {
          "output_type": "error",
          "ename": "FileNotFoundError",
          "evalue": "ignored",
          "traceback": [
            "\u001b[0;31m---------------------------------------------------------------------------\u001b[0m",
            "\u001b[0;31mFileNotFoundError\u001b[0m                         Traceback (most recent call last)",
            "\u001b[0;32m<ipython-input-1-be5bf128f165>\u001b[0m in \u001b[0;36m<module>\u001b[0;34m()\u001b[0m\n\u001b[1;32m      2\u001b[0m \u001b[0mcontent\u001b[0m \u001b[0;34m=\u001b[0m \u001b[0;34m\"\"\u001b[0m\u001b[0;34m\u001b[0m\u001b[0;34m\u001b[0m\u001b[0m\n\u001b[1;32m      3\u001b[0m \u001b[0;32mfor\u001b[0m \u001b[0mindex\u001b[0m \u001b[0;32min\u001b[0m \u001b[0mrange\u001b[0m\u001b[0;34m(\u001b[0m\u001b[0;36m1\u001b[0m\u001b[0;34m,\u001b[0m \u001b[0;36m30\u001b[0m\u001b[0;34m+\u001b[0m\u001b[0;36m1\u001b[0m\u001b[0;34m)\u001b[0m\u001b[0;34m:\u001b[0m\u001b[0;34m\u001b[0m\u001b[0;34m\u001b[0m\u001b[0m\n\u001b[0;32m----> 4\u001b[0;31m   \u001b[0;32mwith\u001b[0m \u001b[0mopen\u001b[0m\u001b[0;34m(\u001b[0m\u001b[0;34mf\"PythonCourse/week2/files/file{index}.txt\"\u001b[0m\u001b[0;34m)\u001b[0m \u001b[0;32mas\u001b[0m \u001b[0mf\u001b[0m\u001b[0;34m:\u001b[0m\u001b[0;34m\u001b[0m\u001b[0;34m\u001b[0m\u001b[0m\n\u001b[0m\u001b[1;32m      5\u001b[0m     \u001b[0mcontent\u001b[0m \u001b[0;34m+=\u001b[0m \u001b[0mf\u001b[0m\u001b[0;34m.\u001b[0m\u001b[0mread\u001b[0m\u001b[0;34m(\u001b[0m\u001b[0;34m)\u001b[0m \u001b[0;34m+\u001b[0m \u001b[0;34m\"\\n\"\u001b[0m\u001b[0;34m\u001b[0m\u001b[0;34m\u001b[0m\u001b[0m\n\u001b[1;32m      6\u001b[0m \u001b[0;34m\u001b[0m\u001b[0m\n",
            "\u001b[0;31mFileNotFoundError\u001b[0m: [Errno 2] No such file or directory: 'PythonCourse/week2/files/file1.txt'"
          ]
        }
      ]
    },
    {
      "cell_type": "markdown",
      "source": [
        "### 2. \b중복 line break 제거(리팩토링)\n",
        "\n",
        "while 문을 사용하여 line break가 두 번 연속되지 않게 만들어주세요."
      ],
      "metadata": {
        "id": "s9GaIG7_nUED"
      }
    },
    {
      "cell_type": "code",
      "source": [
        "# 코드를 작성하세요\n",
        "while \"\\n\\n\" in content:\n",
        "  content = content.replace(\"\\n\\n\", \"\\n\")"
      ],
      "metadata": {
        "id": "hH2gMSjjnY_9"
      },
      "execution_count": null,
      "outputs": []
    },
    {
      "cell_type": "markdown",
      "source": [
        "### 3. 빨강색을 빨간색으로 바꾸기\n",
        "\n",
        "지금까지의 결과물을 저장하는 변수는 result라고 이름 지어 주세요.\n",
        "\n"
      ],
      "metadata": {
        "id": "LdgFQezPnUBv"
      }
    },
    {
      "cell_type": "code",
      "source": [
        "# 코드를 작성하세요\n",
        "content = content.replace(\"빨강색\", \"빨간색\")\n",
        "\n",
        "# 최종 결과물을 저장하는 변수는 result 라고 이름 지어 주세요.\n",
        "# 아래에서 이 변수로 코드를 잘 짜셨는지 확인할 겁니다.\n",
        "result = content"
      ],
      "metadata": {
        "id": "sREv8KU8nu3x"
      },
      "execution_count": null,
      "outputs": []
    },
    {
      "cell_type": "markdown",
      "source": [
        "### 4. 리팩토링을 잘 했는지 확인하기\n",
        "\n",
        "다음 코드를 실행했을 때 다음과 같이 나오면 성공한 것입니다.\n",
        "\n",
        "```\n",
        "발견된 중복 line break 수: 0\n",
        "발견된 빨강색: 0\n",
        "발견된 빨간색: 큰 수치\n",
        "```\n"
      ],
      "metadata": {
        "id": "AbGISSgnnT9C"
      }
    },
    {
      "cell_type": "code",
      "source": [
        "print(\"발견된 중복 line break 수:\", result.count(\"\\n\\n\"))\n",
        "print(\"발견된 빨강색:\", result.count(\"빨강색\"))\n",
        "print(\"발견된 빨간색:\", result.count(\"빨간색\"))"
      ],
      "metadata": {
        "id": "CL-jXIfXn71X"
      },
      "execution_count": null,
      "outputs": []
    },
    {
      "cell_type": "markdown",
      "source": [
        "### 5. 설문에 어떤 선택지가 있는지 확인하기\n"
      ],
      "metadata": {
        "id": "rh4VwGYfiJhH"
      }
    },
    {
      "cell_type": "code",
      "source": [
        "# 코드를 작성하세요\n",
        "unique_colors = set(content.split(\"\\n\"))\n",
        "unique_colors"
      ],
      "metadata": {
        "id": "whNrPH4OoQVX"
      },
      "execution_count": null,
      "outputs": []
    },
    {
      "cell_type": "markdown",
      "source": [
        "다음 색이 모두 나왔다면 성공입니다.\n",
        "\n",
        "* 빨간색\n",
        "* 파란색\n",
        "* 초록색\n",
        "* 노란색\n",
        "* 검은색\n",
        "* 흰색\n",
        "* 오렌지"
      ],
      "metadata": {
        "id": "iQHZmURvqHal"
      }
    },
    {
      "cell_type": "markdown",
      "source": [
        "### 6. 각 항목이 몇 번 등장했는지 세기\n",
        "\n",
        "다음과 같은 형식으로, 색이 몇 개나 나왔는지 세어 주세요\n",
        "\n",
        "```\n",
        "빨간색: (숫자)개\n",
        "파란색: (숫자)개\n",
        "...\n",
        "```"
      ],
      "metadata": {
        "id": "feGKGk5yqS5S"
      }
    },
    {
      "cell_type": "code",
      "source": [
        "# 코드를 작성하세요\n",
        "for color in unique_colors:\n",
        "  if not color:\n",
        "    continue\n",
        "  print(f\"{color}: {content.count(color)}개\")"
      ],
      "metadata": {
        "id": "jjS-F2uuqQOZ",
        "colab": {
          "base_uri": "https://localhost:8080/",
          "height": 232
        },
        "outputId": "ee3a1fa0-29c0-4d65-8c59-c21c9a31c735"
      },
      "execution_count": null,
      "outputs": [
        {
          "output_type": "error",
          "ename": "NameError",
          "evalue": "ignored",
          "traceback": [
            "\u001b[0;31m---------------------------------------------------------------------------\u001b[0m",
            "\u001b[0;31mNameError\u001b[0m                                 Traceback (most recent call last)",
            "\u001b[0;32m<ipython-input-5-a31325abdc7a>\u001b[0m in \u001b[0;36m<module>\u001b[0;34m()\u001b[0m\n\u001b[1;32m      1\u001b[0m \u001b[0;31m# 코드를 작성하세요\u001b[0m\u001b[0;34m\u001b[0m\u001b[0;34m\u001b[0m\u001b[0;34m\u001b[0m\u001b[0m\n\u001b[0;32m----> 2\u001b[0;31m \u001b[0;32mfor\u001b[0m \u001b[0mcolor\u001b[0m \u001b[0;32min\u001b[0m \u001b[0munique_colors\u001b[0m\u001b[0;34m:\u001b[0m\u001b[0;34m\u001b[0m\u001b[0;34m\u001b[0m\u001b[0m\n\u001b[0m\u001b[1;32m      3\u001b[0m   \u001b[0;32mif\u001b[0m \u001b[0;32mnot\u001b[0m \u001b[0mcolor\u001b[0m\u001b[0;34m:\u001b[0m\u001b[0;34m\u001b[0m\u001b[0;34m\u001b[0m\u001b[0m\n\u001b[1;32m      4\u001b[0m     \u001b[0;32mcontinue\u001b[0m\u001b[0;34m\u001b[0m\u001b[0;34m\u001b[0m\u001b[0m\n\u001b[1;32m      5\u001b[0m   \u001b[0mprint\u001b[0m\u001b[0;34m(\u001b[0m\u001b[0;34mf\"{color}: {content.count(color)}개\"\u001b[0m\u001b[0;34m)\u001b[0m\u001b[0;34m\u001b[0m\u001b[0;34m\u001b[0m\u001b[0m\n",
            "\u001b[0;31mNameError\u001b[0m: name 'unique_colors' is not defined"
          ]
        }
      ]
    }
  ]
}
