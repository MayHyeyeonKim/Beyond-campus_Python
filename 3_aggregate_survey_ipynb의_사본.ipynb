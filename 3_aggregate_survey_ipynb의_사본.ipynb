{
  "nbformat": 4,
  "nbformat_minor": 0,
  "metadata": {
    "colab": {
      "name": "3_aggregate survey.ipynb의 사본",
      "provenance": [],
      "collapsed_sections": [],
      "include_colab_link": true
    },
    "kernelspec": {
      "name": "python3",
      "display_name": "Python 3"
    },
    "language_info": {
      "name": "python"
    }
  },
  "cells": [
    {
      "cell_type": "markdown",
      "metadata": {
        "id": "view-in-github",
        "colab_type": "text"
      },
      "source": [
        "<a href=\"https://colab.research.google.com/github/MayHyeyeonKim/Beyond-campus_Python/blob/main/3_aggregate_survey_ipynb%EC%9D%98_%EC%82%AC%EB%B3%B8.ipynb\" target=\"_parent\"><img src=\"https://colab.research.google.com/assets/colab-badge.svg\" alt=\"Open In Colab\"/></a>"
      ]
    },
    {
      "cell_type": "code",
      "source": [
        "from google.colab import drive"
      ],
      "metadata": {
        "id": "2Q3a4SGIv2TT"
      },
      "execution_count": null,
      "outputs": []
    },
    {
      "cell_type": "code",
      "source": [
        "drive.mount('/content/drive')"
      ],
      "metadata": {
        "id": "N7qvRJAfv2JI",
        "colab": {
          "base_uri": "https://localhost:8080/"
        },
        "outputId": "8914883e-588d-46a8-8e2d-ca2dd88aae5d"
      },
      "execution_count": null,
      "outputs": [
        {
          "output_type": "stream",
          "name": "stdout",
          "text": [
            "Mounted at /content/drive\n"
          ]
        }
      ]
    },
    {
      "cell_type": "code",
      "source": [
        "absolute_path = '/content/drive/My Drive'\n",
        "%cd $absolute_path"
      ],
      "metadata": {
        "id": "eRcyexq_v2Fw",
        "colab": {
          "base_uri": "https://localhost:8080/"
        },
        "outputId": "00947d9a-2654-42bd-8d75-b507f14ff63c"
      },
      "execution_count": null,
      "outputs": [
        {
          "output_type": "stream",
          "name": "stdout",
          "text": [
            "/content/drive/My Drive\n"
          ]
        }
      ]
    },
    {
      "cell_type": "markdown",
      "source": [
        "# 입사 D+1: \b오후\n",
        "\n",
        "> 👀: 그럼 이제 어제 야근하며 짰던 코드를 리팩토링해볼까?\n",
        "\n",
        "> 멍팀장🐶: (헐레벌떡) 정지! 급한 일이 생겼어요. 마케팅팀 왹팀장👽이 일이 잘못돼서 도망을 갔다고.. 부장님이 마케팅팀원들도 지금 난리가 났다고, 우리더러 설문 정리하는 걸 땜빵하라고 하네요. \n",
        "\n",
        "> 👀: (하하 회사가 엉망이로군) 그럼 이제 뭘 할까요?\n",
        "\n",
        "> 멍팀장🐶: 그게... 일단 지금은 설문 조사 결과를 집계해달라고 하네요. 그리고 어제 받았던 파일도 잘못된 거라고, 아예 새로 주더라고요. 저는 내일까지 개발해야할게 남아있어서, 눈눈👀씨가 해주시겠어요? 어떻게 하는 건지 알려줄게요.\n",
        "\n",
        "> 👀: 네 알겠습니다."
      ],
      "metadata": {
        "id": "2E0yK3klJwWP"
      }
    },
    {
      "cell_type": "markdown",
      "source": [
        "# 할 일: 설문 결과 집계하기\n"
      ],
      "metadata": {
        "id": "LRlmjUvxXWmm"
      }
    },
    {
      "cell_type": "markdown",
      "source": [
        "# STEP 1. 색깔 집계하기\n",
        "\n",
        "> 멍팀장🐶: 설문에 빨간색이 몇 번 등장하는지 세어 봅시다. 새 파일은 week2/files 디렉토리 안에 있대요. 파일은 30개인데, 일단 한 파일으로만 같이 집계해봐요. 나머지 파일 29개는 눈눈👀씨가 리팩토링하면서 같이 집계해주세요."
      ],
      "metadata": {
        "id": "rh4VwGYfiJhH"
      }
    },
    {
      "cell_type": "markdown",
      "source": [
        "## 알려줄게요!: \b문자열에서 어떤 값이 몇 번 등장하는지 세기\n",
        "\n",
        "문자열에 어떤 값이 몇 번 등장하는지 확인하려면 [원본문자열.count(세고싶은값)](https://docs.python.org/3/library/stdtypes.html#str.count)을 이용합니다."
      ],
      "metadata": {
        "id": "G2SgGWhiiJew"
      }
    },
    {
      "cell_type": "markdown",
      "source": [
        "## 예시"
      ],
      "metadata": {
        "id": "9_UaZsBciJca"
      }
    },
    {
      "cell_type": "markdown",
      "source": [
        "### 예시 1: 문장에 Banana가 몇 번 등장하는지 세기\n",
        "\n",
        "다음은 문장에서 Banana가 몇 번 등장하는지 세는 코드입니다.\n",
        "\n",
        "왼쪽에 위치한 화살표 버튼을 클릭하여 코드를 실행해보세요."
      ],
      "metadata": {
        "id": "59y-BS1EiJaF"
      }
    },
    {
      "cell_type": "code",
      "source": [
        "fruits = \"Apple Banana Melon Apple Melon Banana\"\n",
        "\n",
        "print(fruits.count(\"Banana\"))"
      ],
      "metadata": {
        "id": "w2W1Sk0BjTvR",
        "colab": {
          "base_uri": "https://localhost:8080/"
        },
        "outputId": "8072f00e-a031-4255-c955-820ba2341d14"
      },
      "execution_count": null,
      "outputs": [
        {
          "output_type": "stream",
          "name": "stdout",
          "text": [
            "2\n"
          ]
        }
      ]
    },
    {
      "cell_type": "markdown",
      "source": [
        "📌 .count()는 대소문자를 구분합니다. count(\"**b**anana\")라고 하면 0이 나와요!"
      ],
      "metadata": {
        "id": "HUuwiGWLjsqy"
      }
    },
    {
      "cell_type": "code",
      "source": [
        "fruits = \"Apple Banana Melon Apple Melon Banana\"\n",
        "\n",
        "print(fruits.count(\"banana\"))"
      ],
      "metadata": {
        "id": "R4ZMDPebj1t5",
        "colab": {
          "base_uri": "https://localhost:8080/"
        },
        "outputId": "f58d7902-468d-4b06-a1cc-a7d9e4283bff"
      },
      "execution_count": null,
      "outputs": [
        {
          "output_type": "stream",
          "name": "stdout",
          "text": [
            "0\n"
          ]
        }
      ]
    },
    {
      "cell_type": "markdown",
      "source": [
        "## 실습 1"
      ],
      "metadata": {
        "id": "aOnTc9OSjf2T"
      }
    },
    {
      "cell_type": "markdown",
      "source": [
        "### TODO: 문장에 스페이스(\" \")가 몇 번 등장하는지 세기\n",
        "\n",
        "문자열 `fruits`에 스페이스(\" \")가 몇 번 등장하는지 세어 주세요."
      ],
      "metadata": {
        "id": "FAx0gc4QjiF8"
      }
    },
    {
      "cell_type": "code",
      "source": [
        "# 코드를 작성해주세요\n",
        "fruits.count(\" \")"
      ],
      "metadata": {
        "id": "pdwPOGOekFLw",
        "colab": {
          "base_uri": "https://localhost:8080/"
        },
        "outputId": "c8e717d5-510f-4fe2-8449-a9d1b405ccc4"
      },
      "execution_count": null,
      "outputs": [
        {
          "output_type": "execute_result",
          "data": {
            "text/plain": [
              "5"
            ]
          },
          "metadata": {},
          "execution_count": 6
        }
      ]
    },
    {
      "cell_type": "markdown",
      "source": [
        "### TODO: 첫번째 파일에 \"빨간색\"이 몇 번 등장하는지 세기"
      ],
      "metadata": {
        "id": "Rr0lfeQGjh6O"
      }
    },
    {
      "cell_type": "code",
      "source": [
        "# 파일을 읽는 코드\n",
        "\n",
        "with open('PythonCourse/week2/files/file1.txt', 'r') as f:\n",
        "  content = f.read()\n",
        "\n",
        "print(content[:40])"
      ],
      "metadata": {
        "id": "LMQ_CyqSkKcf",
        "colab": {
          "base_uri": "https://localhost:8080/"
        },
        "outputId": "d31e01f1-864c-4caa-db40-00e958271301"
      },
      "execution_count": null,
      "outputs": [
        {
          "output_type": "stream",
          "name": "stdout",
          "text": [
            "파란색\n",
            "파란색\n",
            "파란색\n",
            "파란색\n",
            "노란색\n",
            "검은색\n",
            "\n",
            "파란색\n",
            "빨간색\n",
            "빨간색\n",
            "파란색\n"
          ]
        }
      ]
    },
    {
      "cell_type": "code",
      "source": [
        "# 코드를 작성해주세요.\n",
        "content.count(\"빨간색\")"
      ],
      "metadata": {
        "id": "x0rhcpE8kMJ8",
        "colab": {
          "base_uri": "https://localhost:8080/"
        },
        "outputId": "46272038-3e5c-4b9d-f2fb-ba6981ceef4e"
      },
      "execution_count": null,
      "outputs": [
        {
          "output_type": "execute_result",
          "data": {
            "text/plain": [
              "95739"
            ]
          },
          "metadata": {},
          "execution_count": 8
        }
      ]
    },
    {
      "cell_type": "markdown",
      "source": [
        "# STEP 2. 설문 선택지 확인하기\n",
        "\n",
        "> 멍팀장🐶: 설문에 빨간색 외에도 다른 색상이 많은데요. 어떤 색이 있는지 눈으로 전부 확인하는 건 힘들겠죠? 파이썬으로 어떤 색상이 있는지 확인하는 방법을 알려줄게요."
      ],
      "metadata": {
        "id": "dlzaLHUWvwkA"
      }
    },
    {
      "cell_type": "markdown",
      "source": [
        "## 알려줄게요!: 파일에 어떤 값이 있는지 확인하기\n",
        "\n",
        "파일을 읽은 후, 줄(new line) 단위로 unique 한 값을 확인하는 다음과 같습니다:\n",
        "\n",
        "1. [문자열.split(sep)](https://docs.python.org/3/library/stdtypes.html#str.split)을 이용하여 파일 내용물을 \b쪼개기\n",
        "  * 첫 번째 파라미터인 sep(seperator의 줄임말)에는 문자열을 쪼갤 단위를 넣습니다.\n",
        "2. `set()` 을 이용하여 unique 한 원소를 알아내기"
      ],
      "metadata": {
        "id": "gWc_MIsndpIF"
      }
    },
    {
      "cell_type": "markdown",
      "source": [
        "## 예시"
      ],
      "metadata": {
        "id": "NGi5XQ15faFV"
      }
    },
    {
      "cell_type": "markdown",
      "source": [
        "### 예시 1: 문장에서 단어 추출하기\n",
        "\n",
        "다음은 문장에서 unqiue한 단어를 추출하는 코드입니다.\n",
        "\n",
        "왼쪽에 위치한 화살표 버튼을 클릭하여 코드를 차례로 실행해보세요."
      ],
      "metadata": {
        "id": "LJ5Nt0-KfaxY"
      }
    },
    {
      "cell_type": "code",
      "source": [
        "# \b주어진 문장\n",
        "\n",
        "fruits = \"Apple Banana Melon Apple Melon Banana\"\n",
        "print(fruits)"
      ],
      "metadata": {
        "id": "iWPZCuLUfZz3",
        "colab": {
          "base_uri": "https://localhost:8080/"
        },
        "outputId": "04425f1a-c50e-4ee4-9303-756401a5f53c"
      },
      "execution_count": null,
      "outputs": [
        {
          "output_type": "stream",
          "name": "stdout",
          "text": [
            "Apple Banana Melon Apple Melon Banana\n"
          ]
        }
      ]
    },
    {
      "cell_type": "code",
      "source": [
        "# 문장을 띄어쓰기(\" \") 단위로 쪼개기\n",
        "\n",
        "fruits_seperated = fruits.split(\"\\n\")\n",
        "print(fruits_seperated)"
      ],
      "metadata": {
        "id": "p0GWY2nGgG3s",
        "colab": {
          "base_uri": "https://localhost:8080/"
        },
        "outputId": "dc5235a0-ad37-4b26-bab6-24aaea8ff091"
      },
      "execution_count": null,
      "outputs": [
        {
          "output_type": "stream",
          "name": "stdout",
          "text": [
            "['Apple Banana Melon Apple Melon Banana']\n"
          ]
        }
      ]
    },
    {
      "cell_type": "code",
      "source": [
        "# 문장에 있는 unique 한 단어 추출하기\n",
        "\n",
        "fruits_unqiue = set(fruits_seperated)\n",
        "print(fruits_unqiue)"
      ],
      "metadata": {
        "id": "hp2iAyEhgG0l",
        "colab": {
          "base_uri": "https://localhost:8080/"
        },
        "outputId": "aab086f5-3069-4481-e3b6-34fe94c6e55e"
      },
      "execution_count": null,
      "outputs": [
        {
          "output_type": "stream",
          "name": "stdout",
          "text": [
            "{'Apple Banana Melon Apple Melon Banana'}\n"
          ]
        }
      ]
    },
    {
      "cell_type": "code",
      "source": [
        "# 문장에 있는 unique한 단어 하나씩 출력하기\n",
        "\n",
        "fruits_unqiue = set(fruits_seperated)\n",
        "for fruit in fruits_unqiue:\n",
        "  print(fruit)"
      ],
      "metadata": {
        "id": "cMOY2sNvgetK",
        "colab": {
          "base_uri": "https://localhost:8080/"
        },
        "outputId": "59d08e0b-4153-4df9-e982-81d9360547b9"
      },
      "execution_count": null,
      "outputs": [
        {
          "output_type": "stream",
          "name": "stdout",
          "text": [
            "Apple Banana Melon Apple Melon Banana\n"
          ]
        }
      ]
    },
    {
      "cell_type": "markdown",
      "source": [
        "## 실습 2"
      ],
      "metadata": {
        "id": "_B7-COM1gtJ0"
      }
    },
    {
      "cell_type": "code",
      "source": [
        "# 파일 읽기\n",
        "\n",
        "with open('PythonCourse/week2/files/file1.txt', 'r') as f:\n",
        "  content = f.read()\n",
        "\n",
        "print(content[:40])"
      ],
      "metadata": {
        "id": "_8uHPk1MgqMo",
        "colab": {
          "base_uri": "https://localhost:8080/"
        },
        "outputId": "0d79f924-40e8-4d9a-9287-b1b4e25a52ff"
      },
      "execution_count": null,
      "outputs": [
        {
          "output_type": "stream",
          "name": "stdout",
          "text": [
            "파란색\n",
            "파란색\n",
            "파란색\n",
            "파란색\n",
            "노란색\n",
            "검은색\n",
            "\n",
            "파란색\n",
            "빨간색\n",
            "빨간색\n",
            "파란색\n"
          ]
        }
      ]
    },
    {
      "cell_type": "markdown",
      "source": [
        "### TODO: 문장을 line break 단위로 쪼개기\n",
        "\n",
        ".split을 이용해서 문자열 `content`를 line break(\"\\n\") 단위로 쪼개 보세요."
      ],
      "metadata": {
        "id": "8XtOJVZ6guGW"
      }
    },
    {
      "cell_type": "code",
      "source": [
        "# 코드를 작성해주세요.\n",
        "content = content.split(\"\\n\")\n",
        "print(content)"
      ],
      "metadata": {
        "id": "ykIZJiAJgqKC",
        "colab": {
          "base_uri": "https://localhost:8080/",
          "height": 204
        },
        "outputId": "cb39a1ca-38d8-447d-e565-8e5d459f31fa"
      },
      "execution_count": null,
      "outputs": [
        {
          "output_type": "error",
          "ename": "AttributeError",
          "evalue": "ignored",
          "traceback": [
            "\u001b[0;31m---------------------------------------------------------------------------\u001b[0m",
            "\u001b[0;31mAttributeError\u001b[0m                            Traceback (most recent call last)",
            "\u001b[0;32m<ipython-input-18-b5a01228a216>\u001b[0m in \u001b[0;36m<module>\u001b[0;34m()\u001b[0m\n\u001b[1;32m      1\u001b[0m \u001b[0;31m# 코드를 작성해주세요.\u001b[0m\u001b[0;34m\u001b[0m\u001b[0;34m\u001b[0m\u001b[0;34m\u001b[0m\u001b[0m\n\u001b[0;32m----> 2\u001b[0;31m \u001b[0mcontent\u001b[0m \u001b[0;34m=\u001b[0m \u001b[0mcontent\u001b[0m\u001b[0;34m.\u001b[0m\u001b[0msplit\u001b[0m\u001b[0;34m(\u001b[0m\u001b[0;34m\"\\n\"\u001b[0m\u001b[0;34m)\u001b[0m\u001b[0;34m\u001b[0m\u001b[0;34m\u001b[0m\u001b[0m\n\u001b[0m\u001b[1;32m      3\u001b[0m \u001b[0mprint\u001b[0m\u001b[0;34m(\u001b[0m\u001b[0mcontent\u001b[0m\u001b[0;34m)\u001b[0m\u001b[0;34m\u001b[0m\u001b[0;34m\u001b[0m\u001b[0m\n",
            "\u001b[0;31mAttributeError\u001b[0m: 'list' object has no attribute 'split'"
          ]
        }
      ]
    },
    {
      "cell_type": "markdown",
      "source": [
        "### TODO: unique 한 문자열 추출하기\n",
        "\n",
        "앞서 line break 단위로 쪼갠 결과물에서 unique 한 원소를 추출해보세요."
      ],
      "metadata": {
        "id": "i5r4ece3hvVC"
      }
    },
    {
      "cell_type": "code",
      "source": [
        "# 코드를 작성해주세요.\n",
        "set(content)"
      ],
      "metadata": {
        "id": "3YSW0XJ6hm4x",
        "colab": {
          "base_uri": "https://localhost:8080/"
        },
        "outputId": "c887d970-b2eb-44c1-f279-1b632af88447"
      },
      "execution_count": null,
      "outputs": [
        {
          "output_type": "execute_result",
          "data": {
            "text/plain": [
              "{'\\n', '간', '강', '검', '노', '란', '록', '빨', '색', '은', '초', '파', '흰'}"
            ]
          },
          "metadata": {},
          "execution_count": 15
        }
      ]
    },
    {
      "cell_type": "markdown",
      "source": [
        "> 멍팀장🐶: 이걸로 집계하는데 필요한 건 알려줄 건 다 알려줬어요. \b이제 나머지 파일도 다 합쳐서 집계해주세요. 리팩토링 하는 것도 까먹지 말고요!\n",
        "\n",
        "> 👀: 근데... 이제 퇴근할 시간인데...\n",
        "\n",
        "> 멍팀장🐶: (못들은 척 한다)"
      ],
      "metadata": {
        "id": "L0h4mwVKmJ-g"
      }
    }
  ]
}