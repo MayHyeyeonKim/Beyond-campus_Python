{
  "nbformat": 4,
  "nbformat_minor": 0,
  "metadata": {
    "colab": {
      "name": "2_merging-2-large-files.ipynb의 사본",
      "provenance": [],
      "collapsed_sections": [],
      "include_colab_link": true
    },
    "kernelspec": {
      "name": "python3",
      "display_name": "Python 3"
    },
    "language_info": {
      "name": "python"
    }
  },
  "cells": [
    {
      "cell_type": "markdown",
      "metadata": {
        "id": "view-in-github",
        "colab_type": "text"
      },
      "source": [
        "<a href=\"https://colab.research.google.com/github/MayHyeyeonKim/Beyond-campus_Python/blob/main/2_merging_2_large_files_ipynb.ipynb\" target=\"_parent\"><img src=\"https://colab.research.google.com/assets/colab-badge.svg\" alt=\"Open In Colab\"/></a>"
      ]
    },
    {
      "cell_type": "code",
      "execution_count": null,
      "metadata": {
        "id": "8pErh08IJUlb"
      },
      "outputs": [],
      "source": [
        "from google.colab import drive"
      ]
    },
    {
      "cell_type": "code",
      "source": [
        "drive.mount('/content/drive')"
      ],
      "metadata": {
        "id": "nKqugw10JU84",
        "colab": {
          "base_uri": "https://localhost:8080/"
        },
        "outputId": "a58453ab-371f-4261-d343-7f5d3c6f869b"
      },
      "execution_count": null,
      "outputs": [
        {
          "output_type": "stream",
          "name": "stdout",
          "text": [
            "Mounted at /content/drive\n"
          ]
        }
      ]
    },
    {
      "cell_type": "code",
      "source": [
        "absolute_path = '/content/drive/My Drive'\n",
        "%cd $absolute_path"
      ],
      "metadata": {
        "id": "4KiOHgBTJXhG",
        "colab": {
          "base_uri": "https://localhost:8080/"
        },
        "outputId": "6922962c-0158-41fe-8ac3-18c36a2ada4e"
      },
      "execution_count": null,
      "outputs": [
        {
          "output_type": "stream",
          "name": "stdout",
          "text": [
            "/content/drive/My Drive\n"
          ]
        }
      ]
    },
    {
      "cell_type": "markdown",
      "source": [
        "# 입사 D+0: 오전\n",
        "\n",
        "> 왹팀장👽: 이봐 신입 씨. 개발팀에 온 걸 환영해. 나는 왹팀장이라 불러. 거두절미하고, 우리가 이번에 고객한테 보낼 사은품 색깔 관련해서 설문조사를 했는데 말이야. 설문 조사 파일이 두 개로 나누어져 있어서 합쳐야 할 것 같아. 대신해 주겠나? 응? 파일이 너무 커서 여는 데 시간이 너무 많이 걸린다고? 도저히 손으로 복사-붙여 넣기 할 수가 없다고? 나도 알아. 하이 참, 그래도 그런 건 스스로 알아서 해결해야지! 난 외근 때문에 나가보겠네!\n",
        "\n",
        "> 👀: 아니 첫날부터 일을 가르쳐주지도 않고 가다니... 근데 본인도 못 해서 나한테 시키는 건가? 아니겠지? 이런 것도 개발팀이 해야하나...? 모르는게 너무 많다. 일단 일이나 하자."
      ],
      "metadata": {
        "id": "2E0yK3klJwWP"
      }
    },
    {
      "cell_type": "markdown",
      "source": [
        "# 할 일:  large_files 디렉토리에 들어있는 두 파일을 열고, 내용물을 합쳐보자."
      ],
      "metadata": {
        "id": "dlzaLHUWvwkA"
      }
    },
    {
      "cell_type": "markdown",
      "source": [
        "# STEP 1. 파일 내용물 읽기"
      ],
      "metadata": {
        "id": "bhpJ8Tt0K6Qm"
      }
    },
    {
      "cell_type": "markdown",
      "source": [
        "## 알려줄게요!: 파일 내용물 읽는 방법\n",
        "\n",
        "파일의 내용물을 읽으려면 다음 두 단계를 거쳐야 합니다.\n",
        "\n",
        "1. [open(어쩌고, 'r')](https://docs.python.org/3/library/functions.html#open)을 이용하여 파일을 **연다**.\n",
        "    * 첫 번째 파라미터인(`어쩌고`가 들어있는 곳) 파일의 경로를 넣어주어야 한다.\n",
        "    * 두 번째 파라미터에 들어간 `'r'`은 파일을 \"읽기 권한\"으로만 열겠다는 표시이다.\n",
        "2. `.read()`를 이용해서 파일 내용물을 **읽는다**.\n",
        "\n",
        "예시 1: 파일 note.txt을 읽는 코드 🔽\n",
        "\n",
        "```\n",
        "# 파일을 연다.\n",
        "f = open('note.txt', 'r')\n",
        "# 연 파일을 읽는다.\n",
        "f.read()\n",
        "```\n",
        "\n",
        "예시 2: data1이라는 디렉토리 안에 들은 파일 note.txt을 읽는 코드 🔽\n",
        "\n",
        "```\n",
        "# 파일을 연다.\n",
        "f = open('data1/note.txt', 'r')\n",
        "# 연 파일을 읽는다.\n",
        "f.read()\n",
        "```"
      ],
      "metadata": {
        "id": "wA4HsvMNUxmZ"
      }
    },
    {
      "cell_type": "markdown",
      "source": [
        "## 예시"
      ],
      "metadata": {
        "id": "HNWQQ9L-dvre"
      }
    },
    {
      "cell_type": "markdown",
      "source": [
        "### 예시 1: 첫 번째 파일 읽기\n",
        "다음은 large_files 디렉토리의 large1.txt 파일을 읽는 코드입니다.\n",
        "\n",
        "왼쪽에 위치한 화살표 버튼을 클릭하여 코드를 실행해보세요."
      ],
      "metadata": {
        "id": "clYoyRIEU_1l"
      }
    },
    {
      "cell_type": "code",
      "source": [
        ""
      ],
      "metadata": {
        "id": "iaAjjgnVBlpH"
      },
      "execution_count": null,
      "outputs": []
    },
    {
      "cell_type": "markdown",
      "source": [
        ""
      ],
      "metadata": {
        "id": "ir75FBcoBlD2"
      }
    },
    {
      "cell_type": "code",
      "source": [
        "# 이 코드는 파일을 엽니다.\n",
        "file1 = open('PythonCourse/week1/large_files/large1.txt', 'r')\n",
        "\n",
        "# 이 코드는 파일을 읽습니다.\n",
        "file1_content = file1.read()"
      ],
      "metadata": {
        "id": "rjRjrBBSVG0i"
      },
      "execution_count": null,
      "outputs": []
    },
    {
      "cell_type": "markdown",
      "source": [
        "### 예시 2: 첫 번째 파일 내용물 출력하기\n",
        "\n",
        "파일에 뭐라고 써져있는지 한번 볼까요?\n",
        "\n",
        "왼쪽에 위치한 화살표 버튼을 클릭하여 코드를 실행해보세요.\n"
      ],
      "metadata": {
        "id": "MtX5nRwpV-AG"
      }
    },
    {
      "cell_type": "code",
      "source": [
        "# 이 코드는 파일 앞단의 문자 40개를 출력합니다.\n",
        "print(file1_content[:40])"
      ],
      "metadata": {
        "id": "u1D3os28JX1G",
        "colab": {
          "base_uri": "https://localhost:8080/"
        },
        "outputId": "ee71bfa7-de44-470e-830e-9596d27e1d85"
      },
      "execution_count": null,
      "outputs": [
        {
          "output_type": "stream",
          "name": "stdout",
          "text": [
            "빨간색\n",
            "빨간색\n",
            "\n",
            "빨간색\n",
            "파란색\n",
            "파란색\n",
            "파란색\n",
            "파란색\n",
            "빨간색\n",
            "파란색\n",
            "초록색\n"
          ]
        }
      ]
    },
    {
      "cell_type": "markdown",
      "source": [
        "✳︎ 일부는 줄 바꿈(엔터)이 한번만, 일부는 두 번 되어있는 것은 정상입니다. 이걸 예쁘게 만드는 방법은 나중에 배울 겁니다."
      ],
      "metadata": {
        "id": "oBkJIkZDUgU2"
      }
    },
    {
      "cell_type": "markdown",
      "source": [
        "## 📌 궁금해요!"
      ],
      "metadata": {
        "id": "jc_skJ8gWbxl"
      }
    },
    {
      "cell_type": "markdown",
      "source": [
        "### Q1. 파일을 \"여는 것\"과 \"읽는 것\"은 뭐가 다른가요?\n",
        "\n",
        "독서에 비유하자면 이렇게 달라요.\n",
        "\n",
        "* 파일을 여는 것 = 책을 펴는 것(펴기만 하면 됨. 1초도 안 걸림.)\n",
        "* 파일을 읽는 것 = 편 페이지를 읽는 것(눈이나 손으로 읽어야함. 1초보다는 오래 걸림)"
      ],
      "metadata": {
        "id": "XUE0V6Eud7I4"
      }
    },
    {
      "cell_type": "markdown",
      "source": [
        "### Q2. 그러면 \"읽는 것\"과 \"출력하는 것\"은 뭐가 다른가요?\n",
        "\n",
        "독서에 비유하자면 이렇게 달라요.\n",
        "\n",
        "* 파일을 여는 것 = 책을 펴는 것. 펴기만 하면 됨. 1초도 안 걸림.)\n",
        "* 파일을 읽는 것 = 편 페이지를 읽는 것(눈이나 손으로 읽어야 함. 1초보다는 오래 걸림)\n",
        "* ⭐️ **읽은 걸 출력하는 것** = 읽은 것을 말이나 몸짓으로 표현하는 것.(속으로 읽을 때보다 오래 걸림)"
      ],
      "metadata": {
        "id": "dh4DMg6aWvpv"
      }
    },
    {
      "cell_type": "markdown",
      "source": [
        "## 실습 1"
      ],
      "metadata": {
        "id": "XSrMKVnReSC7"
      }
    },
    {
      "cell_type": "markdown",
      "source": [
        "### TODO: large2.txt 파일 읽기\n",
        "\n",
        "\blarge_files 디렉토리의 large2.txt 파일을 열고 읽어보세요."
      ],
      "metadata": {
        "id": "Kqp_pk-FUz9S"
      }
    },
    {
      "cell_type": "code",
      "source": [
        "# TODO: \blarge_files 디렉토리의 large2.txt 파일을 열고 읽는 코드를 작성해 보세요.\n",
        "\n",
        "# 파일을 열어보세요. \n",
        "file2 = open('PythonCourse/week1/large_files/large2.txt', 'r')\n",
        "\n",
        "# 파일을 읽어보세요.\n",
        "file2_content = file2.read()"
      ],
      "metadata": {
        "id": "Jmb8vMx-P8Nd"
      },
      "execution_count": null,
      "outputs": []
    },
    {
      "cell_type": "markdown",
      "source": [
        "실행했을 때 아무것도 안 보이는 게 정상입니다.\n",
        "파일이 너무 커서 내용물을 전부 출력하면 \b시간이 너무 오래 걸려 일부러 아무것도 안 보이게 만들었습니다."
      ],
      "metadata": {
        "id": "7GPtCEuBeHf5"
      }
    },
    {
      "cell_type": "markdown",
      "source": [
        "### 잘했는지 확인하기\n",
        "\n",
        "잘 됐는지 확인해볼까요?\n",
        "아래 코드를 실행했을 때 맨 앞줄이 다음과 같이 표시되어야 합니다.\n",
        "\n",
        "```\n",
        "빨간색\n",
        "초록색\n",
        "파란색\n",
        "\n",
        "파란색\n",
        "빨간색\n",
        "(이하 생략)\n",
        "```\n",
        "\n",
        "✳︎ 일부는 줄 바꿈(엔터)이 한번만, 일부는 두 번 되어있는 것은 정상입니다. 이걸 예쁘게 만드는 방법은 나중에 배울 겁니다."
      ],
      "metadata": {
        "id": "jJDjlOLqePrf"
      }
    },
    {
      "cell_type": "code",
      "source": [
        "print(file2_content[:100])"
      ],
      "metadata": {
        "id": "57MN8zRrXjx0",
        "colab": {
          "base_uri": "https://localhost:8080/"
        },
        "outputId": "496eae01-9d45-4c77-bdfa-3a15b299b083"
      },
      "execution_count": null,
      "outputs": [
        {
          "output_type": "stream",
          "name": "stdout",
          "text": [
            "빨간색\n",
            "초록색\n",
            "파란색\n",
            "\n",
            "파란색\n",
            "빨간색\n",
            "빨간색\n",
            "빨간색\n",
            "빨간색\n",
            "초록색\n",
            "빨간색\n",
            "파란색\n",
            "초록색\n",
            "파란색\n",
            "빨간색\n",
            "초록색\n",
            "파란색\n",
            "빨간색\n",
            "초록색\n",
            "빨간색\n",
            "빨간색\n",
            "파란색\n",
            "빨간색\n",
            "초록색\n",
            "초록색\n",
            "빨간색\n"
          ]
        }
      ]
    },
    {
      "cell_type": "markdown",
      "source": [
        "# STEP 2. 두 파일의 내용물 합치기\n",
        "\n",
        "두 파일을 읽어왔으니, \b이제는 내용을 합쳐봅시다."
      ],
      "metadata": {
        "id": "9yShGinTZNQd"
      }
    },
    {
      "cell_type": "markdown",
      "source": [
        "## 알려줄게요! 문자열 합치는 방법\n",
        "\n",
        "문자열을 합칠 때에는\b `+` 기호를 이용합니다."
      ],
      "metadata": {
        "id": "zEXMo-XkZSTI"
      }
    },
    {
      "cell_type": "markdown",
      "source": [
        "## 예시"
      ],
      "metadata": {
        "id": "sQz-eAjGe2BW"
      }
    },
    {
      "cell_type": "markdown",
      "source": [
        "### 예시 1: 문자열 두 개 합치기\n",
        "\n",
        "다음은 'abc'와 'def'를 합쳐 'abcdef'를 출력하는 코드입니다.\n",
        "\n",
        "왼쪽에 위치한 화살표 버튼을 클릭하여 코드를 실행해보세요."
      ],
      "metadata": {
        "id": "keesMbjSaRHv"
      }
    },
    {
      "cell_type": "code",
      "source": [
        "# 이렇게도 가능\n",
        "a = 'abc'\n",
        "b = 'def'\n",
        "c = a + b\n",
        "\n",
        "print(c)"
      ],
      "metadata": {
        "id": "cqwFf5ruZRc6",
        "colab": {
          "base_uri": "https://localhost:8080/"
        },
        "outputId": "241b1697-113c-499c-8c0f-9ad44c4d906b"
      },
      "execution_count": null,
      "outputs": [
        {
          "output_type": "stream",
          "name": "stdout",
          "text": [
            "abcdef\n"
          ]
        }
      ]
    },
    {
      "cell_type": "code",
      "source": [
        "# 이렇게도 가능\n",
        "text = 'abc' + 'def'\n",
        "\n",
        "print(text)"
      ],
      "metadata": {
        "id": "tS0bD6fLe-l-",
        "colab": {
          "base_uri": "https://localhost:8080/"
        },
        "outputId": "15d11e72-b738-418b-d7bd-8c4f8e31ca75"
      },
      "execution_count": null,
      "outputs": [
        {
          "output_type": "stream",
          "name": "stdout",
          "text": [
            "abcdef\n"
          ]
        }
      ]
    },
    {
      "cell_type": "markdown",
      "source": [
        "### 예시 2: 한 줄에 문자열 여러 번 합치기\n",
        "\n",
        "다음과 같이 + 기호를 여러 번 쓰는 것도 가능해요!"
      ],
      "metadata": {
        "id": "5kb09n40ammk"
      }
    },
    {
      "cell_type": "code",
      "source": [
        "a = 'abc'\n",
        "b = 'def'\n",
        "c = a + b + a + a + b + a\n",
        "\n",
        "print(c)"
      ],
      "metadata": {
        "id": "QJw8xDBdaj-O",
        "colab": {
          "base_uri": "https://localhost:8080/"
        },
        "outputId": "14a52e1d-8791-421d-832b-7a8bc895ebe5"
      },
      "execution_count": null,
      "outputs": [
        {
          "output_type": "stream",
          "name": "stdout",
          "text": [
            "abcdefabcabcdefabc\n"
          ]
        }
      ]
    },
    {
      "cell_type": "markdown",
      "source": [
        "## 실습 2"
      ],
      "metadata": {
        "id": "xr7vYDo0bx9i"
      }
    },
    {
      "cell_type": "markdown",
      "source": [
        "### TODO: 두 파일의 내용물 합치기\n",
        "\n",
        "우리는 앞서 파일 1의 내용물과 파일 2의 내용물을 각각 `file1_content`, `file2_content`라는 변수에 저장했습니다.\n",
        "\n",
        "두 내용물을 합쳐서 `content_merged`라는 변수에 저장해주세요."
      ],
      "metadata": {
        "id": "cdHbVroyfTgE"
      }
    },
    {
      "cell_type": "code",
      "source": [
        "# TODD: 두 내용물을 합쳐서 `content_merged`라는 변수에 저장하는 코드를 작성해주세요.\n",
        "# file1의 내용물이 앞에, file2의 내용물이 뒤에 가야 합니다.\n",
        "\n",
        "content_merged = file1_content + file2_content"
      ],
      "metadata": {
        "id": "dDFlnnCtbySY"
      },
      "execution_count": null,
      "outputs": []
    },
    {
      "cell_type": "markdown",
      "source": [
        "### 잘했는지 확인하기\n",
        "\n",
        "잘 됐는지 확인해볼까요?\n",
        "아래 코드를 실행했을 때 다음과 같이 출력되어야 합니다.\n",
        "\n",
        "```\n",
        "앞줄:\n",
        "빨간색\n",
        "빨간색\n",
        "\n",
        "빨간색\n",
        "파란색\n",
        "파란색\n",
        "\n",
        "뒷줄:\n",
        "초록색\n",
        "파란색\n",
        "빨간색\n",
        "빨간색\n",
        "파란색\n",
        "```"
      ],
      "metadata": {
        "id": "AxMu_py8caHF"
      }
    },
    {
      "cell_type": "code",
      "source": [
        "print(\"앞줄:\")\n",
        "print(content_merged[:20])\n",
        "\n",
        "print(\"\\n뒷줄:\")\n",
        "print(content_merged[-20:])"
      ],
      "metadata": {
        "id": "ec1dg_I_f5Gt",
        "colab": {
          "base_uri": "https://localhost:8080/"
        },
        "outputId": "4dbd7fc5-28fb-4e17-ab86-4bc855d0cce1"
      },
      "execution_count": null,
      "outputs": [
        {
          "output_type": "stream",
          "name": "stdout",
          "text": [
            "앞줄:\n",
            "빨간색\n",
            "빨간색\n",
            "\n",
            "빨간색\n",
            "파란색\n",
            "파란색\n",
            "\n",
            "뒷줄:\n",
            "초록색\n",
            "파란색\n",
            "빨간색\n",
            "빨간색\n",
            "파란색\n",
            "\n"
          ]
        }
      ]
    },
    {
      "cell_type": "markdown",
      "source": [
        "# STEP 3. 새 파일로 만들어주기\n",
        "\n",
        "이제는 왹팀장👽에게 전달할 수 있게 내용물을 파일로 만들어 봅시다."
      ],
      "metadata": {
        "id": "83qQKMRQQp1D"
      }
    },
    {
      "cell_type": "markdown",
      "source": [
        "## 알려줄게요! 새 파일을 만들고 내용물을 쓰는 방법\n",
        "\n",
        "\b내용이 있는 파일을 쓰려면 다음 두 단계를 거쳐야 합니다.\n",
        "\n",
        "1. [open(어쩌고, \"w+\")](https://docs.python.org/3/library/functions.html#open)을 이용하여 파일을 **만든다**\n",
        "    * 첫 번째 파라미터인(`어쩌고`가 들어있는 곳) 파일의 경로를 넣어주어야 한다.\n",
        "    * 두 번째 파라미터에 들어간 `'w+'`은 파일을 \"읽고 쓰기 권한\"으로 열고, 이미 파일이 존재한다면 기존의 내용물을 새 걸로 덮어쓰겠다는 뜻이다.\n",
        "2. `.write(어쩌고)` 를 이용해서 파일에 내용물을 **쓴다**\n",
        "    * 이때 `어쩌고`에는 파일에 쓸 내용을 입력해야 한다.\n",
        "\n",
        "예시: myfile.txt 파일을 만들고, 거기에 hello를 쓰는 코드\n",
        "\n",
        "```\n",
        "# 파일을 연다.\n",
        "f = open('myfile.txt', 'w+')\n",
        "# 연 파일에 hello를 쓴다.\n",
        "f.write(\"hello\")\n",
        "```"
      ],
      "metadata": {
        "id": "4BHqpqp7g2wS"
      }
    },
    {
      "cell_type": "markdown",
      "source": [
        "## 예시\n",
        "\n"
      ],
      "metadata": {
        "id": "1Gz0aauNg2mZ"
      }
    },
    {
      "cell_type": "markdown",
      "source": [
        "### 예시 1: 파일 만들기\n",
        "\n",
        "다음은 dummy.txt라는 파일을 만드는 코드입니다.\n",
        "\n",
        "왼쪽에 위치한 화살표 버튼을 클릭하여 코드를 실행해보세요."
      ],
      "metadata": {
        "id": "0tm2JFfyheFQ"
      }
    },
    {
      "cell_type": "code",
      "source": [
        "# 파일을 만든다. 이미 파일이 있다면 기존의 내용물은 삭제한다.\n",
        "f_dummy = open('dummy.txt', 'w+')"
      ],
      "metadata": {
        "id": "rX-6kO84g12M"
      },
      "execution_count": null,
      "outputs": []
    },
    {
      "cell_type": "markdown",
      "source": [
        "이제 google colab 왼쪽의 파일 네비게이터에서 디렉토리를 뒤져보면 dummy.txt라는 파일이 \b생긴 걸 확인할 수 있을 겁니다.\n",
        "(google drive 상에서는 파일이 바로 나타나지 않을 수 있습니다. google drive는 반영되는데 시간이 좀 걸려요!)"
      ],
      "metadata": {
        "id": "C9g4PN9iik1h"
      }
    },
    {
      "cell_type": "markdown",
      "source": [
        "### 예시 2: 파일에 쓰기\n",
        "\n",
        "다음은 파일에 'abc'라는 글을 쓰는 코드입니다."
      ],
      "metadata": {
        "id": "z_od5IPhi_wm"
      }
    },
    {
      "cell_type": "markdown",
      "source": [
        ""
      ],
      "metadata": {
        "id": "DQeY0vOeXTRT"
      }
    },
    {
      "cell_type": "code",
      "source": [
        "# 파일에 abc를 쓴다.\n",
        "f_dummy.write(\"abc\")"
      ],
      "metadata": {
        "id": "_CY0f20liGwJ",
        "colab": {
          "base_uri": "https://localhost:8080/"
        },
        "outputId": "236a2c58-b32d-456c-a280-e3c698adbc04"
      },
      "execution_count": null,
      "outputs": [
        {
          "output_type": "execute_result",
          "data": {
            "text/plain": [
              "3"
            ]
          },
          "metadata": {},
          "execution_count": 17
        }
      ]
    },
    {
      "cell_type": "markdown",
      "source": [
        "이제 google colab 왼쪽의 파일 네비게이터에서 dummy.txt라는 파일을 더블클릭하면 abc라고 적혀있을 겁니다."
      ],
      "metadata": {
        "id": "tKUu6GVwjOnX"
      }
    },
    {
      "cell_type": "markdown",
      "source": [
        "## 실습 3"
      ],
      "metadata": {
        "id": "p0yy1_4djTUI"
      }
    },
    {
      "cell_type": "markdown",
      "source": [
        "### TODO: 왹팀장👽에게 보낼 파일 만들기\n",
        "\n",
        "우리는 앞서 파일 1과 파일 2의 내용물을 합쳐 `content_merged`라는 변수에 저장했습니다.\n",
        "\n",
        "이제 이 합친 내용물을 merged.txt라는 파일에 저장해주세요."
      ],
      "metadata": {
        "id": "ZX7bOIZFjW9q"
      }
    },
    {
      "cell_type": "code",
      "source": [
        "# TODO: 파일을 만들어주세요\n",
        "f_merged = open(\"merged.txt\", \"w+\")\n",
        "\n",
        "# 파일에 내용물을 써 주세요.\n",
        "f_merged.write(content_merged)"
      ],
      "metadata": {
        "id": "2iGz_TGQjSeN",
        "colab": {
          "base_uri": "https://localhost:8080/"
        },
        "outputId": "443d6613-3a98-41ca-fba6-7ff8edf28b20"
      },
      "execution_count": null,
      "outputs": [
        {
          "output_type": "execute_result",
          "data": {
            "text/plain": [
              "802254594"
            ]
          },
          "metadata": {},
          "execution_count": 19
        }
      ]
    },
    {
      "cell_type": "markdown",
      "source": [
        "### 잘했는지 확인하기\n",
        "\n",
        "구글 드라이브에서 페이지를 새로고치고, 다음을 확인해주세요.\n",
        "\n",
        "* colab에서 코드를 돌린 후 하단에 큰 숫자가 나왔는가? (700,000,000 이상이면 OK)\n",
        "* google colab 왼쪽의 파일 네비게이터에서 merged.txt라는 파일이 생겼는가?\n"
      ],
      "metadata": {
        "id": "hHwNLCVykm1O"
      }
    },
    {
      "cell_type": "markdown",
      "source": [
        "# 후기 \n",
        "\n",
        "> 👀: 파일은 무사히 잘 전달했다. 파이썬을 알아둬서 참 다행이야. 줄 바꿈(엔터)가 여러 번 들어간 항목이 있는 게 이상하긴 한데.. 뭐.. 원본 파일이 그런 거니까 괜찮겠지? 근데 왜 이렇게 찝찝하지...?"
      ],
      "metadata": {
        "id": "GO8XB9TJq6dr"
      }
    }
  ]
}