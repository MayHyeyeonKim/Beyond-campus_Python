{
  "nbformat": 4,
  "nbformat_minor": 0,
  "metadata": {
    "colab": {
      "name": "3_sort_by_address의 사본",
      "provenance": [],
      "collapsed_sections": [],
      "include_colab_link": true
    },
    "kernelspec": {
      "name": "python3",
      "display_name": "Python 3"
    },
    "language_info": {
      "name": "python"
    }
  },
  "cells": [
    {
      "cell_type": "markdown",
      "metadata": {
        "id": "view-in-github",
        "colab_type": "text"
      },
      "source": [
        "<a href=\"https://colab.research.google.com/github/MayHyeyeonKim/Beyond-campus_Python/blob/main/week4_3_sort_by_address%EC%9D%98_%EC%82%AC%EB%B3%B8.ipynb\" target=\"_parent\"><img src=\"https://colab.research.google.com/assets/colab-badge.svg\" alt=\"Open In Colab\"/></a>"
      ]
    },
    {
      "cell_type": "markdown",
      "source": [
        "# 입사 D+3: 점심\n",
        "\n",
        "> 곰대리🐼: 안녕하세요. 어제 주신 파일은 잘 받았어요. 그런데 제가 빼먹은 게 있더라고요. 왹팀장👽이 없어져서 정신이 없네요... 택배를 빨리 보내려면 운송장 정보가 같은 주소끼리 붙어있어야해요. 두 번 일하게 해서 미안하지만, 파일을 주소순으로 나오게 만들어주시겠어요?\n",
        "\n",
        "> 멍팀장🐶: 필요한 건 내가 알려줄게요\n",
        "\n",
        "> 👀: 네!"
      ],
      "metadata": {
        "id": "2E0yK3klJwWP"
      }
    },
    {
      "cell_type": "markdown",
      "source": [
        "# 할 일: 주소순으로 정렬하기\n",
        "\n",
        "아래와 같은 파일이 주어졌을 때\n",
        "\n",
        "```\n",
        "양준성,빨간색,대전광역시\n",
        "박운비,빨간색,대구광역시\n",
        "김나숙,빨간색,광주광역시\n",
        "박아은,빨간색,인천광역시\n",
        "지성원,빨간색,인천광역시\n",
        "권지비,빨간색,대전광역시\n",
        "김세비,빨간색,부산광역시\n",
        "이하라,빨간색,부산광역시\n",
        "배주연,빨간색,광주광역시\n",
        "이재하,빨간색,광주광역시\n",
        "백동하,빨간색,서울특별시\n",
        "김효수,빨간색,서울특별시\n",
        "최면하,빨간색,인천광역시\n",
        "우은다,빨간색,광주광역시\n",
        "이수비,빨간색,대전광역시\n",
        "김승지,빨간색,부산광역시\n",
        "노지성,빨간색,서울특별시\n",
        "이당하,빨간색,울산광역시\n",
        "조견하,빨간색,대구광역시\n",
        "```\n",
        "\n",
        "다음과 같이 파일 내용물이 주소순으로 나오게 만들자\n",
        "\n",
        "```\n",
        "김나숙,빨간색,광주광역시\n",
        "배주연,빨간색,광주광역시\n",
        "이재하,빨간색,광주광역시\n",
        "우은다,빨간색,광주광역시\n",
        "박운비,빨간색,대구광역시\n",
        "조견하,빨간색,대구광역시\n",
        "양준성,빨간색,대전광역시\n",
        "권지비,빨간색,대전광역시\n",
        "이수비,빨간색,대전광역시\n",
        "김세비,빨간색,부산광역시\n",
        "이하라,빨간색,부산광역시\n",
        "김승지,빨간색,부산광역시\n",
        "백동하,빨간색,서울특별시\n",
        "김효수,빨간색,서울특별시\n",
        "노지성,빨간색,서울특별시\n",
        "이당하,빨간색,울산광역시\n",
        "박아은,빨간색,인천광역시\n",
        "지성원,빨간색,인천광역시\n",
        "최면하,빨간색,인천광역시\n",
        "```"
      ],
      "metadata": {
        "id": "LRlmjUvxXWmm"
      }
    },
    {
      "cell_type": "markdown",
      "source": [
        "# STEP 1. 문자열을 줄 단위로 쪼개기\n",
        "\n",
        "우리는 각 줄을 주소를 기준으로 정렬해야 합니다.\n",
        "따라서 우선 문자열 하나를 줄(\"\\n\") 단위로 잘라야 합니다.\n"
      ],
      "metadata": {
        "id": "0uq2zt3RrpzO"
      }
    },
    {
      "cell_type": "markdown",
      "source": [
        "## 실습 1"
      ],
      "metadata": {
        "id": "T-qIgSCCwZSd"
      }
    },
    {
      "cell_type": "markdown",
      "source": [
        "### TODO: 문자열을 줄 단위로 나누기\n",
        "\n",
        "주어진 문자열을 줄 단위로 쪼개, 리스트 형식으로 만들어 변수 `lines`에 저장해주세요.\n",
        "\n",
        "\\[복습\\] `.splitlines()`를 사용하면 문자열을 줄 단위로 자를 수 있습니다."
      ],
      "metadata": {
        "id": "1xUtDsRPwbEF"
      }
    },
    {
      "cell_type": "code",
      "source": [
        "content = \"\"\"양준성,빨간색,대전광역시\n",
        "박운비,빨간색,대구광역시\n",
        "김나숙,빨간색,광주광역시\n",
        "박아은,빨간색,인천광역시\n",
        "지성원,빨간색,인천광역시\n",
        "권지비,빨간색,대전광역시\n",
        "김세비,빨간색,부산광역시\n",
        "이하라,빨간색,부산광역시\n",
        "배주연,빨간색,광주광역시\n",
        "이재하,빨간색,광주광역시\n",
        "백동하,빨간색,서울특별시\n",
        "김효수,빨간색,서울특별시\n",
        "최면하,빨간색,인천광역시\n",
        "우은다,빨간색,광주광역시\n",
        "이수비,빨간색,대전광역시\n",
        "김승지,빨간색,부산광역시\n",
        "노지성,빨간색,서울특별시\n",
        "이당하,빨간색,울산광역시\n",
        "조견하,빨간색,대구광역시\"\"\"\n",
        "\n",
        "# 코드를 작성해주세요\n",
        "lines = content.splitlines()\n",
        "lines[:50]"
      ],
      "metadata": {
        "id": "qaq71-jnwqXA",
        "colab": {
          "base_uri": "https://localhost:8080/"
        },
        "outputId": "fb98011e-0ff4-488c-bef3-549b12110860"
      },
      "execution_count": 1,
      "outputs": [
        {
          "output_type": "execute_result",
          "data": {
            "text/plain": [
              "['양준성,빨간색,대전광역시',\n",
              " '박운비,빨간색,대구광역시',\n",
              " '김나숙,빨간색,광주광역시',\n",
              " '박아은,빨간색,인천광역시',\n",
              " '지성원,빨간색,인천광역시',\n",
              " '권지비,빨간색,대전광역시',\n",
              " '김세비,빨간색,부산광역시',\n",
              " '이하라,빨간색,부산광역시',\n",
              " '배주연,빨간색,광주광역시',\n",
              " '이재하,빨간색,광주광역시',\n",
              " '백동하,빨간색,서울특별시',\n",
              " '김효수,빨간색,서울특별시',\n",
              " '최면하,빨간색,인천광역시',\n",
              " '우은다,빨간색,광주광역시',\n",
              " '이수비,빨간색,대전광역시',\n",
              " '김승지,빨간색,부산광역시',\n",
              " '노지성,빨간색,서울특별시',\n",
              " '이당하,빨간색,울산광역시',\n",
              " '조견하,빨간색,대구광역시']"
            ]
          },
          "metadata": {},
          "execution_count": 1
        }
      ]
    },
    {
      "cell_type": "markdown",
      "source": [
        "# STEP 2: 정렬하기"
      ],
      "metadata": {
        "id": "aSQugS2gw0rc"
      }
    },
    {
      "cell_type": "markdown",
      "source": [
        "## 알려줄게요!: 정렬하는 방법\n",
        "\n",
        "리스트는 [리스트.sort(*, key=None, reverse=False)](https://docs.python.org/3/library/stdtypes.html#list.sort)를 이용하여 정렬할 수 있습니다.\n",
        "\n",
        "* 첫 번째 파라미터(key)는 나중에 설명하겠습니다.\n",
        "* 두 번째 파라미터(reverse)를 `False`로 설정하면 원소가 오름차순으로, `True`로 설정하면 원소가 내림차순으로 정렬됩니다.\n",
        "  * 값을 지정하지 않으면 이 값은 기본으로 False로 설정됩니다.\n",
        "\n",
        "---\n",
        "\n",
        "🔎 알아보기\n",
        "\n",
        "* 작은 값이 앞에 오게 정렬하는 것은 - 오름차순 정렬이라고 합니다(ascending order)\n",
        "  * 문자열의 경우 사전 순이라고 부르기도 함\n",
        "* 큰 값이 앞에 오게 정렬하는 것은 - 내림차순 정렬이라고 합니다(descending order)\n",
        "\n",
        "\n",
        "일단 기본적인 sort를 연습해봅시다."
      ],
      "metadata": {
        "id": "vnsFaQw3YWtw"
      }
    },
    {
      "cell_type": "markdown",
      "source": [
        "## 예시"
      ],
      "metadata": {
        "id": "4bfekbImbSi6"
      }
    },
    {
      "cell_type": "markdown",
      "source": [
        "### 예시 1: 기본 정렬\n",
        "\n",
        "다음은 문자열을 원소로 갖는 리스트를 사전 순으로 정렬하는 코드입니다.\n",
        "\n",
        "왼쪽에 위치한 화살표 버튼을 클릭하여 코드를 실행해보세요."
      ],
      "metadata": {
        "id": "npvehYEDbqx7"
      }
    },
    {
      "cell_type": "code",
      "source": [
        "colors = ['빨간색', '초록색', '파란색', '빨간색', '빨간색', '초록색']\n",
        "\n",
        "print(f\"정렬 전: {colors}\")\n",
        "colors.sort()\n",
        "print(f\"정렬 후: {colors}\")"
      ],
      "metadata": {
        "id": "co_aIe7jSnUv",
        "colab": {
          "base_uri": "https://localhost:8080/"
        },
        "outputId": "7c0b0b40-c7a6-4015-cc88-ff0eba9fc192"
      },
      "execution_count": 2,
      "outputs": [
        {
          "output_type": "stream",
          "name": "stdout",
          "text": [
            "정렬 전: ['빨간색', '초록색', '파란색', '빨간색', '빨간색', '초록색']\n",
            "정렬 후: ['빨간색', '빨간색', '빨간색', '초록색', '초록색', '파란색']\n"
          ]
        }
      ]
    },
    {
      "cell_type": "code",
      "source": [
        "colors = ['빨간색', '초록색', '파란색', '빨간색', '빨간색', '초록색']\n",
        "colors_sorted = list(sorted(colors))\n",
        "\n",
        "print(colors)\n",
        "print(colors_sorted)"
      ],
      "metadata": {
        "colab": {
          "base_uri": "https://localhost:8080/"
        },
        "id": "zUngoiIMe5ig",
        "outputId": "9570ecc2-e6d7-4530-d73a-4d9d1de5f573"
      },
      "execution_count": 3,
      "outputs": [
        {
          "output_type": "stream",
          "name": "stdout",
          "text": [
            "['빨간색', '초록색', '파란색', '빨간색', '빨간색', '초록색']\n",
            "['빨간색', '빨간색', '빨간색', '초록색', '초록색', '파란색']\n"
          ]
        }
      ]
    },
    {
      "cell_type": "code",
      "source": [
        "# 왜 콤마가 있으면 한 줄에 한 개씩 나타나지?\n",
        "list(sorted(\"adsdnj,qludsa,hwi\"))"
      ],
      "metadata": {
        "colab": {
          "base_uri": "https://localhost:8080/"
        },
        "id": "Yk2nr9m7fKlK",
        "outputId": "84b61723-0584-478b-a4a6-54c39f7de257"
      },
      "execution_count": 20,
      "outputs": [
        {
          "output_type": "execute_result",
          "data": {
            "text/plain": [
              "[',',\n",
              " ',',\n",
              " 'a',\n",
              " 'a',\n",
              " 'd',\n",
              " 'd',\n",
              " 'd',\n",
              " 'h',\n",
              " 'i',\n",
              " 'j',\n",
              " 'l',\n",
              " 'n',\n",
              " 'q',\n",
              " 's',\n",
              " 's',\n",
              " 'u',\n",
              " 'w']"
            ]
          },
          "metadata": {},
          "execution_count": 20
        }
      ]
    },
    {
      "cell_type": "code",
      "source": [
        "# 콤마가 없으면 한줄에 모두?\n",
        "list(sorted(\"asbdhkjbdkja\"))"
      ],
      "metadata": {
        "colab": {
          "base_uri": "https://localhost:8080/"
        },
        "id": "SsyX84cYHgKS",
        "outputId": "c0534092-1bee-450a-e5db-e4672bd0fe6b"
      },
      "execution_count": 17,
      "outputs": [
        {
          "output_type": "execute_result",
          "data": {
            "text/plain": [
              "['a', 'a', 'b', 'b', 'd', 'd', 'h', 'j', 'j', 'k', 'k', 's']"
            ]
          },
          "metadata": {},
          "execution_count": 17
        }
      ]
    },
    {
      "cell_type": "markdown",
      "source": [
        "### 예시 2: 내림차순 정렬\n",
        "\n",
        "\n",
        "\n",
        "다음은 문자열을 원소로 갖는 리스트를 내림차순으로 정렬하는 코드입니다.\n",
        "\n",
        "왼쪽에 위치한 화살표 버튼을 클릭하여 코드를 실행해보세요."
      ],
      "metadata": {
        "id": "gEcB7Tha0sPZ"
      }
    },
    {
      "cell_type": "code",
      "source": [
        "colors = ['빨간색', '초록색', '파란색', '빨간색', '빨간색', '초록색']\n",
        "\n",
        "print(f\"정렬 전: {colors}\")\n",
        "colors.sort(reverse=True)\n",
        "print(f\"정렬 후: {colors}\")"
      ],
      "metadata": {
        "id": "A5okpZGN1Jva",
        "colab": {
          "base_uri": "https://localhost:8080/"
        },
        "outputId": "efd12f29-5c7d-401b-de05-df1ed0caf02b"
      },
      "execution_count": 21,
      "outputs": [
        {
          "output_type": "stream",
          "name": "stdout",
          "text": [
            "정렬 전: ['빨간색', '초록색', '파란색', '빨간색', '빨간색', '초록색']\n",
            "정렬 후: ['파란색', '초록색', '초록색', '빨간색', '빨간색', '빨간색']\n"
          ]
        }
      ]
    },
    {
      "cell_type": "markdown",
      "source": [
        "## 실습 2"
      ],
      "metadata": {
        "id": "UVo7OQhrcyh_"
      }
    },
    {
      "cell_type": "markdown",
      "source": [
        "### TODO: 기본 정렬해보기\n",
        "\n",
        "앞서 만든 `lines` 리스트에 `.sort()`를 적용해보세요."
      ],
      "metadata": {
        "id": "MgC8aOxMg4oN"
      }
    },
    {
      "cell_type": "code",
      "source": [
        "# 코드를 작성해주세요.\n",
        "lines.sort()\n"
      ],
      "metadata": {
        "id": "v3EbVFcf711k"
      },
      "execution_count": 22,
      "outputs": []
    },
    {
      "cell_type": "markdown",
      "source": [
        "### 잘했는지 확인하기\n",
        "\n",
        "잘 됐는지 확인해볼까요?\n",
        "아래 코드를 실행했을 때 다음과 같이 표시되어야 합니다.\n",
        "(지금은 주소순이 아니라 이름 순으로 정렬되어 나오는 게 정상입니다)\n",
        "\n",
        "```\n",
        "['권지비,빨간색,대전광역시',\n",
        " '김나숙,빨간색,광주광역시',\n",
        " '김세비,빨간색,부산광역시',\n",
        " '김승지,빨간색,부산광역시',\n",
        " '김효수,빨간색,서울특별시',\n",
        " '노지성,빨간색,서울특별시',\n",
        " '박아은,빨간색,인천광역시',\n",
        " '박운비,빨간색,대구광역시',\n",
        " '배주연,빨간색,광주광역시',\n",
        " '백동하,빨간색,서울특별시',\n",
        " '양준성,빨간색,대전광역시',\n",
        " '우은다,빨간색,광주광역시',\n",
        " '이당하,빨간색,울산광역시',\n",
        " '이수비,빨간색,대전광역시',\n",
        " '이재하,빨간색,광주광역시',\n",
        " '이하라,빨간색,부산광역시',\n",
        " '조견하,빨간색,대구광역시',\n",
        " '지성원,빨간색,인천광역시',\n",
        " '최면하,빨간색,인천광역시']\n",
        "```"
      ],
      "metadata": {
        "id": "QaaoN9gBxfrt"
      }
    },
    {
      "cell_type": "code",
      "source": [
        "lines[:30]"
      ],
      "metadata": {
        "id": "ElThmOEx4YyT",
        "colab": {
          "base_uri": "https://localhost:8080/"
        },
        "outputId": "5371a72f-8e3d-4b69-ad9e-4a58cfb629c9"
      },
      "execution_count": 23,
      "outputs": [
        {
          "output_type": "execute_result",
          "data": {
            "text/plain": [
              "['권지비,빨간색,대전광역시',\n",
              " '김나숙,빨간색,광주광역시',\n",
              " '김세비,빨간색,부산광역시',\n",
              " '김승지,빨간색,부산광역시',\n",
              " '김효수,빨간색,서울특별시',\n",
              " '노지성,빨간색,서울특별시',\n",
              " '박아은,빨간색,인천광역시',\n",
              " '박운비,빨간색,대구광역시',\n",
              " '배주연,빨간색,광주광역시',\n",
              " '백동하,빨간색,서울특별시',\n",
              " '양준성,빨간색,대전광역시',\n",
              " '우은다,빨간색,광주광역시',\n",
              " '이당하,빨간색,울산광역시',\n",
              " '이수비,빨간색,대전광역시',\n",
              " '이재하,빨간색,광주광역시',\n",
              " '이하라,빨간색,부산광역시',\n",
              " '조견하,빨간색,대구광역시',\n",
              " '지성원,빨간색,인천광역시',\n",
              " '최면하,빨간색,인천광역시']"
            ]
          },
          "metadata": {},
          "execution_count": 23
        }
      ]
    },
    {
      "cell_type": "markdown",
      "source": [
        "# STEP 3. 주소순으로 정렬하기(advanced)\n",
        "\n",
        "정렬을 하긴 했는데.. 우리는 이름이 아니라 주소순 으로 정렬을 해야 하지요.\n",
        "\n",
        "[.sort(*, key=None, reverse=False)](https://docs.python.org/3/library/stdtypes.html#list.sort)의 `key` 파라미터를 지정하여 정렬 기준을 따로 설정할 수 있습니다."
      ],
      "metadata": {
        "id": "Wh7G3LGK2hRq"
      }
    },
    {
      "cell_type": "markdown",
      "source": [
        "## 알려줄게요!: key 지정하는 방법\n",
        "\n",
        "원소의 특정 범위를 기준으로 정렬하려면 일반적으로 `lambda`를 사용합니다.\n",
        "\n",
        "글로 설명하긴 어려우니, 예시를 봅시다."
      ],
      "metadata": {
        "id": "2UPnNl6p4-t_"
      }
    },
    {
      "cell_type": "markdown",
      "source": [
        "## 예시"
      ],
      "metadata": {
        "id": "PoZ28o87kfJP"
      }
    },
    {
      "cell_type": "markdown",
      "source": [
        "### 예시 1: 앞에서 2번째 원소를 기준으로 정렬하기\n",
        "\n",
        "다음은 문자열을 원소로 갖는 리스트를 \"문자열의 2번째 문자\"를 기준으로 정렬하는 코드입니다.\n",
        "\n",
        "왼쪽에 위치한 화살표 버튼을 클릭하여 코드를 실행해보세요.\n"
      ],
      "metadata": {
        "id": "ZzSF1YfGlYQH"
      }
    },
    {
      "cell_type": "code",
      "source": [
        "quotes = [\n",
        "    \"Worry less\",\n",
        "    \"Enjoy life\",\n",
        "    \"Love fearlessly\",\n",
        "    \"Dream bird\",\n",
        "    \"Dream big\",\n",
        "    \"Play nice\",\n",
        "    \"Think different\",\n",
        "    \"Stay curious\",\n",
        "    \"Why not?\",\n",
        "    \"Perfectly imperfect\",\n",
        "    \"Exist loudly\",\n",
        "    \"Feel free\",\n",
        "    \"Be kind\",\n",
        "    \"Let go\",\n",
        "    \"Rise above\",\n",
        "    \"Stay classy\",\n",
        "    \"Just imagine\"\n",
        "]\n",
        "\n",
        "quotes.sort(key=lambda element: element[0])\n",
        "print('\\n'.join(quotes))"
      ],
      "metadata": {
        "id": "5Pg8tmjGk8qE",
        "colab": {
          "base_uri": "https://localhost:8080/"
        },
        "outputId": "a863c479-f68d-4342-a96a-d66a8bf053ea"
      },
      "execution_count": 25,
      "outputs": [
        {
          "output_type": "stream",
          "name": "stdout",
          "text": [
            "Be kind\n",
            "Dream bird\n",
            "Dream big\n",
            "Enjoy life\n",
            "Exist loudly\n",
            "Feel free\n",
            "Just imagine\n",
            "Love fearlessly\n",
            "Let go\n",
            "Play nice\n",
            "Perfectly imperfect\n",
            "Rise above\n",
            "Stay curious\n",
            "Stay classy\n",
            "Think different\n",
            "Worry less\n",
            "Why not?\n"
          ]
        }
      ]
    },
    {
      "cell_type": "markdown",
      "source": [
        "### 예시 2: 두 번째 단어를 기준으로 정렬하기\n",
        "\n",
        "다음은 문자열을 원소로 갖는 리스트를 \"문자열의 2번째 단어\"를 기준으로 정렬하는 코드입니다.\n",
        "\n",
        "왼쪽에 위치한 화살표 버튼을 클릭하여 코드를 실행해보세요.\n"
      ],
      "metadata": {
        "id": "WxDO4A2899_s"
      }
    },
    {
      "cell_type": "code",
      "source": [
        "quotes = [\n",
        "    \"Worry less\",\n",
        "    \"Enjoy life\",\n",
        "    \"Love fearlessly\",\n",
        "    \"Dream bird\",\n",
        "    \"Dream big\",\n",
        "    \"Play nice\",\n",
        "    \"Think different\",\n",
        "    \"Stay curious\",\n",
        "    \"Why not?\",\n",
        "    \"Perfectly imperfect\",\n",
        "    \"Exist loudly\",\n",
        "    \"Feel free\",\n",
        "    \"Be kind\",\n",
        "    \"Let go\",\n",
        "    \"Rise above\",\n",
        "    \"Stay classy\",\n",
        "    \"Just imagine\"\n",
        "]\n",
        "\n",
        "quotes.sort(key=lambda element: element.split(\" \")[1])\n",
        "print(\"정렬 후:\")\n",
        "print('\\n'.join(quotes))"
      ],
      "metadata": {
        "id": "9TT37waMbOpT",
        "colab": {
          "base_uri": "https://localhost:8080/"
        },
        "outputId": "a197dce7-1deb-4fd6-cd3b-cd49cbeb9935"
      },
      "execution_count": 26,
      "outputs": [
        {
          "output_type": "stream",
          "name": "stdout",
          "text": [
            "정렬 후:\n",
            "Rise above\n",
            "Dream big\n",
            "Dream bird\n",
            "Stay classy\n",
            "Stay curious\n",
            "Think different\n",
            "Love fearlessly\n",
            "Feel free\n",
            "Let go\n",
            "Just imagine\n",
            "Perfectly imperfect\n",
            "Be kind\n",
            "Worry less\n",
            "Enjoy life\n",
            "Exist loudly\n",
            "Play nice\n",
            "Why not?\n"
          ]
        }
      ]
    },
    {
      "cell_type": "markdown",
      "source": [
        "## 실습 3"
      ],
      "metadata": {
        "id": "AQN_I3XtpxWv"
      }
    },
    {
      "cell_type": "markdown",
      "source": [
        "### TODO: 주소를 기준으로 정렬하기\n",
        "\n",
        "다음과 같은 형태의 리스트, `lines`를 주소를 기준으로 정렬해주세요.\n",
        "\n",
        "\n",
        "```\n",
        "['권지비,빨간색,대전광역시',\n",
        " '김나숙,빨간색,광주광역시',\n",
        " '김세비,빨간색,부산광역시',\n",
        " '김승지,빨간색,부산광역시',\n",
        "...\n",
        "]\n",
        "```\n",
        "\n",
        "힌트: 주소를 기준으로 정렬을 하는 방법\n",
        "\n",
        "* lambda를 사용해서 key 값을 지정해주어야 합니다.\n",
        "* 정렬 기준인 key 값은 각 줄을 \",\"를 기준으로 쪼갠후(split) 마지막 단어여야 합니다.\n",
        "\n",
        "바로 앞에서 실행한 예시 코드를 참고하세요\n"
      ],
      "metadata": {
        "id": "ms9LrretxbNh"
      }
    },
    {
      "cell_type": "code",
      "source": [
        "lines.sort(key=lambda element: element.split(\",\")[-1])\n",
        "print('\\n'.join(lines))"
      ],
      "metadata": {
        "colab": {
          "base_uri": "https://localhost:8080/"
        },
        "id": "UELbWRu5Kztb",
        "outputId": "8df766f3-70e3-4fbc-ca42-c146487c65cb"
      },
      "execution_count": 52,
      "outputs": [
        {
          "output_type": "stream",
          "name": "stdout",
          "text": [
            "김나숙,빨간색,광주광역시\n",
            "배주연,빨간색,광주광역시\n",
            "우은다,빨간색,광주광역시\n",
            "이재하,빨간색,광주광역시\n",
            "박운비,빨간색,대구광역시\n",
            "조견하,빨간색,대구광역시\n",
            "권지비,빨간색,대전광역시\n",
            "양준성,빨간색,대전광역시\n",
            "이수비,빨간색,대전광역시\n",
            "김세비,빨간색,부산광역시\n",
            "김승지,빨간색,부산광역시\n",
            "이하라,빨간색,부산광역시\n",
            "김효수,빨간색,서울특별시\n",
            "노지성,빨간색,서울특별시\n",
            "백동하,빨간색,서울특별시\n",
            "이당하,빨간색,울산광역시\n",
            "박아은,빨간색,인천광역시\n",
            "지성원,빨간색,인천광역시\n",
            "최면하,빨간색,인천광역시\n"
          ]
        }
      ]
    },
    {
      "cell_type": "code",
      "source": [
        "# 코드를 작성해주세요\n",
        "lines.sort(key=lambda element: element.split(\",\")[-1]+ element.split(\",\")[0])\n",
        "print('\\n'.join(lines))"
      ],
      "metadata": {
        "id": "P5JbCBbMxavE",
        "colab": {
          "base_uri": "https://localhost:8080/"
        },
        "outputId": "27d58fd3-d625-4e4d-8fec-7ee2dc7b261c"
      },
      "execution_count": 50,
      "outputs": [
        {
          "output_type": "stream",
          "name": "stdout",
          "text": [
            "김나숙,빨간색,광주광역시\n",
            "배주연,빨간색,광주광역시\n",
            "우은다,빨간색,광주광역시\n",
            "이재하,빨간색,광주광역시\n",
            "박운비,빨간색,대구광역시\n",
            "조견하,빨간색,대구광역시\n",
            "권지비,빨간색,대전광역시\n",
            "양준성,빨간색,대전광역시\n",
            "이수비,빨간색,대전광역시\n",
            "김세비,빨간색,부산광역시\n",
            "김승지,빨간색,부산광역시\n",
            "이하라,빨간색,부산광역시\n",
            "김효수,빨간색,서울특별시\n",
            "노지성,빨간색,서울특별시\n",
            "백동하,빨간색,서울특별시\n",
            "이당하,빨간색,울산광역시\n",
            "박아은,빨간색,인천광역시\n",
            "지성원,빨간색,인천광역시\n",
            "최면하,빨간색,인천광역시\n"
          ]
        }
      ]
    },
    {
      "cell_type": "markdown",
      "source": [
        "### 잘했는지 확인하기\n",
        "\n",
        "잘 됐는지 확인해볼까요?\n",
        "아래 코드를 실행했을 때 다음과 같이 표시되어야 합니다.\n",
        "\n",
        "```\n",
        "김나숙,빨간색,광주광역시\n",
        "배주연,빨간색,광주광역시\n",
        "이재하,빨간색,광주광역시\n",
        "우은다,빨간색,광주광역시\n",
        "박운비,빨간색,대구광역시\n",
        "조견하,빨간색,대구광역시\n",
        "양준성,빨간색,대전광역시\n",
        "권지비,빨간색,대전광역시\n",
        "이수비,빨간색,대전광역시\n",
        "김세비,빨간색,부산광역시\n",
        "이하라,빨간색,부산광역시\n",
        "김승지,빨간색,부산광역시\n",
        "백동하,빨간색,서울특별시\n",
        "김효수,빨간색,서울특별시\n",
        "노지성,빨간색,서울특별시\n",
        "이당하,빨간색,울산광역시\n",
        "박아은,빨간색,인천광역시\n",
        "지성원,빨간색,인천광역시\n",
        "최면하,빨간색,인천광역시\n",
        "```"
      ],
      "metadata": {
        "id": "-6mlTSe7q7HA"
      }
    },
    {
      "cell_type": "code",
      "source": [
        "print(\"\\n\".join(lines))"
      ],
      "metadata": {
        "id": "m-CkckgIkrLq",
        "colab": {
          "base_uri": "https://localhost:8080/"
        },
        "outputId": "44c80fcd-ebc3-446a-be18-87c341f9a4b6"
      },
      "execution_count": null,
      "outputs": [
        {
          "output_type": "stream",
          "name": "stdout",
          "text": [
            "김나숙,빨간색,광주광역시\n",
            "배주연,빨간색,광주광역시\n",
            "우은다,빨간색,광주광역시\n",
            "이재하,빨간색,광주광역시\n",
            "박운비,빨간색,대구광역시\n",
            "조견하,빨간색,대구광역시\n",
            "권지비,빨간색,대전광역시\n",
            "양준성,빨간색,대전광역시\n",
            "이수비,빨간색,대전광역시\n",
            "김세비,빨간색,부산광역시\n",
            "김승지,빨간색,부산광역시\n",
            "이하라,빨간색,부산광역시\n",
            "김효수,빨간색,서울특별시\n",
            "노지성,빨간색,서울특별시\n",
            "백동하,빨간색,서울특별시\n",
            "이당하,빨간색,울산광역시\n",
            "박아은,빨간색,인천광역시\n",
            "지성원,빨간색,인천광역시\n",
            "최면하,빨간색,인천광역시\n"
          ]
        }
      ]
    },
    {
      "cell_type": "markdown",
      "source": [
        "> 멍팀장🐶: 필요한 건 다 알려줬으니, 이제 진짜 파일로 작업해보세요. \n",
        "\n",
        "> 👀: 네. 알겠습니다."
      ],
      "metadata": {
        "id": "j-hG6DpTlJOI"
      }
    }
  ]
}