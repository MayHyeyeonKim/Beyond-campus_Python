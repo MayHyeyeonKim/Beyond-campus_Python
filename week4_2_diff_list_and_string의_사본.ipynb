{
  "nbformat": 4,
  "nbformat_minor": 0,
  "metadata": {
    "colab": {
      "name": "2_diff_list_and_string의 사본",
      "provenance": [],
      "collapsed_sections": [],
      "include_colab_link": true
    },
    "kernelspec": {
      "name": "python3",
      "display_name": "Python 3"
    },
    "language_info": {
      "name": "python"
    }
  },
  "cells": [
    {
      "cell_type": "markdown",
      "metadata": {
        "id": "view-in-github",
        "colab_type": "text"
      },
      "source": [
        "<a href=\"https://colab.research.google.com/github/MayHyeyeonKim/Beyond-campus_Python/blob/main/week4_2_diff_list_and_string%EC%9D%98_%EC%82%AC%EB%B3%B8.ipynb\" target=\"_parent\"><img src=\"https://colab.research.google.com/assets/colab-badge.svg\" alt=\"Open In Colab\"/></a>"
      ]
    },
    {
      "cell_type": "markdown",
      "source": [
        "# 입사 D+3: 오전\n",
        "\n",
        "> 👀: 저.. 멍팀장🐶님. 제가 아직 리스트랑 문자열이 헷갈려요.\n",
        "\n",
        "> 멍팀장🐶: 헷갈릴 수 있죠. 제가 다시 알려줄게요!"
      ],
      "metadata": {
        "id": "Je7kgFUZRYHN"
      }
    },
    {
      "cell_type": "markdown",
      "source": [
        "## List와 String의 차이\n",
        "\n",
        "|               | string                            | list                  |\n",
        "|---------------|-----------------------------------|-----------------------|\n",
        "| 선언하기      | = \"\"                              | = []                  |\n",
        "| 값 추가하기   | += 사용                           | append() 사용         |\n",
        "| len() 결과    | 글자 수를 가져옴                  | 원소 수를 가져옴      |\n",
        "| [1] 결과      | 두 번째 글자를 가져옴             | 두 번째 원소를 가져옴 |\n",
        "| 서로 전환하기 | .splitlines() OR split(sep) | str.join(list)        |"
      ],
      "metadata": {
        "id": "2E0yK3klJwWP"
      }
    },
    {
      "cell_type": "markdown",
      "source": [
        "## 실습 1 - 값 추가하기\n",
        "\n"
      ],
      "metadata": {
        "id": "LRlmjUvxXWmm"
      }
    },
    {
      "cell_type": "markdown",
      "source": [
        "### 문자열에 값 추가하기\n",
        "\n",
        "문자열 \"How are you\"에 값을 추가하여 \"How are you doing?\"이라는 문자열 만들기"
      ],
      "metadata": {
        "id": "UT0nAysvM_kx"
      }
    },
    {
      "cell_type": "code",
      "source": [
        "mystring = \"How are you\"\n",
        "\n",
        "# 코드를 작성해봅시다\n",
        "mystring += \" doing?\"\n",
        "\n",
        "print(mystring)"
      ],
      "metadata": {
        "id": "byBLFKefp-DX",
        "colab": {
          "base_uri": "https://localhost:8080/"
        },
        "outputId": "4eb673f0-0169-4799-e484-96f4c641b073"
      },
      "execution_count": null,
      "outputs": [
        {
          "output_type": "stream",
          "name": "stdout",
          "text": [
            "How are you doing?\n"
          ]
        }
      ]
    },
    {
      "cell_type": "markdown",
      "source": [
        "### 리스트에 값 추가하기\n",
        "\n",
        "리스트 `[\"How\", \"are\", \"you\"]`에 값을 추가하여 `[\"How\", \"are\", \"you\", \"doing?\"]`이라는 리스트 만들기"
      ],
      "metadata": {
        "id": "LnMKuFenNGLF"
      }
    },
    {
      "cell_type": "code",
      "source": [
        "mylist = [\"How\", \"are\", \"you\"]\n",
        "\n",
        "# 코드를 작성해봅시다\n",
        "mylist.append(\"doing?\")\n",
        "\n",
        "print(mylist)"
      ],
      "metadata": {
        "id": "o_0eKfy8M6B5",
        "colab": {
          "base_uri": "https://localhost:8080/"
        },
        "outputId": "10bbca20-f13f-4518-c979-c3823970d32c"
      },
      "execution_count": null,
      "outputs": [
        {
          "output_type": "stream",
          "name": "stdout",
          "text": [
            "['How', 'are', 'you', 'doing?']\n"
          ]
        }
      ]
    },
    {
      "cell_type": "code",
      "source": [
        "mylist = [\"How\", \"are\", \"you\"]\n",
        "\n",
        "# 코드를 작성해봅시다\n",
        "mylist += [\"doing?\"]\n",
        "\n",
        "print(mylist)"
      ],
      "metadata": {
        "colab": {
          "base_uri": "https://localhost:8080/"
        },
        "id": "Tsh6raddZuO5",
        "outputId": "127db414-61f0-42a0-de23-a189a6c9361c"
      },
      "execution_count": null,
      "outputs": [
        {
          "output_type": "stream",
          "name": "stdout",
          "text": [
            "['How', 'are', 'you', 'doing?']\n"
          ]
        }
      ]
    },
    {
      "cell_type": "code",
      "source": [
        "mylist = [\"How\", \"are\", \"you\"]\n",
        "\n",
        "# 코드를 작성해봅시다\n",
        "mylist += [\"doing?\", \"a\", \"b\", \"c\"]\n",
        "\n",
        "print(mylist)"
      ],
      "metadata": {
        "colab": {
          "base_uri": "https://localhost:8080/"
        },
        "id": "s-16pf81Z40Q",
        "outputId": "8335ede1-a34c-4c7b-b967-0d4863977262"
      },
      "execution_count": null,
      "outputs": [
        {
          "output_type": "stream",
          "name": "stdout",
          "text": [
            "['How', 'are', 'you', 'doing?', 'a', 'b', 'c']\n"
          ]
        }
      ]
    },
    {
      "cell_type": "markdown",
      "source": [
        "## 실습 2. len으로 길이 가져오기"
      ],
      "metadata": {
        "id": "8hult_dJoxBM"
      }
    },
    {
      "cell_type": "markdown",
      "source": [
        "### 문자열의 길이"
      ],
      "metadata": {
        "id": "38a87dW4NxsM"
      }
    },
    {
      "cell_type": "code",
      "source": [
        "print(mystring)\n",
        "print(len(mystring))"
      ],
      "metadata": {
        "id": "xXKTmrAwqC6i",
        "colab": {
          "base_uri": "https://localhost:8080/"
        },
        "outputId": "480c6e3f-b690-4ac7-896f-2dacff64abdc"
      },
      "execution_count": null,
      "outputs": [
        {
          "output_type": "stream",
          "name": "stdout",
          "text": [
            "How are you doing?\n",
            "18\n"
          ]
        }
      ]
    },
    {
      "cell_type": "markdown",
      "source": [
        "### 리스트의 길이"
      ],
      "metadata": {
        "id": "jU5vbf_3Nyyk"
      }
    },
    {
      "cell_type": "code",
      "source": [
        "print(mylist)\n",
        "print(len(mylist))"
      ],
      "metadata": {
        "id": "9xURPnrQN17x",
        "colab": {
          "base_uri": "https://localhost:8080/"
        },
        "outputId": "f34e7c46-805e-4df1-eabb-445efd424e24"
      },
      "execution_count": null,
      "outputs": [
        {
          "output_type": "stream",
          "name": "stdout",
          "text": [
            "['How', 'are', 'you', 'doing?', 'a', 'b', 'c']\n",
            "7\n"
          ]
        }
      ]
    },
    {
      "cell_type": "markdown",
      "source": [
        "## 실습 3. N 번째 원소에 접근하기"
      ],
      "metadata": {
        "id": "rOzjTT3crJgG"
      }
    },
    {
      "cell_type": "markdown",
      "source": [
        "### 문자열의 N 번째 원소"
      ],
      "metadata": {
        "id": "OeZom666N8Jx"
      }
    },
    {
      "cell_type": "code",
      "source": [
        "print(mystring[0])\n",
        "print(mystring[1])"
      ],
      "metadata": {
        "id": "6bFfOh3dq-8T",
        "colab": {
          "base_uri": "https://localhost:8080/"
        },
        "outputId": "cd3158d4-9e2e-4833-d66d-7f9e9c75b8c6"
      },
      "execution_count": null,
      "outputs": [
        {
          "output_type": "stream",
          "name": "stdout",
          "text": [
            "H\n",
            "o\n"
          ]
        }
      ]
    },
    {
      "cell_type": "markdown",
      "source": [
        "### 리스트의 N 번째 원소"
      ],
      "metadata": {
        "id": "Agdauu2tOBSb"
      }
    },
    {
      "cell_type": "code",
      "source": [
        "print(mylist[0])\n",
        "print(mylist[1])"
      ],
      "metadata": {
        "id": "SWr03ltej3Qq",
        "colab": {
          "base_uri": "https://localhost:8080/"
        },
        "outputId": "365cb7dc-190b-4953-b8ff-39fd660ec674"
      },
      "execution_count": null,
      "outputs": [
        {
          "output_type": "stream",
          "name": "stdout",
          "text": [
            "How\n",
            "are\n"
          ]
        }
      ]
    },
    {
      "cell_type": "markdown",
      "source": [
        "## [ADVANCED] 문자열을 리스트로 쪼개기, 리스트를 문자열로 합치기"
      ],
      "metadata": {
        "id": "eTFgGTDIow-1"
      }
    },
    {
      "cell_type": "markdown",
      "source": [
        "### 문자열을 리스트로 쪼개기\n",
        "\n",
        "다음 방법을 사용하면 문자열을 리스트로 쪼갤 수 있습니다\n",
        "\n",
        "* 줄 단위로 쪼개기: [str.splitlines()](https://docs.python.org/3/library/stdtypes.html#str.splitlines)\n",
        "* 다른 단위로 쪼개기: [str.split(sep)](https://docs.python.org/3/library/stdtypes.html#str.split)\n"
      ],
      "metadata": {
        "id": "5EA62jv7OnJZ"
      }
    },
    {
      "cell_type": "code",
      "source": [
        "colors = \"파란색\\n초록색\\n노란색\\n검은색\\n흰색\\n오렌지\"\n",
        "colors"
      ],
      "metadata": {
        "id": "mN2dL5cuOm98",
        "colab": {
          "base_uri": "https://localhost:8080/",
          "height": 37
        },
        "outputId": "9b50abf7-3e41-40f7-c43b-3bf5d2c70f7b"
      },
      "execution_count": null,
      "outputs": [
        {
          "output_type": "execute_result",
          "data": {
            "text/plain": [
              "'파란색\\n초록색\\n노란색\\n검은색\\n흰색\\n오렌지'"
            ],
            "application/vnd.google.colaboratory.intrinsic+json": {
              "type": "string"
            }
          },
          "metadata": {},
          "execution_count": 10
        }
      ]
    },
    {
      "cell_type": "code",
      "source": [
        "# \"\\n\" 단위로 문자열을 쪼개는 방법 #1 - splitlines 사용\n",
        "colors.splitlines()"
      ],
      "metadata": {
        "id": "Ksdl5Ho2PhN8",
        "colab": {
          "base_uri": "https://localhost:8080/"
        },
        "outputId": "ab27e191-4577-400f-c0aa-5f6754be0713"
      },
      "execution_count": null,
      "outputs": [
        {
          "output_type": "execute_result",
          "data": {
            "text/plain": [
              "['파란색', '초록색', '노란색', '검은색', '흰색', '오렌지']"
            ]
          },
          "metadata": {},
          "execution_count": 11
        }
      ]
    },
    {
      "cell_type": "code",
      "source": [
        "# \"\\n\" 단위로 문자열을 쪼개는 방법 #2- split(sep) 사용\n",
        "colors.split(\"\\n\")"
      ],
      "metadata": {
        "id": "f1YvWM7sPkFa",
        "colab": {
          "base_uri": "https://localhost:8080/"
        },
        "outputId": "f7e2795d-b68c-4b37-a80c-e14631ae7449"
      },
      "execution_count": null,
      "outputs": [
        {
          "output_type": "execute_result",
          "data": {
            "text/plain": [
              "['파란색', '초록색', '노란색', '검은색', '흰색', '오렌지']"
            ]
          },
          "metadata": {},
          "execution_count": 12
        }
      ]
    },
    {
      "cell_type": "code",
      "source": [
        "# 다르게 접근하기: \"색\\n\"을 기준으로 쪼개기\n",
        "colors.split(\"색\\n\")"
      ],
      "metadata": {
        "id": "UlSxQvOPPsO7",
        "colab": {
          "base_uri": "https://localhost:8080/"
        },
        "outputId": "d5fbc7bc-1ec2-41b9-99b7-d28ab56fb0b4"
      },
      "execution_count": null,
      "outputs": [
        {
          "output_type": "execute_result",
          "data": {
            "text/plain": [
              "['파란', '초록', '노란', '검은', '흰', '오렌지']"
            ]
          },
          "metadata": {},
          "execution_count": 13
        }
      ]
    },
    {
      "cell_type": "code",
      "source": [
        "colors = \"파란색\\n초록색\\n노란색\\n검은색\\n흰색 오렌지\"\n",
        "colors.split()"
      ],
      "metadata": {
        "colab": {
          "base_uri": "https://localhost:8080/"
        },
        "id": "nA7ikQZDbDFd",
        "outputId": "fb4d646b-2aaf-4ddd-db63-63e6b61482e0"
      },
      "execution_count": null,
      "outputs": [
        {
          "output_type": "execute_result",
          "data": {
            "text/plain": [
              "['파란색', '초록색', '노란색', '검은색', '흰색', '오렌지']"
            ]
          },
          "metadata": {},
          "execution_count": 14
        }
      ]
    },
    {
      "cell_type": "markdown",
      "source": [
        "### 리스트를 문자열로 합치기\n",
        "\n",
        "str.join(list)를 사용하면 리스트를 문자열로 합칠 수 있습니다.\n",
        "이때 리스트의 원소 사이에 `str` 값이 들어갑니다."
      ],
      "metadata": {
        "id": "5VjcuVW_Ooz_"
      }
    },
    {
      "cell_type": "code",
      "source": [
        "mylist = ['파란', '초록', '노란', '검은', '흰', '오렌지']\n",
        "mylist"
      ],
      "metadata": {
        "id": "jHJtibqCqDJZ",
        "colab": {
          "base_uri": "https://localhost:8080/"
        },
        "outputId": "b9b6a742-f9e1-4d49-a716-44a94b1ef892"
      },
      "execution_count": null,
      "outputs": [
        {
          "output_type": "execute_result",
          "data": {
            "text/plain": [
              "['파란', '초록', '노란', '검은', '흰', '오렌지']"
            ]
          },
          "metadata": {},
          "execution_count": 15
        }
      ]
    },
    {
      "cell_type": "code",
      "source": [
        "# 줄줄이 이어서 합치기\n",
        "\n",
        "\"\".join(mylist)"
      ],
      "metadata": {
        "id": "A8uEil07QGnz",
        "colab": {
          "base_uri": "https://localhost:8080/",
          "height": 37
        },
        "outputId": "1d84800d-e20a-478c-82fd-b14eaeeea4d6"
      },
      "execution_count": null,
      "outputs": [
        {
          "output_type": "execute_result",
          "data": {
            "text/plain": [
              "'파란초록노란검은흰오렌지'"
            ],
            "application/vnd.google.colaboratory.intrinsic+json": {
              "type": "string"
            }
          },
          "metadata": {},
          "execution_count": 16
        }
      ]
    },
    {
      "cell_type": "code",
      "source": [
        "# 줄 단위(\"\\n\")로 나눠서 합치기\n",
        "\n",
        "\"\\n\".join(mylist)"
      ],
      "metadata": {
        "id": "5KZ68szNQGkr",
        "colab": {
          "base_uri": "https://localhost:8080/",
          "height": 37
        },
        "outputId": "39eba33e-1fbf-4848-e07c-e24c05fe4a2f"
      },
      "execution_count": null,
      "outputs": [
        {
          "output_type": "execute_result",
          "data": {
            "text/plain": [
              "'파란\\n초록\\n노란\\n검은\\n흰\\n오렌지'"
            ],
            "application/vnd.google.colaboratory.intrinsic+json": {
              "type": "string"
            }
          },
          "metadata": {},
          "execution_count": 17
        }
      ]
    },
    {
      "cell_type": "code",
      "source": [
        "# 단어(\" \")로 나눠서 합치기\n",
        "\n",
        "\" \".join(mylist)"
      ],
      "metadata": {
        "id": "vwRJVWUoQRlu",
        "colab": {
          "base_uri": "https://localhost:8080/",
          "height": 37
        },
        "outputId": "a82e1fc9-06d2-4d10-a1f5-3835cad040aa"
      },
      "execution_count": null,
      "outputs": [
        {
          "output_type": "execute_result",
          "data": {
            "text/plain": [
              "'파란 초록 노란 검은 흰 오렌지'"
            ],
            "application/vnd.google.colaboratory.intrinsic+json": {
              "type": "string"
            }
          },
          "metadata": {},
          "execution_count": 18
        }
      ]
    },
    {
      "cell_type": "code",
      "source": [
        "# 다르게 접근하기 - 뒤에 \"색\"을 붙이면서 합치기\n",
        "\n",
        "\"색\\n\".join(mylist)"
      ],
      "metadata": {
        "id": "f3-kF2pFQarm",
        "colab": {
          "base_uri": "https://localhost:8080/",
          "height": 37
        },
        "outputId": "68aec0d3-a0fe-4d5b-8281-b6a89c9fb369"
      },
      "execution_count": null,
      "outputs": [
        {
          "output_type": "execute_result",
          "data": {
            "text/plain": [
              "'파란색\\n초록색\\n노란색\\n검은색\\n흰색\\n오렌지'"
            ],
            "application/vnd.google.colaboratory.intrinsic+json": {
              "type": "string"
            }
          },
          "metadata": {},
          "execution_count": 19
        }
      ]
    }
  ]
}