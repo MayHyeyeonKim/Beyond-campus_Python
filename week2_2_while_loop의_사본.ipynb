{
  "nbformat": 4,
  "nbformat_minor": 0,
  "metadata": {
    "colab": {
      "name": "2_2_while loop의 사본",
      "provenance": [],
      "collapsed_sections": [],
      "include_colab_link": true
    },
    "kernelspec": {
      "name": "python3",
      "display_name": "Python 3"
    },
    "language_info": {
      "name": "python"
    }
  },
  "cells": [
    {
      "cell_type": "markdown",
      "metadata": {
        "id": "view-in-github",
        "colab_type": "text"
      },
      "source": [
        "<a href=\"https://colab.research.google.com/github/MayHyeyeonKim/Beyond-campus_Python/blob/main/week2_2_while_loop%EC%9D%98_%EC%82%AC%EB%B3%B8.ipynb\" target=\"_parent\"><img src=\"https://colab.research.google.com/assets/colab-badge.svg\" alt=\"Open In Colab\"/></a>"
      ]
    },
    {
      "cell_type": "markdown",
      "source": [
        "# 입사 D+1: 점심\n",
        "\n",
        "> 멍팀장🐶: 그럼 어제 짠 코드를 개선하는 방법을 알려줄게요(2)"
      ],
      "metadata": {
        "id": "2E0yK3klJwWP"
      }
    },
    {
      "cell_type": "markdown",
      "source": [
        "# 할 일: `\"\\n\\n\"` 다 없어질 때까지 반복하기"
      ],
      "metadata": {
        "id": "LRlmjUvxXWmm"
      }
    },
    {
      "cell_type": "markdown",
      "source": [
        "# STEP 1. while-loop\n",
        "\n",
        "아래 코드는 문자열에 \"\\n\\n\"를 2번 \"\\n\"로 대체합니다.\n",
        "\n",
        "```python\n",
        "content_cleansed = content_merged.replace(\"\\n\\n\", \"\\n\")\n",
        "content_cleansed = content_cleansed.replace(\"\\n\\n\", \"\\n\")\n",
        "content_cleansed = content_cleansed.replace(\"\\n\\n\", \"\\n\")\n",
        "```\n",
        "\n",
        "**이 코드의 문제점**\n",
        "\n",
        "위\u001d 코드에서는 모든 \"\\n\\n\"가 없어지는 것을 보장하지 않습니다.\n",
        "\n",
        "만약 파일에 line break가 100개씩 연속되어있다면, 코드를 그만큼 많이 호출해주어야겠지요.\n",
        "\n",
        "while-loop를 배워, \"\\n\\n\"가 없을 때까지 \"\\n\\n\"를 \"\\n\"로 대체하는 방법을 알아봅시다."
      ],
      "metadata": {
        "id": "dlzaLHUWvwkA"
      }
    },
    {
      "cell_type": "markdown",
      "source": [
        "## 알려줄게요!: `특정 조건을 만족할 때까지` 반복하기\n",
        "\n",
        "`특정 조건`을 만족할 때까지 어떤 일을 반복하는 while-loop은 다음과 같이 작성합니다.\n",
        "\n",
        "```python\n",
        "while 만족해야 하는 조건:\n",
        "    반복할 코드\n",
        "```"
      ],
      "metadata": {
        "id": "vnsFaQw3YWtw"
      }
    },
    {
      "cell_type": "markdown",
      "source": [
        "## 예시"
      ],
      "metadata": {
        "id": "4bfekbImbSi6"
      }
    },
    {
      "cell_type": "markdown",
      "source": [
        "### 예시 1: 8이 넘는 숫자가 나올 때까지 제비뽑기\n",
        "\n",
        "다음은 1부터 10까지의 수가 들어있는 주머니에서\n",
        "8이 넘는 수가 나올 때까지 숫자를 뽑는 코드입니다.\n",
        "\n",
        "왼쪽에 위치한 화살표 버튼을 클릭하여 코드를 실행해보세요."
      ],
      "metadata": {
        "id": "npvehYEDbqx7"
      }
    },
    {
      "cell_type": "code",
      "source": [
        "from time import sleep\n",
        "from random import randint\n",
        "\n",
        "number = 0\n",
        "while number <= 8:  \n",
        "  number = randint(1, 10) # 1부터 10까지 숫자 중, 임의의 수를 뽑는 코드\n",
        "  print(f\"{number}을/를 뽑았습니다.\")\n",
        "  sleep(1)"
      ],
      "metadata": {
        "id": "uSdxaUddbrLc",
        "colab": {
          "base_uri": "https://localhost:8080/"
        },
        "outputId": "301668a1-54b5-439c-9bb3-02113c6f2aa4"
      },
      "execution_count": null,
      "outputs": [
        {
          "output_type": "stream",
          "name": "stdout",
          "text": [
            "4을/를 뽑았습니다.\n",
            "10을/를 뽑았습니다.\n"
          ]
        }
      ]
    },
    {
      "cell_type": "markdown",
      "source": [
        "## 실습 1"
      ],
      "metadata": {
        "id": "UVo7OQhrcyh_"
      }
    },
    {
      "cell_type": "markdown",
      "source": [
        "### TODO: 같은 문구 20번 출력하기\n",
        "\n",
        "while-loop를 이용해 \"왹팀장 가만 안 둬\"라는 문장을 20번 출력하는 코드를 작성해주세요.\n"
      ],
      "metadata": {
        "id": "MgC8aOxMg4oN"
      }
    },
    {
      "cell_type": "code",
      "source": [
        "number=0\n",
        "while number <20:\n",
        "  number +=1\n",
        "  print(\"왹팀장 가만 안 둬\")\n",
        "\n",
        "\n"
      ],
      "metadata": {
        "id": "v3EbVFcf711k",
        "colab": {
          "base_uri": "https://localhost:8080/"
        },
        "outputId": "d304a508-f6cf-45bc-cdf2-1afabef0a9c3"
      },
      "execution_count": null,
      "outputs": [
        {
          "output_type": "stream",
          "name": "stdout",
          "text": [
            "왹팀장 가만 안 둬\n",
            "왹팀장 가만 안 둬\n",
            "왹팀장 가만 안 둬\n",
            "왹팀장 가만 안 둬\n",
            "왹팀장 가만 안 둬\n",
            "왹팀장 가만 안 둬\n",
            "왹팀장 가만 안 둬\n",
            "왹팀장 가만 안 둬\n",
            "왹팀장 가만 안 둬\n",
            "왹팀장 가만 안 둬\n",
            "왹팀장 가만 안 둬\n",
            "왹팀장 가만 안 둬\n",
            "왹팀장 가만 안 둬\n",
            "왹팀장 가만 안 둬\n",
            "왹팀장 가만 안 둬\n",
            "왹팀장 가만 안 둬\n",
            "왹팀장 가만 안 둬\n",
            "왹팀장 가만 안 둬\n",
            "왹팀장 가만 안 둬\n",
            "왹팀장 가만 안 둬\n"
          ]
        }
      ]
    },
    {
      "cell_type": "markdown",
      "source": [
        "# STEP 2. 특정 값이 있는지 없는지 알려주는 `in`"
      ],
      "metadata": {
        "id": "Sr6yI0j3GNK_"
      }
    },
    {
      "cell_type": "markdown",
      "source": [
        "## 알려줄게요!: \b문자열에 특정 값이 있는지 없는지 확인하는 방법\n",
        "\n",
        "```\n",
        "어쩌고 in 저쩌고\n",
        "```\n",
        "\n",
        "위 코드를 이용하면 `저쩌고`에 `어쩌고`가 들어있는지 확인할 수 있습니다.\n",
        "\n",
        "* `저쩌고`에 `어쩌고`가 들어있다면 `True`가\n",
        "* `저쩌고`에 `어쩌고`가 들어있지 않다면 `False`가 리턴됩니다.\n",
        "\n",
        "반대로, 다음과 같이 `in` 앞에 `not`을 붙이면 \n",
        "\n",
        "```\n",
        "어쩌고 not in 저쩌고\n",
        "```\n",
        "\n",
        "* `저쩌고`에 `어쩌고`가값이 들어있다면 `False`가\n",
        "* `저쩌고`에 `어쩌고`가 들어있지 않다면 `True`가 리턴됩니다.\n",
        "\n",
        "📌 True와 False는 타입이 boolean 값입니다."
      ],
      "metadata": {
        "id": "4mxI_ne5hf2D"
      }
    },
    {
      "cell_type": "markdown",
      "source": [
        "## 예시"
      ],
      "metadata": {
        "id": "U-W5R61oGMq7"
      }
    },
    {
      "cell_type": "markdown",
      "source": [
        "### 예시 1: 문자열에 띄어쓰기 \"Banana\"가 들어있는지 확인하기\n",
        "\n",
        "다음은 문자열에 \"Banana\"가 들어있는지 확인하는 코드입니다.\n",
        "\n",
        "왼쪽에 위치한 화살표 버튼을 클릭하여 코드를 실행해보세요."
      ],
      "metadata": {
        "id": "fu7dGF-Ae1Z8"
      }
    },
    {
      "cell_type": "code",
      "source": [
        "fruits = \"Apple Banana Melon Apple Melon Banana\"\n",
        "print(\"Banana\" in fruits)\n",
        "\n",
        "fruits = \"Apple banana Melon Apple Melon banana\"\n",
        "print(\"Banana\" in fruits)"
      ],
      "metadata": {
        "id": "_ZVJ_de6IGBf",
        "colab": {
          "base_uri": "https://localhost:8080/"
        },
        "outputId": "513c8c13-b450-4d5b-fa1e-97c9262a487d"
      },
      "execution_count": null,
      "outputs": [
        {
          "output_type": "stream",
          "name": "stdout",
          "text": [
            "True\n",
            "False\n"
          ]
        }
      ]
    },
    {
      "cell_type": "markdown",
      "source": [
        "## 실습 2"
      ],
      "metadata": {
        "id": "k4CbWA_shfzt"
      }
    },
    {
      "cell_type": "markdown",
      "source": [
        "### TODO: 문자열에 line break가 있는지 확인하기\n",
        "\n",
        "주어진 문자열에 중복된 line break가 있는지 확인하는 코드를 작성해주세요."
      ],
      "metadata": {
        "id": "tE5RcwA1c0R1"
      }
    },
    {
      "cell_type": "code",
      "source": [
        "content = \"빨강색\\n파란색\\n\\n파란색\\n\\n빨강색\\n\\n초록색\\n초록색\\n\\n빨강색\"\n",
        "\n",
        "# 코드를 작성해주세요.\n",
        "\"\\n\" in content\n"
      ],
      "metadata": {
        "id": "k0cMMbn9JAiG",
        "colab": {
          "base_uri": "https://localhost:8080/"
        },
        "outputId": "ba04e6f4-9565-4215-bf34-2d859bd990ce"
      },
      "execution_count": null,
      "outputs": [
        {
          "output_type": "execute_result",
          "data": {
            "text/plain": [
              "True"
            ]
          },
          "metadata": {},
          "execution_count": 24
        }
      ]
    },
    {
      "cell_type": "markdown",
      "source": [
        "## 실습 3"
      ],
      "metadata": {
        "id": "Il2-7fYi8v_m"
      }
    },
    {
      "cell_type": "markdown",
      "source": [
        "### TODO: 문자열에 중복된 line break가 사라질 때까지 replace 사용하기\n",
        "\n",
        "앞서 배운 while-loop과 `in`을 이용하여, 문자열에 중복된 line break를 모두 제거하는 코드를 작성해주세요."
      ],
      "metadata": {
        "id": "oYYht5JIJb6x"
      }
    },
    {
      "cell_type": "code",
      "source": [
        "content = \"빨간색\\n파란색\\n\\n\\n\\n파란색\\n\\n빨간색\\n\\n\\n초록색\\n초록색\\n\\n\\n\\n\\n\\n빨간색\"\n",
        "print(content)"
      ],
      "metadata": {
        "id": "3f3XVTwtJoB4",
        "colab": {
          "base_uri": "https://localhost:8080/"
        },
        "outputId": "80d9906a-4551-4589-9664-cde56efd0f38"
      },
      "execution_count": null,
      "outputs": [
        {
          "output_type": "stream",
          "name": "stdout",
          "text": [
            "빨간색\n",
            "파란색\n",
            "\n",
            "\n",
            "\n",
            "파란색\n",
            "\n",
            "빨간색\n",
            "\n",
            "\n",
            "초록색\n",
            "초록색\n",
            "\n",
            "\n",
            "\n",
            "\n",
            "\n",
            "빨간색\n"
          ]
        }
      ]
    },
    {
      "cell_type": "code",
      "source": [
        "# 코드를 작성해주세요\n",
        "while \"\\n\\n\" in content:\n",
        "  content = content.replace(\"\\n\\n\",\"\\n\")\n",
        "print(content)\n"
      ],
      "metadata": {
        "id": "ZpqC2BZ7JaL3",
        "colab": {
          "base_uri": "https://localhost:8080/"
        },
        "outputId": "aec03419-90ad-4f68-aeef-28bcc83b4c7a"
      },
      "execution_count": null,
      "outputs": [
        {
          "output_type": "stream",
          "name": "stdout",
          "text": [
            "빨간색\n",
            "파란색\n",
            "파란색\n",
            "빨간색\n",
            "초록색\n",
            "초록색\n",
            "빨간색\n"
          ]
        }
      ]
    },
    {
      "cell_type": "markdown",
      "source": [
        "> 멍팀장🐶: 이걸로 리팩토링에 필요한 건 알려줄 건 다 알려줬어요. 오후에는\b 스스로 작성했던 코드 리팩토링하고, 퇴근하세요. 저는 왹팀장👽한테 좀 따지러 가야겠어요."
      ],
      "metadata": {
        "id": "uO6E3aKguT0h"
      }
    }
  ]
}