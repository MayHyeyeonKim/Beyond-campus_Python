{
  "nbformat": 4,
  "nbformat_minor": 0,
  "metadata": {
    "colab": {
      "name": "1_review_assignment의 사본",
      "provenance": [],
      "collapsed_sections": [],
      "include_colab_link": true
    },
    "kernelspec": {
      "name": "python3",
      "display_name": "Python 3"
    },
    "language_info": {
      "name": "python"
    }
  },
  "cells": [
    {
      "cell_type": "markdown",
      "metadata": {
        "id": "view-in-github",
        "colab_type": "text"
      },
      "source": [
        "<a href=\"https://colab.research.google.com/github/MayHyeyeonKim/Beyond-campus_Python/blob/main/week_4_1_review_assignment%EC%9D%98_%EC%82%AC%EB%B3%B8.ipynb\" target=\"_parent\"><img src=\"https://colab.research.google.com/assets/colab-badge.svg\" alt=\"Open In Colab\"/></a>"
      ]
    },
    {
      "cell_type": "markdown",
      "source": [
        "# 입사 D+2: 오후\n",
        "\n"
      ],
      "metadata": {
        "id": "2E0yK3klJwWP"
      }
    },
    {
      "cell_type": "markdown",
      "source": [
        "# 과제: 운송장에 들어갈 정보를 색깔별로 모으자"
      ],
      "metadata": {
        "id": "LRlmjUvxXWmm"
      }
    },
    {
      "cell_type": "markdown",
      "source": [
        "## 1. 파일 읽기\n",
        "\n",
        "곰대리🐻‍❄️가 준 파일은 week3/surveys.txt 입니다."
      ],
      "metadata": {
        "id": "Rw3NDDHBoxED"
      }
    },
    {
      "cell_type": "code",
      "source": [
        "# 코드를 작성해주세요\n",
        "with open('PythonCourse/week3/surveys.txt') as f:\n",
        "  content = f.read()\n",
        "print(content[:30])"
      ],
      "metadata": {
        "id": "byBLFKefp-DX"
      },
      "execution_count": null,
      "outputs": []
    },
    {
      "cell_type": "markdown",
      "source": [
        "## 2. 줄 단위로 문자열 쪼개기"
      ],
      "metadata": {
        "id": "8hult_dJoxBM"
      }
    },
    {
      "cell_type": "code",
      "source": [
        "# 코드를 작성해주세요\n",
        "content_splited = content.splitlines()\n",
        "content_splited[:30]"
      ],
      "metadata": {
        "id": "xXKTmrAwqC6i"
      },
      "execution_count": null,
      "outputs": []
    },
    {
      "cell_type": "markdown",
      "source": [
        "### 3. 빨간색을 선택한 사람의 정보만 모아서 새 파일 만들기"
      ],
      "metadata": {
        "id": "euk3cs_Oq_DT"
      }
    },
    {
      "cell_type": "markdown",
      "source": [
        "### 3-1. 빨간색을 선택한 사람의 정보만 들어있는 문자열 만들기"
      ],
      "metadata": {
        "id": "rOzjTT3crJgG"
      }
    },
    {
      "cell_type": "code",
      "source": [
        "# 코드를 작성해주세요 - 방법#1. 빈 문자열에 이어붙이기()\n",
        "red_lines = \"\"\n",
        "for line in content_splited:\n",
        "  if \"빨간색\" in line:\n",
        "      red_lines += line + \"\\n\"\n",
        "\n",
        "print(red_lines[:30])"
      ],
      "metadata": {
        "id": "6bFfOh3dq-8T"
      },
      "execution_count": null,
      "outputs": []
    },
    {
      "cell_type": "code",
      "source": [
        "# 코드를 작성해주세요 - 방법#2. 리스트에 append 후 join 하기\n",
        "red_lines = []\n",
        "for line in content_splited:\n",
        "  if \"빨간색\" in line:\n",
        "      red_lines.append(line)\n",
        "\n",
        "print(red_lines[:10])\n",
        "red_lines = \"\\n\".join(red_lines)\n",
        "print(red_lines[:10])"
      ],
      "metadata": {
        "id": "SWr03ltej3Qq"
      },
      "execution_count": null,
      "outputs": []
    },
    {
      "cell_type": "markdown",
      "source": [
        "### 3-2. 문자열을 빨간색.txt 라는 이름으로 저장하기"
      ],
      "metadata": {
        "id": "8g0CJabZrQwi"
      }
    },
    {
      "cell_type": "code",
      "source": [
        "# 코드를 작성해주세요\n",
        "with open(\"PythonCourse/week3/빨간색.txt\", \"w+\") as f:\n",
        "  f.write(red_lines)"
      ],
      "metadata": {
        "id": "iU9ugm9NrVux"
      },
      "execution_count": null,
      "outputs": []
    },
    {
      "cell_type": "markdown",
      "source": [
        "## Last. 나머지 색상으로도\b 파일 만들기\n",
        "\n",
        "파일에 있는 색상은 7개입니다.\n",
        "\n",
        "* 빨간색\n",
        "* 파란색\n",
        "* 초록색\n",
        "* 노란색\n",
        "* 검은색\n",
        "* 흰색\n",
        "* 오렌지\n",
        "\n",
        "빨간색은 이미 진행했으니, 나머지 색상으로도 같은 작업을 진행해주세요."
      ],
      "metadata": {
        "id": "eTFgGTDIow-1"
      }
    },
    {
      "cell_type": "code",
      "source": [
        "# 코드를 작성해주세요\n",
        "colors = [\"파란색\", \"초록색\", \"노란색\", \"검은색\", \"흰색\", \"오렌지\"]\n",
        "for color in colors:\n",
        "  color_lines = []\n",
        "  for line in content_splited:\n",
        "    if color in line:\n",
        "        color_lines.append(line)\n",
        "\n",
        "  print(f'{color}를 선택한 사람: {len(color_lines)} 명')\n",
        "  with open(f\"PythonCourse/week4/originals/{color}.txt\", \"w+\") as f:\n",
        "    f.write(\"\\n\".join(color_lines))"
      ],
      "metadata": {
        "id": "jHJtibqCqDJZ"
      },
      "execution_count": null,
      "outputs": []
    },
    {
      "cell_type": "markdown",
      "source": [
        "> 👀: 곰대리님🐻‍❄️ 말씀하신 일 다 했습니다! 어? 곰대리님 어디 있지?\n",
        "\n",
        "> 곰대리🐼: 오.. 감사합니다.\n",
        "\n",
        "(곰대리는 누적된 스트레스로 인해 다크서클이 심해졌고, 결국 판다가 되어버린 것 같다)"
      ],
      "metadata": {
        "id": "EDFIJBNsrfCU"
      }
    }
  ]
}